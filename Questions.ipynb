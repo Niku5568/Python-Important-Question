{
 "cells": [
  {
   "cell_type": "markdown",
   "id": "af8b14d9-d493-47e2-914a-0a7fd1035034",
   "metadata": {},
   "source": [
    "# check fibanaci series:\n"
   ]
  },
  {
   "cell_type": "code",
   "execution_count": 2,
   "id": "8285a33c-f25e-469b-b90d-4ab3365ff2df",
   "metadata": {},
   "outputs": [
    {
     "name": "stdout",
     "output_type": "stream",
     "text": [
      "0 1 1 2 3 5 "
     ]
    }
   ],
   "source": [
    "a=0\n",
    "b=1\n",
    "for i in range(0,5+1):\n",
    "    print(a,end=\" \")\n",
    "    a,b=b,a+b\n"
   ]
  },
  {
   "cell_type": "code",
   "execution_count": null,
   "id": "578f4a24-d706-4a3b-a75d-64c1abde8766",
   "metadata": {},
   "outputs": [],
   "source": []
  },
  {
   "cell_type": "code",
   "execution_count": 3,
   "id": "5d8cb0af-9925-4e35-935f-b43ff2dc16bd",
   "metadata": {},
   "outputs": [
    {
     "name": "stdin",
     "output_type": "stream",
     "text": [
      "enter number 5\n"
     ]
    },
    {
     "name": "stdout",
     "output_type": "stream",
     "text": [
      "0 1 1 2 3 5 \n"
     ]
    }
   ],
   "source": [
    "n=int(input(\"enter number\"))\n",
    "a=0\n",
    "b=1\n",
    "for i in range(0,n+1):\n",
    "    print(a,end=\" \")\n",
    "    a,b=b,a+b\n",
    "print()"
   ]
  },
  {
   "cell_type": "code",
   "execution_count": 4,
   "id": "3c0a6891-4c21-4c30-8754-301e682b7d7d",
   "metadata": {},
   "outputs": [
    {
     "name": "stdout",
     "output_type": "stream",
     "text": [
      "0 1 1 2 3 5 \n"
     ]
    }
   ],
   "source": [
    "def fibnaci(n):\n",
    "    a=0\n",
    "    b=1\n",
    "    for i in range(0,n+1):\n",
    "        print(a,end=\" \")\n",
    "        a,b=b,a+b\n",
    "    print()\n",
    "\n",
    "fibnaci(5)"
   ]
  },
  {
   "cell_type": "code",
   "execution_count": 5,
   "id": "531a4ca4-5087-4799-bb68-bc45cfc2735d",
   "metadata": {},
   "outputs": [
    {
     "name": "stdin",
     "output_type": "stream",
     "text": [
      "enter number 5\n"
     ]
    },
    {
     "name": "stdout",
     "output_type": "stream",
     "text": [
      "fibnacai series\n",
      "0 1 1 2 3 5 "
     ]
    }
   ],
   "source": [
    "def fib(n):\n",
    "    if n<=1:\n",
    "        return n\n",
    "    else:\n",
    "        return fib(n-1)+fib(n-2)\n",
    "\n",
    "n=int(input(\"enter number\"))\n",
    "if n<=0:\n",
    "    print(\"enter positive numbers\")\n",
    "else:\n",
    "    print(\"fibnacai series\")\n",
    "    for i in range(n+1):\n",
    "        print(fib(i),end=\" \")"
   ]
  },
  {
   "cell_type": "code",
   "execution_count": 6,
   "id": "b16bfa8b-74d3-4200-a15f-0464f4919116",
   "metadata": {},
   "outputs": [
    {
     "data": {
      "text/plain": [
       "5"
      ]
     },
     "execution_count": 6,
     "metadata": {},
     "output_type": "execute_result"
    }
   ],
   "source": [
    "def fib(n):\n",
    "    if n<=1:\n",
    "        return n\n",
    "    else:\n",
    "        return fib(n-1)+fib(n-2)\n",
    "\n",
    "fib(5)"
   ]
  },
  {
   "cell_type": "markdown",
   "id": "e75e2741-28ff-4ade-9fb0-719b4ceff5d0",
   "metadata": {},
   "source": [
    "# Multiplication table"
   ]
  },
  {
   "cell_type": "code",
   "execution_count": 8,
   "id": "2bbf8a09-d4f8-490b-8cdc-dd879b9ba04b",
   "metadata": {},
   "outputs": [
    {
     "name": "stdin",
     "output_type": "stream",
     "text": [
      "enter number 5\n"
     ]
    },
    {
     "name": "stdout",
     "output_type": "stream",
     "text": [
      "5\n",
      "10\n",
      "15\n",
      "20\n",
      "25\n",
      "30\n",
      "35\n",
      "40\n",
      "45\n",
      "50\n"
     ]
    }
   ],
   "source": [
    "n=int(input(\"enter number\"))\n",
    "for i in range(n,n*10+1,n):\n",
    "    print(i)"
   ]
  },
  {
   "cell_type": "code",
   "execution_count": 9,
   "id": "79a508cb-6ca0-4b80-9546-20b9aff0023d",
   "metadata": {},
   "outputs": [
    {
     "name": "stdin",
     "output_type": "stream",
     "text": [
      "enter number 5\n"
     ]
    },
    {
     "name": "stdout",
     "output_type": "stream",
     "text": [
      "5\n",
      "10\n",
      "15\n",
      "20\n",
      "25\n",
      "30\n",
      "35\n",
      "40\n",
      "45\n",
      "50\n"
     ]
    }
   ],
   "source": [
    "def for_single_table(n):\n",
    "    for i in range(n,n*10+1,n):\n",
    "        print(i)\n",
    "\n",
    "n=int(input(\"enter number\"))\n",
    "for_single_table(n)"
   ]
  },
  {
   "cell_type": "code",
   "execution_count": 10,
   "id": "d6f21bab-21db-43ef-8d1d-e483fc5a1381",
   "metadata": {},
   "outputs": [
    {
     "name": "stdin",
     "output_type": "stream",
     "text": [
      "enter number 5\n",
      "enter number 6\n"
     ]
    },
    {
     "name": "stdout",
     "output_type": "stream",
     "text": [
      "5 10 15 20 25 30 35 40 45 50 \n",
      "6 12 18 24 30 36 42 48 54 60 \n"
     ]
    }
   ],
   "source": [
    "s=int(input(\"enter number\"))\n",
    "e=int(input(\"enter number\"))\n",
    "for i in range(s,e+1):\n",
    "    for k in range(i,i*10+1,i):\n",
    "        print(k,end=\" \")\n",
    "    print()\n"
   ]
  },
  {
   "cell_type": "code",
   "execution_count": 86,
   "id": "aed00234-c17a-4a6f-b5cd-2c38d039250d",
   "metadata": {},
   "outputs": [
    {
     "name": "stdin",
     "output_type": "stream",
     "text": [
      "enter number 2\n",
      "enter number 4\n"
     ]
    },
    {
     "name": "stdout",
     "output_type": "stream",
     "text": [
      "2 4 6 8 10 12 14 16 18 20 \n",
      "3 6 9 12 15 18 21 24 27 30 \n",
      "4 8 12 16 20 24 28 32 36 40 \n"
     ]
    }
   ],
   "source": [
    "s=int(input(\"enter number\"))\n",
    "e=int(input(\"enter number\"))\n",
    "for i in range(s,e+1):\n",
    "    for k in range(1,11):\n",
    "        print(k*i,end=\" \")\n",
    "    print()\n"
   ]
  },
  {
   "cell_type": "code",
   "execution_count": 207,
   "id": "2eee6bf2-fa4c-418f-a4de-ccb206078d1c",
   "metadata": {},
   "outputs": [
    {
     "name": "stdin",
     "output_type": "stream",
     "text": [
      "enter number 2\n",
      "enter number 4\n"
     ]
    },
    {
     "name": "stdout",
     "output_type": "stream",
     "text": [
      "2 \t3 \t4 \t\n",
      "4 \t6 \t8 \t\n",
      "6 \t9 \t12 \t\n",
      "8 \t12 \t16 \t\n",
      "10 \t15 \t20 \t\n",
      "12 \t18 \t24 \t\n",
      "14 \t21 \t28 \t\n",
      "16 \t24 \t32 \t\n",
      "18 \t27 \t36 \t\n",
      "20 \t30 \t40 \t\n"
     ]
    }
   ],
   "source": [
    "s=int(input(\"enter number\"))\n",
    "e=int(input(\"enter number\"))\n",
    "for i in range(1,11):\n",
    "    for k in range(s,e+1):\n",
    "        print(k*i,end=\" \\t\")\n",
    "    print()\n"
   ]
  },
  {
   "cell_type": "code",
   "execution_count": 209,
   "id": "a6ba7414-44ea-448f-b290-10fdbd935eba",
   "metadata": {},
   "outputs": [
    {
     "name": "stdout",
     "output_type": "stream",
     "text": [
      "2 \t3 \t4 \t5 \t6 \t7 \t\n",
      "4 \t6 \t8 \t10 \t12 \t14 \t\n",
      "6 \t9 \t12 \t15 \t18 \t21 \t\n",
      "8 \t12 \t16 \t20 \t24 \t28 \t\n",
      "10 \t15 \t20 \t25 \t30 \t35 \t\n",
      "12 \t18 \t24 \t30 \t36 \t42 \t\n",
      "14 \t21 \t28 \t35 \t42 \t49 \t\n",
      "16 \t24 \t32 \t40 \t48 \t56 \t\n",
      "18 \t27 \t36 \t45 \t54 \t63 \t\n",
      "20 \t30 \t40 \t50 \t60 \t70 \t\n"
     ]
    }
   ],
   "source": [
    "def for_table(s,e):\n",
    "    for i in range(1,11):\n",
    "        for k in range(s,e+1):\n",
    "            print(k*i,end=\" \\t\")\n",
    "        print()\n",
    "for_table(2,7)"
   ]
  },
  {
   "cell_type": "raw",
   "id": "cc5827b8-3e98-47e8-959e-19195630862a",
   "metadata": {},
   "source": [
    "while syntax\n",
    "input()\n",
    "i = 1 # if condition true increase the value of i\n",
    "while condition:\n",
    "    operation\n",
    "    increment & decrement\n",
    "\n"
   ]
  },
  {
   "cell_type": "code",
   "execution_count": null,
   "id": "4a76adfe-dd1f-4590-b99c-11d9a19b8d59",
   "metadata": {},
   "outputs": [],
   "source": [
    "n=int(input(\"enter number\"))\n",
    "i=1\n",
    "while i<=10:\n",
    "    print(n,\" x \",i,\" =\",n*i)\n",
    "    i+=1"
   ]
  },
  {
   "cell_type": "code",
   "execution_count": null,
   "id": "fd25fc3f-7b8e-481f-ab9a-068df9f29d90",
   "metadata": {},
   "outputs": [],
   "source": [
    "def while_table(n):\n",
    "    i=1\n",
    "    while i<=10:\n",
    "        print(n,\" x \",i,\" =\",n*i)\n",
    "        i+=1\n",
    "table=int(input(\"enter number\"))\n",
    "while_table(table)"
   ]
  },
  {
   "cell_type": "code",
   "execution_count": null,
   "id": "8b2112f2-eba4-4ce5-a430-6b236c71bf49",
   "metadata": {},
   "outputs": [],
   "source": [
    "n=int(input(\"enter a number here\"))\n",
    "r=int(input(\"enter last range here\"))\n",
    "for i in range(1,r*10+1):\n",
    "    if i%n==0:\n",
    "        print(i)"
   ]
  },
  {
   "cell_type": "code",
   "execution_count": null,
   "id": "822aadc6-4e25-4cdf-8c88-4e8c4c803fb8",
   "metadata": {},
   "outputs": [],
   "source": [
    "n=int(input(\"enter a number here\"))\n",
    "k=list(range(n,n*10+1,n))\n",
    "for i in k:\n",
    "    print(i)"
   ]
  },
  {
   "cell_type": "code",
   "execution_count": null,
   "id": "f9239960-af00-4229-884b-dfaf43614672",
   "metadata": {},
   "outputs": [],
   "source": [
    "n=int(input(\"enter a number here\"))\n",
    "list(range(n,n*10+1,n))\n"
   ]
  },
  {
   "cell_type": "markdown",
   "id": "d95831f5-b09f-4371-a3be-2b010fb0ffef",
   "metadata": {},
   "source": [
    "# prime number"
   ]
  },
  {
   "cell_type": "code",
   "execution_count": 211,
   "id": "cd097dcf-ebc5-4f52-8cb5-d36d8221a107",
   "metadata": {},
   "outputs": [
    {
     "name": "stdin",
     "output_type": "stream",
     "text": [
      "enter number 11\n"
     ]
    },
    {
     "name": "stdout",
     "output_type": "stream",
     "text": [
      "number is prime\n"
     ]
    }
   ],
   "source": [
    "n=int(input(\"enter number\"))\n",
    "b=1\n",
    "for i in range(2,n):\n",
    "    if n%i==0:\n",
    "        b=0\n",
    "    \n",
    "if b==1:\n",
    "    print(\"number is prime\")\n",
    "else:\n",
    "    print(\"number is not prime\")"
   ]
  },
  {
   "cell_type": "code",
   "execution_count": 213,
   "id": "6ea8481b-4402-4eea-ba16-e0a844aecdf1",
   "metadata": {},
   "outputs": [
    {
     "name": "stdout",
     "output_type": "stream",
     "text": [
      "0\n",
      "1\n",
      "2\n",
      "3\n",
      "5\n",
      "7\n",
      "11\n",
      "13\n",
      "17\n",
      "19\n"
     ]
    }
   ],
   "source": [
    "for i in range(0,20):\n",
    "    for k in range(2,i):\n",
    "        b=1\n",
    "        if i%k==0:\n",
    "            b=0\n",
    "            break\n",
    "    if b==1:\n",
    "        print(i)    "
   ]
  },
  {
   "cell_type": "code",
   "execution_count": 215,
   "id": "e8913319-36aa-49bd-8d6e-a1c4dd2661f5",
   "metadata": {},
   "outputs": [
    {
     "name": "stdout",
     "output_type": "stream",
     "text": [
      "1 2 3 5 7 11 13 17 19 23 29 "
     ]
    }
   ],
   "source": [
    "def isprime(s,e):\n",
    "    for i in range(s,e+1):\n",
    "        for k in range(2,i):\n",
    "            global b\n",
    "            b=1\n",
    "            if i%k==0:\n",
    "                b=0\n",
    "                break\n",
    "        if b==1:\n",
    "            print(i, end=\" \")\n",
    "isprime(1,30)"
   ]
  },
  {
   "cell_type": "code",
   "execution_count": null,
   "id": "bfa46298-b456-4deb-8646-08ed6eeb8cc7",
   "metadata": {},
   "outputs": [],
   "source": [
    "def isnotprime(s,e):\n",
    "    for i in range(s,e+1):\n",
    "        for k in range(2,i):\n",
    "            global b\n",
    "            b=1\n",
    "            if i%k==0:\n",
    "                b=0\n",
    "                break\n",
    "        if b!=1:\n",
    "            print(i, end=\" \")\n",
    "isnotprime(2,30)"
   ]
  },
  {
   "cell_type": "markdown",
   "id": "307589d3-01bc-4599-897a-7515d176b795",
   "metadata": {},
   "source": [
    "# sum of digits of all prime number take 2 input from user as n1 and n2 n1 should be greater than 100 and n2 greater than n1\n",
    "\n",
    "\n",
    "\n"
   ]
  },
  {
   "cell_type": "code",
   "execution_count": 219,
   "id": "2f5362ff-5684-43e8-8900-7df73b967d75",
   "metadata": {},
   "outputs": [
    {
     "name": "stdin",
     "output_type": "stream",
     "text": [
      "enter n1 number 153\n",
      "enter n1 number 240\n"
     ]
    },
    {
     "name": "stdout",
     "output_type": "stream",
     "text": [
      "157 prime : digit of sum:  13\n",
      "163 prime : digit of sum:  10\n",
      "167 prime : digit of sum:  14\n",
      "173 prime : digit of sum:  11\n",
      "179 prime : digit of sum:  17\n",
      "181 prime : digit of sum:  10\n",
      "191 prime : digit of sum:  11\n",
      "193 prime : digit of sum:  13\n",
      "197 prime : digit of sum:  17\n",
      "199 prime : digit of sum:  19\n",
      "211 prime : digit of sum:  4\n",
      "223 prime : digit of sum:  7\n",
      "227 prime : digit of sum:  11\n",
      "229 prime : digit of sum:  13\n",
      "233 prime : digit of sum:  8\n",
      "239 prime : digit of sum:  14\n"
     ]
    }
   ],
   "source": [
    "n1=int(input(\"enter n1 number\"))\n",
    "n2=int(input(\"enter n1 number\"))\n",
    "\n",
    "if n1>=100 and n2>n1:\n",
    "    for i in range(n1,n2+1):\n",
    "        b=1\n",
    "        for k in range(2,i):\n",
    "            if i%k==0:\n",
    "                b=0\n",
    "        if b==1:\n",
    "            a=i\n",
    "            s=0\n",
    "            while a>0:\n",
    "                reminder=a%10\n",
    "                s=s+reminder\n",
    "                a=a//10\n",
    "            print(i,\"prime : digit of sum: \",s)\n",
    "else:\n",
    "    print(\"number is invalid\")"
   ]
  },
  {
   "cell_type": "markdown",
   "id": "ba079d0e-286a-4a5f-8eea-c9063dafd4f0",
   "metadata": {},
   "source": [
    "# armstrong number"
   ]
  },
  {
   "cell_type": "code",
   "execution_count": 221,
   "id": "7148ad88-3082-4d64-b75b-8d6555d5e8be",
   "metadata": {},
   "outputs": [
    {
     "name": "stdin",
     "output_type": "stream",
     "text": [
      "enter number 153\n"
     ]
    },
    {
     "name": "stdout",
     "output_type": "stream",
     "text": [
      "153\n",
      "numbe is armstrong\n"
     ]
    }
   ],
   "source": [
    "n=input(\"enter number\")\n",
    "l=len(n)\n",
    "n2=\"\"\n",
    "sum=0\n",
    "for i in n:\n",
    "    n2=int(i)\n",
    "    sum+=int(n2**l)\n",
    "print(sum)\n",
    "    \n",
    "if sum==int(n):\n",
    "    print(\"numbe is armstrong\")\n",
    "else:\n",
    "    print(\"Number is not armstrong\")\n"
   ]
  },
  {
   "cell_type": "code",
   "execution_count": 223,
   "id": "bc6fceb5-1775-4fac-a0b8-9dd5a3bacc98",
   "metadata": {},
   "outputs": [
    {
     "name": "stdout",
     "output_type": "stream",
     "text": [
      "134\n",
      "Number is not armstrong\n"
     ]
    }
   ],
   "source": [
    "def armstrong(n):\n",
    "    j=str(n)\n",
    "    l=len(j)\n",
    "    n2=\"\"\n",
    "    sum=0\n",
    "    for i in j:\n",
    "        n2=int(i)\n",
    "        sum+=int(n2**l)\n",
    "    print(sum)\n",
    "        \n",
    "    if sum==int(j):\n",
    "        print(\"numbe is armstrong\")\n",
    "    else:\n",
    "        print(\"Number is not armstrong\")\n",
    "\n",
    "armstrong(152)    "
   ]
  },
  {
   "cell_type": "code",
   "execution_count": null,
   "id": "eaef0926-b604-4dba-8b6e-332cfbdb3fb4",
   "metadata": {},
   "outputs": [],
   "source": [
    "num =int(input(\"enter a number here:  \"))\n",
    "num2=str(num)\n",
    "print(num2, type(num2))\n",
    "\n",
    "# while part\n",
    "sum=0\n",
    "temp=num\n",
    "while temp>0:\n",
    "    digit=temp%10 # give reminder of the enter value and store it in digit variable\n",
    "    cube=digit**len(num2) # cube of the value\n",
    "    sum=sum+cube # store value of cube in the sum\n",
    "    temp = temp//10 # floor division will give last value as integer.\n",
    "\n",
    "if sum==num:\n",
    "    print(\"number is armstrong\")\n",
    "else:\n",
    "    print(\"number is not armstrong\")"
   ]
  },
  {
   "cell_type": "code",
   "execution_count": null,
   "id": "578f8fc6-7525-4eec-a668-bb1120e85c34",
   "metadata": {},
   "outputs": [],
   "source": [
    "# explanation\n",
    "num =int(input(\"enter a number here:  \"))\n",
    "num2=str(num)\n",
    "print(\"convert num in string\",num2, type(num2))\n",
    "\n",
    "# while part\n",
    "sum=0\n",
    "print(sum)\n",
    "temp=num\n",
    "while temp>0:\n",
    "    digit=temp%10 # give reminder of the enter value and store it in digit variable\n",
    "    print(\"store reminder\",digit,\"\\n\")\n",
    "    length=len(num2)\n",
    "    print(\"length of the value num\",length,\"\\n\")\n",
    "    cube=digit**length # cube of the value\n",
    "    print(\"count len of the digit and multiple it with digit stored value : \",cube,\"\\n\")\n",
    "    sum=sum+cube # store value of cube in the sum\n",
    "    print(\"do the sum of cube value \",sum,\"\\n\")\n",
    "    temp = temp//10 # floor division will give last value as integer.\n",
    "    print(temp)\n",
    "\n",
    "if sum==num:\n",
    "    print(\"number is armstrong\")\n",
    "else:\n",
    "    print(\"number is not armstrong\")"
   ]
  },
  {
   "cell_type": "code",
   "execution_count": null,
   "id": "f0c7160a-be99-4a56-8f55-c5df3092abc5",
   "metadata": {},
   "outputs": [],
   "source": [
    "for num in range(100,10000):\n",
    "    num2=str(num)\n",
    "    sum=0\n",
    "    temp=num\n",
    "    while temp>0:\n",
    "        digit=temp%10 \n",
    "        cube=digit**len(num2) \n",
    "        sum=sum+cube \n",
    "        temp = temp//10 \n",
    "    \n",
    "    if sum==num:\n",
    "        print(num)\n",
    "    # else:\n",
    "    #     print(\"number is not armstrong\")"
   ]
  },
  {
   "cell_type": "markdown",
   "id": "2c23c992-bfc7-46e5-98f2-7ee99c916d3f",
   "metadata": {},
   "source": [
    "# sum of digits of all armstrong number take 2 input from user as n1 and n2 n1 should be greater than 100 and n2 greater than n1\n"
   ]
  },
  {
   "cell_type": "code",
   "execution_count": 225,
   "id": "21b649c5-6faf-4420-ab77-5afb59e2d5bd",
   "metadata": {},
   "outputs": [
    {
     "name": "stdin",
     "output_type": "stream",
     "text": [
      "enter n1 number 120\n",
      "enter n1 number 1000\n"
     ]
    },
    {
     "name": "stdout",
     "output_type": "stream",
     "text": [
      "153 Armstrong : digit sum 9\n",
      "370 Armstrong : digit sum 10\n",
      "371 Armstrong : digit sum 11\n",
      "407 Armstrong : digit sum 11\n"
     ]
    }
   ],
   "source": [
    "n1=int(input(\"enter n1 number\"))\n",
    "n2=int(input(\"enter n1 number\"))\n",
    "\n",
    "if n1>=100 and n2>n1:\n",
    "    for num in range(n1,n2):\n",
    "        num2=str(num)\n",
    "        sum=0\n",
    "        temp=num\n",
    "        while temp>0:\n",
    "            digit=temp%10 \n",
    "            cube=digit**len(num2) \n",
    "            sum=sum+cube \n",
    "            temp = temp//10 \n",
    "        \n",
    "        if sum==num:\n",
    "            a=num\n",
    "            ds=0\n",
    "            while a>0:\n",
    "                ds=ds+a%10\n",
    "                a=a//10\n",
    "            print(num,\"Armstrong : digit sum\",ds)\n",
    "else:\n",
    "    print(\"Invalid number\")"
   ]
  },
  {
   "cell_type": "code",
   "execution_count": null,
   "id": "3f02f036-f2bb-4e82-ade5-bf7c44b09507",
   "metadata": {},
   "outputs": [],
   "source": []
  },
  {
   "cell_type": "markdown",
   "id": "2a37b60c-f9a8-4b71-ab71-0b12c2d145b9",
   "metadata": {},
   "source": [
    "# factorial"
   ]
  },
  {
   "cell_type": "code",
   "execution_count": null,
   "id": "3a7ea690-4d8c-4aa0-997d-26a2082c9521",
   "metadata": {},
   "outputs": [],
   "source": [
    "n=int(input(\"enter a number here\"))\n",
    "fact=1\n",
    "for i in range(1,n+1):\n",
    "    fact=i*fact\n",
    "print(fact)"
   ]
  },
  {
   "cell_type": "code",
   "execution_count": null,
   "id": "9da4764d-369c-4faa-857d-c4036cf0e2b5",
   "metadata": {},
   "outputs": [],
   "source": [
    "def fact(n):\n",
    "    fact=1\n",
    "    for i in range(1,n+1):\n",
    "        fact=i*fact\n",
    "    print(fact)\n",
    "\n",
    "fact(5)"
   ]
  },
  {
   "cell_type": "code",
   "execution_count": null,
   "id": "4996b327-0017-4998-b8bf-32032c82088c",
   "metadata": {},
   "outputs": [],
   "source": [
    "k=int(input(\"enter a number here\"))\n",
    "for n in range(1,k+1):\n",
    "    fact=1\n",
    "    for i in range(1,n+1):\n",
    "        fact=i*fact\n",
    "    print(\"Factorial of \",i,\" = \",fact)"
   ]
  },
  {
   "cell_type": "markdown",
   "id": "b7b33cfb-1c0b-402e-9804-79bc3a4e19fc",
   "metadata": {},
   "source": [
    "# natural numbers"
   ]
  },
  {
   "cell_type": "code",
   "execution_count": 229,
   "id": "2225bece-140f-4364-bc21-ee9578def157",
   "metadata": {},
   "outputs": [
    {
     "name": "stdin",
     "output_type": "stream",
     "text": [
      "enter a number here -2\n"
     ]
    },
    {
     "name": "stdout",
     "output_type": "stream",
     "text": [
      "not natural numbers\n"
     ]
    }
   ],
   "source": [
    "n=int(input(\"enter a number here\"))\n",
    "\n",
    "if n>=1:\n",
    "    print(\"natural number\")\n",
    "else:\n",
    "    print(\"not natural numbers\")"
   ]
  },
  {
   "cell_type": "markdown",
   "id": "b1c3a7ca-a2ce-4fd0-ad53-ee101b0c5b24",
   "metadata": {},
   "source": [
    "# square root"
   ]
  },
  {
   "cell_type": "code",
   "execution_count": 231,
   "id": "5a316678-cd15-47df-a10e-a95fb10aaaad",
   "metadata": {},
   "outputs": [
    {
     "name": "stdin",
     "output_type": "stream",
     "text": [
      "enter a number here 56\n"
     ]
    },
    {
     "name": "stdout",
     "output_type": "stream",
     "text": [
      "square root of the number 56 is:  7.483314773547883\n"
     ]
    }
   ],
   "source": [
    "n=int(input(\"enter a number here\"))\n",
    "square_root=n**(1/2)\n",
    "print(\"square root of the number\",n,\"is: \", square_root)"
   ]
  },
  {
   "cell_type": "markdown",
   "id": "aa926d89-0c2a-4eee-bbea-7ed3e89bc238",
   "metadata": {},
   "source": [
    "# Question:"
   ]
  },
  {
   "cell_type": "code",
   "execution_count": null,
   "id": "252429f3-75fd-4949-a761-a2a90a3bed5a",
   "metadata": {},
   "outputs": [],
   "source": [
    "Write a function to group elements of a list based on their lengths and store the result in a dictionary.\n",
    "Ex = lst = [\"a\", \"bb\", \"ccc\", \"dd\", \"eee\"]\n",
    "Output: {1: ['a'], 2: ['bb', 'dd'], 3: ['ccc', 'eee']}\n"
   ]
  },
  {
   "cell_type": "code",
   "execution_count": 239,
   "id": "383171ee-2f66-4dab-b6aa-24ac861b3cc9",
   "metadata": {},
   "outputs": [
    {
     "name": "stdout",
     "output_type": "stream",
     "text": [
      "{1: ['a'], 2: ['bb', 'dd'], 3: ['ccc', 'eee']}\n"
     ]
    }
   ],
   "source": [
    "lst = [\"a\", \"bb\", \"ccc\", \"dd\", \"eee\"]\n",
    "b={}\n",
    "for i in lst:\n",
    "    k=len(i)\n",
    "    if k not in b:\n",
    "        b[k]=[i]\n",
    "    else:\n",
    "        b[k].append(i)\n",
    "print(b)"
   ]
  },
  {
   "cell_type": "code",
   "execution_count": null,
   "id": "50875e0c-8e9b-41d7-be86-33148385b87e",
   "metadata": {},
   "outputs": [],
   "source": [
    "8.\tWrite a function to combine two dictionaries by adding values for common keys.\n",
    "Ex = dict1 = {'a': 1, 'b': 2, 'c': 3} dict2 = {'b': 3, 'c': 4, 'd': 5} \n",
    "#Output: {'a': 1, 'b': 5, 'c': 7, 'd': 5}\n"
   ]
  },
  {
   "cell_type": "code",
   "execution_count": 249,
   "id": "5930ef27-9620-4d6c-a0d0-b739b9d33088",
   "metadata": {},
   "outputs": [
    {
     "name": "stdout",
     "output_type": "stream",
     "text": [
      "{'c': 7, 'd': 5, 'a': 1, 'b': 5}\n"
     ]
    }
   ],
   "source": [
    "dict1 = {'a': 1, 'b': 2, 'c': 3} \n",
    "dict2 = {'b': 3, 'c': 4, 'd': 5} \n",
    "# Output= {'a': 1, 'b': 5, 'c': 7, 'd': 5}\n",
    "\n",
    "dic={}\n",
    "result= dict1.keys()|dict2.keys()\n",
    "for i in result:\n",
    "    dic[i]=dict1.get(i, 0) + dict2.get(i, 0)\n",
    "\n",
    "print(dic)"
   ]
  },
  {
   "cell_type": "markdown",
   "id": "7a04c391-4f3e-44e2-b20a-641f3401684a",
   "metadata": {},
   "source": [
    "# swap 2 numbers"
   ]
  },
  {
   "cell_type": "code",
   "execution_count": null,
   "id": "2f0b98fb-cc90-4cbd-a8bb-0cd9513bf7be",
   "metadata": {},
   "outputs": [],
   "source": [
    "print(\"swap 2 numbers\")\n",
    "a=25\n",
    "b=100\n",
    "a,b=b,a\n",
    "print(a)\n",
    "print(b)\n",
    "\n",
    "\n",
    "print()\n",
    "print(\"swap 3 numbers\")\n",
    "\n",
    "a=70\n",
    "b=10\n",
    "c=90\n",
    "a,b,c=c,a,b\n",
    "print(a)\n",
    "print(b)\n",
    "print(c)"
   ]
  },
  {
   "cell_type": "code",
   "execution_count": null,
   "id": "38355193-e01d-45a8-9806-05f397f8fd4c",
   "metadata": {},
   "outputs": [],
   "source": []
  },
  {
   "cell_type": "code",
   "execution_count": 251,
   "id": "5a77f6d1-dfbd-40e0-b2f3-2155b34e9bd7",
   "metadata": {},
   "outputs": [
    {
     "data": {
      "text/plain": [
       "36"
      ]
     },
     "execution_count": 251,
     "metadata": {},
     "output_type": "execute_result"
    }
   ],
   "source": [
    "def new(x):\n",
    "    return x**2\n",
    "new(6)"
   ]
  },
  {
   "cell_type": "code",
   "execution_count": null,
   "id": "4c7ec471-9fc0-4a81-8ce1-df7567bf9026",
   "metadata": {},
   "outputs": [],
   "source": []
  },
  {
   "cell_type": "markdown",
   "id": "a3813ce7-3bbb-4729-a130-41d64eef4c82",
   "metadata": {},
   "source": [
    "# find number divisible by another number in range"
   ]
  },
  {
   "cell_type": "code",
   "execution_count": null,
   "id": "cf587945-498e-4227-ba35-e750697f4c48",
   "metadata": {},
   "outputs": [],
   "source": [
    "n=int(input(\"enter a number here\"))\n",
    "r=int(input(\"enter last range here\"))\n",
    "for i in range(1,r+1):\n",
    "    if i%n==0:\n",
    "        print(i)"
   ]
  },
  {
   "cell_type": "code",
   "execution_count": null,
   "id": "f895b5d6-7bb1-4de3-ae24-79b906f2aff0",
   "metadata": {},
   "outputs": [],
   "source": []
  },
  {
   "cell_type": "markdown",
   "id": "131d0bf9-49ad-4cfd-9c85-ea50f3fcd33e",
   "metadata": {},
   "source": [
    "# convert user given decimal number into binary, octal, hexadecimal."
   ]
  },
  {
   "cell_type": "code",
   "execution_count": 253,
   "id": "d53b1fde-1b0a-4688-9cf5-d8aa94d5a873",
   "metadata": {},
   "outputs": [
    {
     "name": "stdin",
     "output_type": "stream",
     "text": [
      "enter a number here 5\n"
     ]
    },
    {
     "name": "stdout",
     "output_type": "stream",
     "text": [
      "5 in binary number is:  0b101\n",
      "5 in octal number is:  0o5\n",
      "5 in hexadecimal number is:  0x5\n"
     ]
    }
   ],
   "source": [
    "n=int(input(\"enter a number here\"))\n",
    "\n",
    "print(n,\"in binary number is: \",bin(n),)\n",
    "print(n,\"in octal number is: \",oct(n),)\n",
    "print(n,\"in hexadecimal number is: \",hex(n),)\n",
    "\n"
   ]
  },
  {
   "cell_type": "code",
   "execution_count": null,
   "id": "33031872-bc7a-4b08-9532-a8f2560ac161",
   "metadata": {},
   "outputs": [],
   "source": []
  },
  {
   "cell_type": "markdown",
   "id": "98481d4b-f4d3-4f95-8153-be4069d4dc73",
   "metadata": {},
   "source": [
    "# Find the ASCII /numeric value of the character like: A-Z, a-z, or any other symbols like: . ,-, =, %, @"
   ]
  },
  {
   "cell_type": "code",
   "execution_count": 255,
   "id": "ee26919c-8089-4f62-8197-e765ac8df1ec",
   "metadata": {},
   "outputs": [
    {
     "name": "stdin",
     "output_type": "stream",
     "text": [
      " a\n"
     ]
    },
    {
     "name": "stdout",
     "output_type": "stream",
     "text": [
      "97\n"
     ]
    }
   ],
   "source": [
    "n=input()\n",
    "print(ord(n))\n",
    "\n"
   ]
  },
  {
   "cell_type": "markdown",
   "id": "8bcd19de-68dd-437e-bebd-dff0be04ea8f",
   "metadata": {},
   "source": [
    "# find the keyboard value on the basis of number entered by user."
   ]
  },
  {
   "cell_type": "code",
   "execution_count": 257,
   "id": "11ad26cc-6c30-425e-913d-463042e52b44",
   "metadata": {},
   "outputs": [
    {
     "name": "stdin",
     "output_type": "stream",
     "text": [
      " 97\n"
     ]
    },
    {
     "name": "stdout",
     "output_type": "stream",
     "text": [
      "a\n"
     ]
    }
   ],
   "source": [
    "n=int(input())\n",
    "print(chr(n))"
   ]
  },
  {
   "cell_type": "markdown",
   "id": "787c95d1-0bff-463a-88f0-b03c4d3a28dc",
   "metadata": {},
   "source": [
    "# find the HCF & LCM /GCD(Greater common divider)"
   ]
  },
  {
   "cell_type": "code",
   "execution_count": null,
   "id": "188fb103-24ab-4d51-a4fa-e54ab66f4834",
   "metadata": {},
   "outputs": [],
   "source": [
    "def findhcf(x,y):\n",
    "    if x>y:\n",
    "        smaller = y\n",
    "    else:\n",
    "        smaller = x\n",
    "    for i in range(1,smaller+1):\n",
    "        if (x%i==0) and (y%i==0):\n",
    "            hcf=i\n",
    "    return hcf\n",
    "\n",
    "print(\"the hcf of the given 2 number is\", findhcf(12,30))"
   ]
  },
  {
   "cell_type": "code",
   "execution_count": null,
   "id": "f57ad91d-693a-40b1-bf2b-c1fd60682bcc",
   "metadata": {},
   "outputs": [],
   "source": [
    "x=int(input(\"enter value of x\"))\n",
    "y=int(input(\"enter value of y\"))\n",
    "print(\"the hcf of the given 2 number is\", findhcf(x,y))"
   ]
  },
  {
   "cell_type": "markdown",
   "id": "a51aa82e-3fcd-4a14-a528-e94fb194226a",
   "metadata": {},
   "source": [
    "# find factor of the user given number"
   ]
  },
  {
   "cell_type": "code",
   "execution_count": 261,
   "id": "7964de77-d901-4f7f-bbeb-ad17fa505a2e",
   "metadata": {},
   "outputs": [
    {
     "name": "stdin",
     "output_type": "stream",
     "text": [
      "enter number 30\n"
     ]
    },
    {
     "name": "stdout",
     "output_type": "stream",
     "text": [
      "1\n",
      "2\n",
      "3\n",
      "5\n",
      "6\n",
      "10\n",
      "15\n",
      "30\n"
     ]
    }
   ],
   "source": [
    "n=int(input(\"enter number\"))\n",
    "for i in range(1,n+1):\n",
    "    if n%i==0:\n",
    "        print(i)"
   ]
  },
  {
   "cell_type": "code",
   "execution_count": null,
   "id": "1a177214-9fc1-4f8d-a374-a915e5686802",
   "metadata": {},
   "outputs": [],
   "source": []
  },
  {
   "cell_type": "markdown",
   "id": "c669e7e2-a3c0-4b72-a5d9-4509ba9e33f2",
   "metadata": {},
   "source": [
    "# display calender by year and month"
   ]
  },
  {
   "cell_type": "code",
   "execution_count": null,
   "id": "9a0ff12b-eaa0-499f-ba07-f43647b40b0f",
   "metadata": {},
   "outputs": [],
   "source": [
    "import calendar\n",
    "year=int(input(\"enter year\"))\n",
    "month=int(input(\"enter month\"))\n",
    "\n",
    "cal= calendar.month(year,month)\n",
    "print(cal)\n"
   ]
  },
  {
   "cell_type": "code",
   "execution_count": null,
   "id": "eafd3fcc-2925-4b49-8dd0-ed2a97655c90",
   "metadata": {},
   "outputs": [],
   "source": []
  },
  {
   "cell_type": "markdown",
   "id": "6434cda6-3e7d-4d88-a858-5acea36ec0b3",
   "metadata": {},
   "source": [
    "# convert number to binary number"
   ]
  },
  {
   "cell_type": "code",
   "execution_count": null,
   "id": "481b65bb-c33d-41b5-99b2-436013fa2e24",
   "metadata": {},
   "outputs": [],
   "source": [
    "def conbinary(n):\n",
    "    if n > 1:\n",
    "        conbinary(n//2)\n",
    "    print(n%2,end=\"\")\n",
    "\n",
    "conbinary(15)\n"
   ]
  },
  {
   "cell_type": "markdown",
   "id": "6e2e831c-70db-418e-b576-654d7cc055f3",
   "metadata": {},
   "source": [
    "# add two matrices"
   ]
  },
  {
   "cell_type": "code",
   "execution_count": 263,
   "id": "4f078163-7814-495c-9bd5-e36c73ca9850",
   "metadata": {},
   "outputs": [
    {
     "name": "stdout",
     "output_type": "stream",
     "text": [
      "[5, 10, 14]\n",
      "[12, 15, 8]\n",
      "[10, 7, 9]\n"
     ]
    }
   ],
   "source": [
    "a=[ [1,5,8],\n",
    "   [4,6,7],\n",
    "   [7,2,3] ]\n",
    "\n",
    "b=[[4,5,6],\n",
    "   [8,9,1],\n",
    "   [3,5,6] ]\n",
    "\n",
    "result=[[0,0,0],\n",
    "        [0,0,0], \n",
    "        [0,0,0] ]\n",
    "\n",
    "for i in range(len(a)):\n",
    "    for j in range(len(a[0])):\n",
    "        result[i][j]=a[i][j]+b[i][j]\n",
    "\n",
    "for r in result:\n",
    "    print(r)"
   ]
  },
  {
   "cell_type": "markdown",
   "id": "ba1d6f6b-a628-4cf1-9875-9671784e558f",
   "metadata": {},
   "source": [
    "# transpose a matrix"
   ]
  },
  {
   "cell_type": "code",
   "execution_count": 265,
   "id": "68f31753-692b-4572-b800-a0b9a175fde4",
   "metadata": {},
   "outputs": [
    {
     "name": "stdout",
     "output_type": "stream",
     "text": [
      "[1, 4]\n",
      "[5, 6]\n",
      "[8, 7]\n"
     ]
    }
   ],
   "source": [
    "a=[ [1,5,8],\n",
    "   [4,6,7]]\n",
    "\n",
    "t=[[0,0],\n",
    "   [0,0],\n",
    "   [0,0] ]\n",
    "\n",
    "for i in range(len(a)):\n",
    "    for k in range(len(a[0])):\n",
    "        t[k][i]=a[i][k]\n",
    "for r in t:\n",
    "    print(r)\n"
   ]
  },
  {
   "cell_type": "code",
   "execution_count": null,
   "id": "06c7da8d-b4b6-4c66-9306-b321071afcbf",
   "metadata": {},
   "outputs": [],
   "source": [
    "# using comprehension\n",
    "\n",
    "a=[ [1,5,8],\n",
    "   [4,6,7]]\n",
    "\n",
    "t=[ [a[k][i] for k in range(len(a))] for i in range(len(a[0]))] \n",
    "print(t)\n",
    "print()\n",
    "for n in t:\n",
    "    print(n)\n"
   ]
  },
  {
   "cell_type": "markdown",
   "id": "30e33c9e-4d78-42ee-ae80-cf47b664a202",
   "metadata": {},
   "source": [
    "# multiply two matrices"
   ]
  },
  {
   "cell_type": "code",
   "execution_count": null,
   "id": "205ee5fd-8765-4578-afe3-4a0dfbb279f9",
   "metadata": {},
   "outputs": [],
   "source": [
    "a=[ [1,5,8],\n",
    "   [4,6,7],\n",
    "   [7,2,3] ]\n",
    "\n",
    "b=[[4,5,6,1],\n",
    "   [8,9,1,4],\n",
    "   [3,5,6,9] ]\n",
    "\n",
    "result=[[0,0,0,0],\n",
    "        [0,0,0,0], \n",
    "        [0,0,0,0] ]\n",
    "\n",
    "for i in range(len(a)):\n",
    "    print(i,\"\\n\")\n",
    "    for j in range(len(b[0])):\n",
    "        print(j,end=\"\\n\")\n",
    "        for k in range(len(b)):\n",
    "            print(k,end=\" \")\n",
    "            result[i][j]=a[i][k]+b[k][j]\n",
    "\n",
    "for r in result:\n",
    "    print(\"\\n\",r)\n"
   ]
  },
  {
   "cell_type": "markdown",
   "id": "d8df10e1-5ae9-49f2-bacc-28dc56af6695",
   "metadata": {},
   "source": [
    "# panlindrom"
   ]
  },
  {
   "cell_type": "code",
   "execution_count": null,
   "id": "e16915bc-7653-4c5e-81ff-e047c6ac8839",
   "metadata": {},
   "outputs": [],
   "source": [
    "text=\"wow\"\n",
    "\n",
    "text2=text[::-1]\n",
    "print(text2)\n",
    "\n",
    "if text==text2:\n",
    "    print(\"palindrom\")  \n",
    "else:\n",
    "    print(\"not palindrom\")"
   ]
  },
  {
   "cell_type": "code",
   "execution_count": null,
   "id": "05d135fc-4e30-4b1f-b088-3525d1be359b",
   "metadata": {},
   "outputs": [],
   "source": [
    "text=\"wow\"\n",
    "\n",
    "print(text2)"
   ]
  },
  {
   "cell_type": "markdown",
   "id": "0b435643-6df1-4464-ad6e-2ea95ce53d1e",
   "metadata": {},
   "source": [
    "# remove punctuation"
   ]
  },
  {
   "cell_type": "code",
   "execution_count": 267,
   "id": "2b9e8160-4de1-43c3-88d3-9991c7da77e7",
   "metadata": {},
   "outputs": [
    {
     "name": "stdin",
     "output_type": "stream",
     "text": [
      "enter your text here to remove puncutation. nishant kumar \"\" @ \n"
     ]
    },
    {
     "name": "stdout",
     "output_type": "stream",
     "text": [
      "nishant kumar \"\"  \n"
     ]
    }
   ],
   "source": [
    "punc=\"\"\"!@#$%^&*()_+<>',.:;''|\\?/{}[`~]-\"\"\"\n",
    "\n",
    "text=input(\"enter your text here to remove puncutation.\")\n",
    "new=\"\"\n",
    "\n",
    "for i in text:\n",
    "    if i not in punc:\n",
    "        new+=i\n",
    "print(new)"
   ]
  },
  {
   "cell_type": "markdown",
   "id": "2b4570fd-71a4-45ae-b7a7-33e9f73c7a8a",
   "metadata": {},
   "source": [
    "# sort words in the aplhabatic orders."
   ]
  },
  {
   "cell_type": "code",
   "execution_count": 269,
   "id": "451ccaf6-8280-40c1-aea3-83e8fcaafa7d",
   "metadata": {},
   "outputs": [
    {
     "name": "stdout",
     "output_type": "stream",
     "text": [
      "['Nishant', 'is', 'a', 'Good', 'boy']\n",
      "['a', 'boy', 'good', 'is', 'nishant']\n"
     ]
    }
   ],
   "source": [
    "a=\"Nishant is a Good boy\"\n",
    "n=a.split()\n",
    "print(n)\n",
    "for i in range(len(n)):\n",
    "    n[i]=n[i].lower()\n",
    "\n",
    "n.sort()\n",
    "print(n)\n"
   ]
  },
  {
   "cell_type": "code",
   "execution_count": 271,
   "id": "694643ce-3860-4152-835f-cf72aa724664",
   "metadata": {},
   "outputs": [
    {
     "name": "stdout",
     "output_type": "stream",
     "text": [
      "['a', 'boy', 'good', 'is', 'nishant']\n",
      "\n",
      "a\n",
      "boy\n",
      "good\n",
      "is\n",
      "nishant\n"
     ]
    }
   ],
   "source": [
    "a=\"Nishant is a Good boy\"\n",
    "a=a.lower()\n",
    "n=a.split()\n",
    "for i in range(len(n)):\n",
    "    n.sort()\n",
    "print(n)\n",
    "print()\n",
    "for k in n:\n",
    "    print(k)"
   ]
  },
  {
   "cell_type": "markdown",
   "id": "647ce3a3-f8c9-47bc-913d-096177a9923e",
   "metadata": {},
   "source": [
    "# illustrate diffrent sets of operators."
   ]
  },
  {
   "cell_type": "code",
   "execution_count": 273,
   "id": "7281d542-a9b0-44be-b8c1-267365ffab26",
   "metadata": {},
   "outputs": [
    {
     "name": "stdout",
     "output_type": "stream",
     "text": [
      "The union between A and B is:  {1, 2, 3, 4, 5, 6, 7, 8, 9} \n",
      "Remove duplicate value and combined two list into 1.\n",
      "\n",
      "The intersection between A and B is:   {8, 9, 3, 6} \n",
      "carry duplicate value\n",
      "\n",
      "The diffrence between A and B is:  {1, 2} \n",
      "check all Value of A in B if value A not found in B will return non duplicate value of A.\n",
      "\n",
      "the symmetric diffrence between A and B is:  {1, 2, 4, 5, 7} \n",
      " remove all duplicate values from A and B and return Non repeting values. \n",
      "\n"
     ]
    }
   ],
   "source": [
    "a={1,2,3,6,8,9}\n",
    "b={3,4,5,6,7,8,9}\n",
    "\n",
    "print(\"The union between A and B is: \", a | b,\"\\nRemove duplicate value and combined two list into 1.\\n\")\n",
    "print(\"The intersection between A and B is:  \",a&b, \"\\ncarry duplicate value\\n\")\n",
    "print(\"The diffrence between A and B is: \",a-b, \"\\ncheck all Value of A in B if value A not found in B will return non duplicate value of A.\\n\")\n",
    "print(\"the symmetric diffrence between A and B is: \",a^b,\"\\n remove all duplicate values from A and B and return Non repeting values. \\n\")\n"
   ]
  },
  {
   "cell_type": "markdown",
   "id": "8d28f319-4df1-47f3-926e-ecdfef3b71cf",
   "metadata": {},
   "source": [
    "# count the number of each vowel"
   ]
  },
  {
   "cell_type": "code",
   "execution_count": 281,
   "id": "4301430f-130d-4892-b12d-3a90846f5d3e",
   "metadata": {},
   "outputs": [
    {
     "name": "stdin",
     "output_type": "stream",
     "text": [
      "enter your text here:  nishant\n"
     ]
    },
    {
     "name": "stdout",
     "output_type": "stream",
     "text": [
      "2\n"
     ]
    }
   ],
   "source": [
    "vowel=\"aeiouAEIOU\"\n",
    "txt=input(\"enter your text here: \")\n",
    "count=0\n",
    "for i in txt:\n",
    "    if i in vowel:\n",
    "        count+=1\n",
    "print(count)"
   ]
  },
  {
   "cell_type": "code",
   "execution_count": 283,
   "id": "d7c773a1-c208-48b8-bef5-b3304c7a473f",
   "metadata": {},
   "outputs": [
    {
     "name": "stdin",
     "output_type": "stream",
     "text": [
      "enter your text here:  Nishant Kumar\n"
     ]
    },
    {
     "name": "stdout",
     "output_type": "stream",
     "text": [
      "nishant kumar\n",
      "{'a': 2, 'e': 0, 'i': 1, 'o': 0, 'u': 1}\n"
     ]
    }
   ],
   "source": [
    "vowel=\"aeiou\"\n",
    "txt=input(\"enter your text here: \") # Nishant\n",
    "txt=txt.casefold() # convert capital letter to small\n",
    "print(txt)\n",
    "count={}.fromkeys(vowel,0) # from key help to store value into dictionary\n",
    "\n",
    "for i in txt: # check value of i in entered text\n",
    "    if i in count: # check value of i in count as count has dictionary {\"a\":0, \"e\":0, \"i\":0, \"o\":0, \"u\":0, }\n",
    "        count[i]+=1 # if value vowel found than value of i check in dictionary and increase the count {\"a\":1, \"e\":0, \"i\":1, \"o\":0, \"u\":0, }\n",
    "print(count) # print {\"a\":1, \"e\":0, \"i\":1, \"o\":0, \"u\":0, }"
   ]
  },
  {
   "cell_type": "code",
   "execution_count": null,
   "id": "06b361fb-bd8b-4d55-86d1-729a89837769",
   "metadata": {},
   "outputs": [],
   "source": [
    "vowel=\"aeiou\"\n",
    "txt=input(\"enter your text here: \") \n",
    "txt=txt.casefold() \n",
    "print(txt)\n",
    "count={keys:sum([1 for i in txt if i ==keys]) for keys in vowel }\n",
    "\n",
    "print(count)"
   ]
  },
  {
   "cell_type": "markdown",
   "id": "1364fd62-889f-4cf2-a7e2-66f6e82e2553",
   "metadata": {},
   "source": [
    "# merge two dictionaries"
   ]
  },
  {
   "cell_type": "code",
   "execution_count": 285,
   "id": "565305b1-e30c-4c7e-ba71-081a935eaa8f",
   "metadata": {},
   "outputs": [
    {
     "name": "stdout",
     "output_type": "stream",
     "text": [
      "{'nishant': 26, 'Niks': 25, 'rahul': 18, 'mansi': 16}\n"
     ]
    }
   ],
   "source": [
    "n={\"nishant\": 26, \"Niks\":25}\n",
    "b={\"rahul\": 18, \"mansi\": 16}\n",
    "\n",
    "print(n|b) "
   ]
  },
  {
   "cell_type": "code",
   "execution_count": 287,
   "id": "44cfe966-f68c-467c-bb5d-24ef5cc71ca8",
   "metadata": {},
   "outputs": [
    {
     "name": "stdout",
     "output_type": "stream",
     "text": [
      "{'nishant': 26, 'Niks': 25, 'rahul': 18, 'mansi': 16}\n"
     ]
    }
   ],
   "source": [
    "n={\"nishant\": 26, \"Niks\":25}\n",
    "b={\"rahul\": 18, \"mansi\": 16}\n",
    "\n",
    "print({**n,**b})"
   ]
  },
  {
   "cell_type": "markdown",
   "id": "8543ca8f-7c92-414f-8b84-67bfa2bf3d41",
   "metadata": {},
   "source": [
    "# Access the list using for loop"
   ]
  },
  {
   "cell_type": "code",
   "execution_count": 289,
   "id": "0c4cd05e-523f-4e13-846f-a9519725bd42",
   "metadata": {},
   "outputs": [
    {
     "name": "stdout",
     "output_type": "stream",
     "text": [
      "0  =  2\n",
      "1  =  6\n",
      "2  =  89\n",
      "3  =  67\n",
      "4  =  54\n",
      "5  =  45\n",
      "6  =  23\n"
     ]
    }
   ],
   "source": [
    "a=[2,6,89,67,54,45,23]\n",
    "\n",
    "for k,i in enumerate(a):\n",
    "    print(k,\" = \",i)"
   ]
  },
  {
   "cell_type": "code",
   "execution_count": 291,
   "id": "a1f9ccf6-a6ba-4df1-888f-964f705c9916",
   "metadata": {},
   "outputs": [
    {
     "name": "stdout",
     "output_type": "stream",
     "text": [
      "0  -  2\n",
      "1  -  6\n",
      "2  -  89\n",
      "3  -  67\n",
      "4  -  54\n",
      "5  -  45\n",
      "6  -  23\n"
     ]
    }
   ],
   "source": [
    "a=[2,6,89,67,54,45,23]\n",
    "\n",
    "for i in range(len(a)):\n",
    "    print(i,\" - \",a[i])"
   ]
  },
  {
   "cell_type": "code",
   "execution_count": null,
   "id": "97698efd-84c2-401e-8822-dcd23e82ae3c",
   "metadata": {},
   "outputs": [],
   "source": []
  },
  {
   "cell_type": "markdown",
   "id": "fad2142a-afcb-4f27-be5d-91c237251dbf",
   "metadata": {},
   "source": [
    "# iterate over dictionary using for loop"
   ]
  },
  {
   "cell_type": "code",
   "execution_count": 293,
   "id": "751b4dc2-3def-4719-81fe-7c4b5f984daf",
   "metadata": {},
   "outputs": [
    {
     "name": "stdout",
     "output_type": "stream",
     "text": [
      "nishant :- niku\n",
      "nikita :- niki\n",
      "nidhi :- shivani\n",
      "chandan :- golu\n"
     ]
    }
   ],
   "source": [
    "friends={\"nishant\":\"niku\", \"nikita\": \"niki\", \"nidhi\": \"shivani\", \"chandan\": \"golu\"}\n",
    "\n",
    "for k, v in friends.items():\n",
    "    print(k,\":-\",v)"
   ]
  },
  {
   "cell_type": "code",
   "execution_count": 295,
   "id": "fbb9a381-0ac0-4aaa-8f85-7f7f4c9ec3a1",
   "metadata": {},
   "outputs": [
    {
     "name": "stdout",
     "output_type": "stream",
     "text": [
      "nishant :  niku\n",
      "nikita :  niki\n",
      "nidhi :  shivani\n",
      "chandan :  golu\n"
     ]
    }
   ],
   "source": [
    "friends={\"nishant\":\"niku\", \"nikita\": \"niki\", \"nidhi\": \"shivani\", \"chandan\": \"golu\"}\n",
    "for i in friends:\n",
    "    print(i,\": \",friends[i])"
   ]
  },
  {
   "cell_type": "markdown",
   "id": "8f49b199-c2ec-4231-abe3-6a09476f29c4",
   "metadata": {},
   "source": [
    "# sort dictionary by values."
   ]
  },
  {
   "cell_type": "code",
   "execution_count": 297,
   "id": "aadbce0e-c41d-45ac-a1a5-66ce7a1f8891",
   "metadata": {},
   "outputs": [
    {
     "name": "stdout",
     "output_type": "stream",
     "text": [
      "[('nikita', 24), ('nishant', 26), ('nidhi', 28), ('chandan', 30), ('niraj', 32)]\n"
     ]
    }
   ],
   "source": [
    "friends={\"chandan\": 30, \"nishant\":26, \"nikita\": 24, \"nidhi\": 28,  \"niraj\": 32}\n",
    "\n",
    "sv=sorted( friends.items(),key = lambda x:x[1] )\n",
    "print(sv)"
   ]
  },
  {
   "cell_type": "code",
   "execution_count": 299,
   "id": "a3ac2443-fe79-4626-8a0c-5b13e513e4f0",
   "metadata": {},
   "outputs": [
    {
     "name": "stdout",
     "output_type": "stream",
     "text": [
      "[24, 26, 28, 30, 32]\n"
     ]
    }
   ],
   "source": [
    "v=sorted(friends.values())\n",
    "print(v)"
   ]
  },
  {
   "cell_type": "markdown",
   "id": "8b1c0c2c-7a5f-4379-9c34-f859982a5e24",
   "metadata": {},
   "source": [
    "# sort the dictionary by keys"
   ]
  },
  {
   "cell_type": "code",
   "execution_count": 301,
   "id": "49c323b6-f6ef-4643-aad5-41fc9a089999",
   "metadata": {},
   "outputs": [
    {
     "name": "stdout",
     "output_type": "stream",
     "text": [
      "[('aaradhya', 1), ('chandan', 30), ('dugu', 28), ('nikita', 24), ('niraj', 32), ('nishant', 26)]\n"
     ]
    }
   ],
   "source": [
    "friends={\"chandan\": 30, \"nishant\":26, \"nikita\": 24, \"dugu\": 28,  \"niraj\": 32,\"aaradhya\": 1}\n",
    "\n",
    "sv=sorted( friends.items(),key = lambda x:x[0] )\n",
    "print(sv)"
   ]
  },
  {
   "cell_type": "code",
   "execution_count": 303,
   "id": "477b2f2c-ce22-4ebf-81dc-c442b664bc36",
   "metadata": {},
   "outputs": [
    {
     "name": "stdout",
     "output_type": "stream",
     "text": [
      "['aaradhya', 'chandan', 'dugu', 'nikita', 'niraj', 'nishant']\n"
     ]
    }
   ],
   "source": [
    "v=sorted(friends.keys())\n",
    "print(v)"
   ]
  },
  {
   "cell_type": "markdown",
   "id": "df8fcd01-a307-4bb8-ba2d-d37b5f5896e1",
   "metadata": {},
   "source": [
    "# concatenate two lists"
   ]
  },
  {
   "cell_type": "code",
   "execution_count": 305,
   "id": "6b6562db-cb9b-4f8a-b7f4-cdff7529f452",
   "metadata": {},
   "outputs": [
    {
     "name": "stdout",
     "output_type": "stream",
     "text": [
      "[1, 2, 3, 4, 5, 6, 7, 8, 9, 10, 11, 12, 13, 14, 15]\n"
     ]
    }
   ],
   "source": [
    "a=[1,2,3,4,5,6]\n",
    "b=[7,8,9,10,11,12,13,14,15]\n",
    "\n",
    "print(a+b)"
   ]
  },
  {
   "cell_type": "code",
   "execution_count": 307,
   "id": "a09b6569-863a-4418-9af2-2c6370c42ec6",
   "metadata": {},
   "outputs": [
    {
     "name": "stdout",
     "output_type": "stream",
     "text": [
      "[1, 9, 3, 8, 5, 6, 'a', 'b', 'c', 'd', 'e', 3, 2, 8, 9, 10, 11, 'a', 'f', 'n']\n"
     ]
    }
   ],
   "source": [
    "a=[1,9,3,8,5,6,\"a\",\"b\",\"c\",\"d\",\"e\"]\n",
    "b=[3,2,8,9,10,11,\"a\",\"f\",\"n\",]\n",
    "\n",
    "a.extend(b)\n",
    "print(a)"
   ]
  },
  {
   "cell_type": "markdown",
   "id": "491b6194-6219-48b5-a5a1-a2e5d9e46aea",
   "metadata": {},
   "source": [
    "# find uniques values in the two lists "
   ]
  },
  {
   "cell_type": "code",
   "execution_count": 309,
   "id": "4ad87546-4e26-4131-9a2b-99fbd3752cc4",
   "metadata": {},
   "outputs": [
    {
     "name": "stdout",
     "output_type": "stream",
     "text": [
      "{1, 2, 3, 5, 6, 'b', 8, 9, 10, 11, 'n', 'a', 'f', 'c', 'd', 'e'}\n"
     ]
    }
   ],
   "source": [
    "a=[1,9,3,8,5,6,\"a\",\"b\",\"c\",\"d\",\"e\"]\n",
    "b=[3,2,8,9,10,11,\"a\",\"f\",\"n\",]\n",
    "\n",
    "d=set(a+b)\n",
    "print(d)"
   ]
  },
  {
   "cell_type": "markdown",
   "id": "2fb94a59-7d06-4b37-811f-07ee6ce92a70",
   "metadata": {},
   "source": [
    "# check if key already exist in dictionary."
   ]
  },
  {
   "cell_type": "code",
   "execution_count": null,
   "id": "57ddc79b-35e7-4071-abea-cb5545e0cfa6",
   "metadata": {},
   "outputs": [],
   "source": [
    "friends={\"nishant\":\"niku\", \"nikita\": \"niki\", \"nidhi\": \"shivani\", \"chandan\": \"golu\"}\n",
    "\n",
    "n=input(\"enter the key here\")\n",
    "\n",
    "for i in friends:\n",
    "    if n in i:\n",
    "        print(n,\"key presented in the dict.\")"
   ]
  },
  {
   "cell_type": "code",
   "execution_count": null,
   "id": "536ec23a-6ff6-49a7-b3a8-79b21600f8c4",
   "metadata": {},
   "outputs": [],
   "source": [
    "friends={\"nishant\":\"niku\", \"nikita\": \"niki\", \"nidhi\": \"shivani\", \"chandan\": \"golu\"}\n",
    "\n",
    "n=input(\"enter the key here\")\n",
    "\n",
    "if n in friends.keys():\n",
    "    print(\"key found\")\n",
    "else:\n",
    "    print(\"not found\")"
   ]
  },
  {
   "cell_type": "markdown",
   "id": "e202252c-fea5-461e-b278-87f392548980",
   "metadata": {},
   "source": [
    "# get the last element of the list"
   ]
  },
  {
   "cell_type": "code",
   "execution_count": 313,
   "id": "3ff35859-5c26-4672-bcd8-9108901a83a2",
   "metadata": {
    "editable": true,
    "slideshow": {
     "slide_type": ""
    },
    "tags": []
   },
   "outputs": [
    {
     "name": "stdout",
     "output_type": "stream",
     "text": [
      "23\n",
      "ultron\n"
     ]
    }
   ],
   "source": [
    "list=[2,4,5,6,76,57,34,89,23]\n",
    "list2=[\"nishant\", \"ironman\",\"huk\",\"thor\",\"baggi\",\"captain america\",\"wanda\",\"ultron\"]\n",
    "print(list[-1])\n",
    "print(list2[-1])"
   ]
  },
  {
   "cell_type": "markdown",
   "id": "2f81f77a-2fa6-4025-a1f5-897bbd756dd2",
   "metadata": {},
   "source": [
    "# get substring of the string"
   ]
  },
  {
   "cell_type": "code",
   "execution_count": 311,
   "id": "958627ca-0720-4b50-8496-81f23fe27c8e",
   "metadata": {},
   "outputs": [
    {
     "name": "stdout",
     "output_type": "stream",
     "text": [
      "data\n"
     ]
    }
   ],
   "source": [
    "list=\"i am data analyst\"\n",
    "substring=\"data\"\n",
    "print(list[5:9])"
   ]
  },
  {
   "cell_type": "markdown",
   "id": "6a7516f0-6019-4368-8a6a-5a73d8bc55df",
   "metadata": {},
   "source": [
    "# randomy selecet emlement from the list"
   ]
  },
  {
   "cell_type": "code",
   "execution_count": 315,
   "id": "058fc6f3-52a1-4216-85c4-227bd818f9c2",
   "metadata": {},
   "outputs": [
    {
     "name": "stdout",
     "output_type": "stream",
     "text": [
      "d\n"
     ]
    }
   ],
   "source": [
    "import random\n",
    "list=[1, 'a', 3, 'b', 5, 6, 'c', 8, 9, 2, 10, 11, 'f', 'n', 'e', 'd']\n",
    "\n",
    "rand=random.choice(list)\n",
    "print(rand)"
   ]
  },
  {
   "cell_type": "markdown",
   "id": "ef648917-456b-49a1-8653-2fa0887470e5",
   "metadata": {},
   "source": [
    "# count the occurence of the items in a list & string"
   ]
  },
  {
   "cell_type": "code",
   "execution_count": 317,
   "id": "c038369a-e1c5-400a-96d5-a255f9e41fa2",
   "metadata": {},
   "outputs": [
    {
     "name": "stdout",
     "output_type": "stream",
     "text": [
      "2\n",
      "\n"
     ]
    },
    {
     "name": "stdin",
     "output_type": "stream",
     "text": [
      "enter your text here nishant\n",
      "find text n\n"
     ]
    },
    {
     "name": "stdout",
     "output_type": "stream",
     "text": [
      "2\n"
     ]
    }
   ],
   "source": [
    "list=[10,20,45,77,90,10,55,34,67,20]\n",
    "\n",
    "occur=list.count(20)\n",
    "print(occur)\n",
    "\n",
    "print()\n",
    "\n",
    "string=input(\"enter your text here\")\n",
    "text=input(\"find text\")\n",
    "st=string.count(text)\n",
    "print(st)"
   ]
  },
  {
   "cell_type": "code",
   "execution_count": 319,
   "id": "44c038be-e1ce-41f4-ba05-e387d93e20b4",
   "metadata": {},
   "outputs": [
    {
     "name": "stdout",
     "output_type": "stream",
     "text": [
      "{10: 2, 20: 2, 45: 1, 77: 1, 90: 1, 55: 1, 34: 1, 67: 1}\n"
     ]
    }
   ],
   "source": [
    "list=[10,20,45,77,90,10,55,34,67,20]\n",
    "kv={}\n",
    "for i in list:\n",
    "    kv[i]=list.count(i)\n",
    "print(kv)"
   ]
  },
  {
   "cell_type": "code",
   "execution_count": null,
   "id": "32e1a47f-592d-4a4c-ba5f-4ebc1a2922ea",
   "metadata": {},
   "outputs": [],
   "source": [
    "list=\"nishant\"\n",
    "kv={}\n",
    "for i in list:\n",
    "    kv[i]=list.count(i)\n",
    "print(kv)"
   ]
  },
  {
   "cell_type": "code",
   "execution_count": null,
   "id": "d72ef8fa-29dc-4426-84e9-96c3d2f657f1",
   "metadata": {},
   "outputs": [],
   "source": [
    "list=[10,20,45,77,90,10,55,34,67,20]\n",
    "\n",
    "for i in list:\n",
    "    print(i,list.count(i))\n"
   ]
  },
  {
   "cell_type": "markdown",
   "id": "6d694304-92ab-4805-af88-531317d1f6f6",
   "metadata": {},
   "source": [
    "# delete an element from the dictionary"
   ]
  },
  {
   "cell_type": "code",
   "execution_count": null,
   "id": "8854ab8f-0f2a-4c3d-9ea6-740268859c9b",
   "metadata": {},
   "outputs": [],
   "source": [
    "friends={\"nishant\":\"niku\", \"nikita\": \"niki\", \"nidhi\": \"shivani\", \"chandan\": \"golu\"}\n",
    "print(friends)\n",
    "item=friends.pop(\"nishant\")\n",
    "print(friends)"
   ]
  },
  {
   "cell_type": "code",
   "execution_count": null,
   "id": "051a6e45-e7b0-401c-a264-80159a6b6bf8",
   "metadata": {},
   "outputs": [],
   "source": []
  },
  {
   "cell_type": "markdown",
   "id": "f386f1db-0de8-448d-bbcb-83bbcf7ea10f",
   "metadata": {},
   "source": [
    "# conveet two list into a dictionary / tuple"
   ]
  },
  {
   "cell_type": "code",
   "execution_count": null,
   "id": "67249c6f-97f2-497f-bc73-724c4a21507f",
   "metadata": {},
   "outputs": [],
   "source": [
    "# using zip and dictionary methods:\n",
    "a=[1,2,3,4,5]\n",
    "b=[\"a\",\"b\",\"c\",\"d\",\"f\"]\n",
    "\n",
    "d=zip(a,b)\n",
    "print(dict(d))\n"
   ]
  },
  {
   "cell_type": "code",
   "execution_count": null,
   "id": "076a959f-4bbb-4d4c-8014-45401e86487d",
   "metadata": {},
   "outputs": [],
   "source": [
    "a=[1,2,3,4,5]\n",
    "b=[\"a\",\"b\",\"c\",\"d\",\"f\"]\n",
    "d=zip(a,b)\n",
    "print(tuple(d))"
   ]
  },
  {
   "cell_type": "code",
   "execution_count": null,
   "id": "8c071a29-5381-40b8-bd38-f7fda6eed88a",
   "metadata": {},
   "outputs": [],
   "source": [
    "# using zip and list comprehension methods:\n",
    "a=[1,2,3,4,5]\n",
    "b=[\"a\",\"b\",\"c\",\"d\",\"f\"]\n",
    "\n",
    "d={k:v for k,v in zip(a,b)}\n",
    "print(d)"
   ]
  },
  {
   "cell_type": "markdown",
   "id": "c68a665b-5ccd-4065-a027-b7a1e9db243c",
   "metadata": {},
   "source": [
    "# trim whitespace from a string"
   ]
  },
  {
   "cell_type": "code",
   "execution_count": null,
   "id": "38e92640-cdce-4701-acea-8646ed2aaacd",
   "metadata": {},
   "outputs": [],
   "source": [
    "s=\"nishant is a god boy       \"\n",
    "a=s.strip()\n",
    "a"
   ]
  },
  {
   "cell_type": "markdown",
   "id": "678be4fa-7285-473c-a7c1-5ec5581c6eae",
   "metadata": {},
   "source": [
    "# iterate through two lists in parallel"
   ]
  },
  {
   "cell_type": "code",
   "execution_count": 321,
   "id": "5e555eda-2fce-4a99-896b-a9eaf5ff7311",
   "metadata": {},
   "outputs": [
    {
     "name": "stdout",
     "output_type": "stream",
     "text": [
      "nishant :  niku\n",
      "nidhi :  shivani\n",
      "nikita :  niki\n",
      "chandan :  golu\n"
     ]
    }
   ],
   "source": [
    "l1=[\"nishant\",\"nidhi\",\"nikita\",\"chandan\"]\n",
    "l2=[\"niku\", \"shivani\", \"niki\",\"golu\"]\n",
    "\n",
    "\n",
    "for x,y in zip(l1,l2):\n",
    "    print(x,\": \",y)\n",
    "\n",
    "# print(tuple(zip(l1,l2)))"
   ]
  },
  {
   "cell_type": "markdown",
   "id": "eb98c62f-4168-4513-a02a-2f2523206cb8",
   "metadata": {},
   "source": [
    "# reverse a number"
   ]
  },
  {
   "cell_type": "code",
   "execution_count": 323,
   "id": "56b7140b-03b8-471f-b51e-23e9267505f2",
   "metadata": {},
   "outputs": [
    {
     "name": "stdin",
     "output_type": "stream",
     "text": [
      "enter number 1234\n"
     ]
    },
    {
     "name": "stdout",
     "output_type": "stream",
     "text": [
      "4321 <class 'int'>\n"
     ]
    }
   ],
   "source": [
    "n=int(input(\"enter number\"))\n",
    "st=str(n)\n",
    "k=st[::-1]\n",
    "m=int(k)\n",
    "print(m,type(m))"
   ]
  },
  {
   "cell_type": "code",
   "execution_count": 325,
   "id": "e1e137c6-bdb3-49e1-8c31-8f26ee6be105",
   "metadata": {},
   "outputs": [
    {
     "name": "stdin",
     "output_type": "stream",
     "text": [
      "enter number 1234\n"
     ]
    },
    {
     "name": "stdout",
     "output_type": "stream",
     "text": [
      "4321\n"
     ]
    }
   ],
   "source": [
    "n=int(input(\"enter number\"))\n",
    "st=str(n)[::-1]\n",
    "print(int(st))"
   ]
  },
  {
   "cell_type": "code",
   "execution_count": 327,
   "id": "839cd164-3dc9-4466-9af7-1a590d1549cd",
   "metadata": {},
   "outputs": [
    {
     "name": "stdin",
     "output_type": "stream",
     "text": [
      "enter number 1234\n"
     ]
    },
    {
     "name": "stdout",
     "output_type": "stream",
     "text": [
      "4321\n"
     ]
    }
   ],
   "source": [
    "#  using while loop\n",
    "n=int(input(\"enter number\"))\n",
    "rev=0\n",
    "\n",
    "while n!=0:\n",
    "    digi=n%10\n",
    "    rev=rev*10+digi\n",
    "    n=n//10\n",
    "print(rev)"
   ]
  },
  {
   "cell_type": "markdown",
   "id": "2201937d-3549-4d26-91c2-cee672f64c7e",
   "metadata": {},
   "source": [
    "# compute the power of a number"
   ]
  },
  {
   "cell_type": "code",
   "execution_count": 329,
   "id": "e274f5af-7962-4bd5-b1ef-694a0e414cd7",
   "metadata": {},
   "outputs": [
    {
     "name": "stdin",
     "output_type": "stream",
     "text": [
      "enter base number 10\n",
      "enter Exponent number 2\n"
     ]
    },
    {
     "name": "stdout",
     "output_type": "stream",
     "text": [
      "100\n"
     ]
    }
   ],
   "source": [
    "base=int(input(\"enter base number\"))\n",
    "exponent=int(input(\"enter Exponent number\"))\n",
    "\n",
    "result =1\n",
    "while exponent !=0:\n",
    "    result=result*base\n",
    "    exponent=exponent-1\n",
    "print(result)"
   ]
  },
  {
   "cell_type": "code",
   "execution_count": null,
   "id": "94d114a1-fe8b-4025-9e48-24dd16a6aca9",
   "metadata": {},
   "outputs": [],
   "source": [
    "base=int(input(\"enter base number\"))\n",
    "exponent=int(input(\"enter Exponent number\"))\n",
    "\n",
    "res=1\n",
    "for i in range(exponent,0,-1):\n",
    "    res=res*base\n",
    "print(res)"
   ]
  },
  {
   "cell_type": "code",
   "execution_count": null,
   "id": "0241d170-adb6-4f66-98af-94ae2b0badb2",
   "metadata": {},
   "outputs": [],
   "source": [
    "base=int(input(\"enter of power of number\"))\n",
    "Exponent=int(input(\"enter nth value\"))\n",
    "for i in range(0,Exponent+1):\n",
    "    print(\"power of\",base,\"is: \",i,\" =\" ,base**i)"
   ]
  },
  {
   "cell_type": "code",
   "execution_count": null,
   "id": "ac4cdeb6-0ba9-45eb-9c91-ff6c887d1ada",
   "metadata": {},
   "outputs": [],
   "source": []
  },
  {
   "cell_type": "markdown",
   "id": "e9d1dd33-5192-4902-8947-cb1662cc433d",
   "metadata": {},
   "source": [
    "# count the number of digit present in the number."
   ]
  },
  {
   "cell_type": "code",
   "execution_count": 331,
   "id": "04baba72-3c4c-4876-b7ea-35f48c8a9776",
   "metadata": {},
   "outputs": [
    {
     "name": "stdout",
     "output_type": "stream",
     "text": [
      "5\n"
     ]
    }
   ],
   "source": [
    "n=12345\n",
    "print(len(str(n)))"
   ]
  },
  {
   "cell_type": "code",
   "execution_count": 337,
   "id": "cde89b78-c53a-4879-9a8a-f6bb66c66da6",
   "metadata": {},
   "outputs": [
    {
     "name": "stdout",
     "output_type": "stream",
     "text": [
      "5\n"
     ]
    }
   ],
   "source": [
    "n=12345\n",
    "count=0\n",
    "while n!=0:\n",
    "    n=n//10\n",
    "    count=count+1\n",
    "print(count)"
   ]
  },
  {
   "cell_type": "markdown",
   "id": "fd9a6ce0-f5e6-4ad0-89d3-6d703c371aab",
   "metadata": {},
   "source": [
    "# check two string are anagrams"
   ]
  },
  {
   "cell_type": "code",
   "execution_count": 339,
   "id": "3edb541c-5f29-4a11-a355-4029629c96c4",
   "metadata": {},
   "outputs": [
    {
     "name": "stdin",
     "output_type": "stream",
     "text": [
      "enter your first string nishant\n",
      "enter your second string nishant\n"
     ]
    },
    {
     "name": "stdout",
     "output_type": "stream",
     "text": [
      "String is Anagrams\n"
     ]
    }
   ],
   "source": [
    "a=input(\"enter your first string\")\n",
    "b=input(\"enter your second string\")\n",
    "\n",
    "len_a=len(a)\n",
    "len_b=len(b)\n",
    "a1=sorted(a)\n",
    "b2=sorted(b)\n",
    "\n",
    "if a1 == b2 and len_a ==len_b:\n",
    "    print(\"String is Anagrams\")\n",
    "else:\n",
    "    print(\"String is Not Anagrams\")"
   ]
  },
  {
   "cell_type": "code",
   "execution_count": 341,
   "id": "9cb1b1b9-cecf-4ccd-aae5-e528aa8c73ad",
   "metadata": {},
   "outputs": [
    {
     "name": "stdin",
     "output_type": "stream",
     "text": [
      "enter your first string radar\n",
      "enter your second string raadr\n"
     ]
    },
    {
     "name": "stdout",
     "output_type": "stream",
     "text": [
      "String is Anagrams\n"
     ]
    }
   ],
   "source": [
    "a=input(\"enter your first string\")\n",
    "b=input(\"enter your second string\")\n",
    "\n",
    "if (set(a)==set(b)):\n",
    "        print(\"String is Anagrams\")\n",
    "else:\n",
    "    print(\"String is Not Anagrams\")"
   ]
  },
  {
   "cell_type": "markdown",
   "id": "1e9d7554-3ee3-46ce-8cf0-5a3d1fdb937b",
   "metadata": {},
   "source": [
    "# capitalize the first character of a string"
   ]
  },
  {
   "cell_type": "code",
   "execution_count": null,
   "id": "2c8d3a7f-ddb7-441d-8804-3e5830cd5793",
   "metadata": {},
   "outputs": [],
   "source": [
    "st=\"nishant\"\n",
    "print(st.title())"
   ]
  },
  {
   "cell_type": "code",
   "execution_count": null,
   "id": "f5dc21c6-4db8-47ff-b513-693f13701cd6",
   "metadata": {},
   "outputs": [],
   "source": [
    "st=\"nishant\"\n",
    "print(st[0].upper()+st[1:])"
   ]
  },
  {
   "cell_type": "code",
   "execution_count": null,
   "id": "4e6438d0-dc8f-4b7e-8f45-57cc8869fe57",
   "metadata": {},
   "outputs": [],
   "source": [
    "st=\"nishant\"\n",
    "print(st.capitalize())"
   ]
  },
  {
   "cell_type": "code",
   "execution_count": null,
   "id": "46bb808b-7607-4a5a-a654-d881defe357c",
   "metadata": {
    "scrolled": true
   },
   "outputs": [],
   "source": [
    "st=\"nishant is good boy\"\n",
    "\n",
    "k=\" \"\n",
    "for i in st.split( ):\n",
    "    k=k+(i[0].upper()+i[1:])\n",
    "print(k)\n",
    "# st\n",
    "# print(st[0].upper()+st[1:])\n"
   ]
  },
  {
   "cell_type": "markdown",
   "id": "2c713a7a-6467-4253-9f92-c842a501b7af",
   "metadata": {},
   "source": [
    "# find the occurance of a character in string"
   ]
  },
  {
   "cell_type": "code",
   "execution_count": 343,
   "id": "9e221ca9-e0c4-470c-82a3-440a1c712b0c",
   "metadata": {},
   "outputs": [
    {
     "name": "stdout",
     "output_type": "stream",
     "text": [
      "2\n"
     ]
    }
   ],
   "source": [
    "string=\"nishant\"\n",
    "char=\"n\"\n",
    "count=0\n",
    "for i in string:\n",
    "    if i ==char:\n",
    "       count+=1\n",
    "print(count)"
   ]
  },
  {
   "cell_type": "code",
   "execution_count": 345,
   "id": "e3b01d5f-9b06-41c2-9b56-b2629f58d5fc",
   "metadata": {},
   "outputs": [
    {
     "name": "stdout",
     "output_type": "stream",
     "text": [
      "2\n"
     ]
    }
   ],
   "source": [
    "string=\"nishant\"\n",
    "print(string.count(\"n\"))"
   ]
  },
  {
   "cell_type": "markdown",
   "id": "b164777f-750f-45e2-9eee-65fd7c8dc051",
   "metadata": {},
   "source": [
    "# remove duplicate element from list"
   ]
  },
  {
   "cell_type": "code",
   "execution_count": null,
   "id": "fb6427ff-a99c-4019-bc1f-068e4a81674c",
   "metadata": {},
   "outputs": [],
   "source": [
    "list=[1,2,3,3,4,5,6,7,3,2,1]\n",
    "print(set(list))"
   ]
  },
  {
   "cell_type": "code",
   "execution_count": null,
   "id": "ab5e5b98-1eb0-4181-934f-9cfcf7bc3a67",
   "metadata": {},
   "outputs": [],
   "source": [
    "l=[1,2,3,3,4,5,6,7,3,2,1]\n",
    "x=[1,2,3,3,4,9,8,10,11,2,1]\n",
    "\n",
    "non_repet=( (set(l)^set(x) ))\n",
    "print(non_repet)"
   ]
  },
  {
   "cell_type": "markdown",
   "id": "b2aa9feb-5c9f-43fa-af37-3740f8b90dd5",
   "metadata": {},
   "source": [
    "# Odd Even"
   ]
  },
  {
   "cell_type": "code",
   "execution_count": null,
   "id": "ebe38ef9-fc5b-4d9c-a94b-cb2adf86579c",
   "metadata": {},
   "outputs": [],
   "source": [
    "n=2\n",
    "if n%2==0:\n",
    "    print(\"even\")\n",
    "else:\n",
    "    print(\"odd\")"
   ]
  },
  {
   "cell_type": "code",
   "execution_count": null,
   "id": "31032a16-64c6-4dbf-8cf8-4424137721e1",
   "metadata": {},
   "outputs": [],
   "source": [
    "# even number\n",
    "for i in range(0,10+1):\n",
    "    if i%2==0:\n",
    "        pass\n",
    "        print(i)"
   ]
  },
  {
   "cell_type": "code",
   "execution_count": null,
   "id": "a6f56094-90c1-4c33-95aa-18c5a25e7683",
   "metadata": {},
   "outputs": [],
   "source": [
    "# odd number\n",
    "for i in range(0,10+1):\n",
    "    if i%2!=0:\n",
    "        pass\n",
    "        print(i)"
   ]
  },
  {
   "cell_type": "code",
   "execution_count": null,
   "id": "7b2ccf8b-29a5-4042-bf9a-207a2283ec2d",
   "metadata": {},
   "outputs": [],
   "source": [
    "# store even and odd number in list.\n",
    "odd=[]\n",
    "even=[]\n",
    "for i in range(0,10+1):\n",
    "    if i%2!=0:\n",
    "        odd.append(i)\n",
    "    else:\n",
    "        even.append(i)\n",
    "\n",
    "print(\"odd numbers\",odd)\n",
    "print(\"even numbers\",even)"
   ]
  },
  {
   "cell_type": "code",
   "execution_count": null,
   "id": "4037cb4c-94ff-4854-9beb-11e01b393789",
   "metadata": {},
   "outputs": [],
   "source": [
    "# sum of all even number and odd number\n",
    "\n",
    "oddsum=0\n",
    "evensum=0\n",
    "for i in range(0,10+1):\n",
    "    if i%2!=0:\n",
    "        oddsum+=i\n",
    "    else:\n",
    "        evensum+=i\n",
    "print(oddsum)\n",
    "print(evensum)"
   ]
  },
  {
   "cell_type": "code",
   "execution_count": null,
   "id": "c8c471cc-a98d-4d12-a4e0-4ad69b36c514",
   "metadata": {},
   "outputs": [],
   "source": [
    "num=int(input(\"enter a number\"))\n",
    "print(\"even\") if num%2==0 else print(\"odd\")"
   ]
  },
  {
   "cell_type": "code",
   "execution_count": null,
   "id": "40d5c3f7-f49f-4f2e-863e-ea86e7da9de4",
   "metadata": {},
   "outputs": [],
   "source": [
    "num=int(input(\"enter a number\"))\n",
    "check=(\"odd\", \"even\") [num%2==0]\n",
    "print(check)"
   ]
  },
  {
   "cell_type": "markdown",
   "id": "3eec74f0-702e-494d-8462-0158293adb37",
   "metadata": {},
   "source": [
    "# check if a number is multiple of 7 or not. "
   ]
  },
  {
   "cell_type": "code",
   "execution_count": null,
   "id": "685f1c0e-e6ee-4c9a-b9dc-6f5110c676e8",
   "metadata": {},
   "outputs": [],
   "source": [
    "num1=int(input(\"enter a number\"))\n",
    "if num1%7==0:\n",
    "    print(num1,\"is Multiple of 7\")\n",
    "else: \n",
    "    print(num1,\"is not Multiple of 7\")"
   ]
  },
  {
   "cell_type": "code",
   "execution_count": null,
   "id": "99385469-749b-4ee8-8eaa-daa54981e5de",
   "metadata": {},
   "outputs": [],
   "source": [
    "num1=int(input(\"enter a number\"))\n",
    "print(num1,\"is Multiple of 7\") if num1%7==0 else print(num1,\"is Not Multiple of 7\")"
   ]
  },
  {
   "cell_type": "markdown",
   "id": "436e401b-3977-4fdb-ae68-2636f49ebf96",
   "metadata": {},
   "source": [
    "# accessing 2d list"
   ]
  },
  {
   "cell_type": "code",
   "execution_count": null,
   "id": "43cdc3f7-72ac-466c-881c-c47f84917b1c",
   "metadata": {},
   "outputs": [],
   "source": [
    "l=[1,2,3,4,5,[6,7]]\n",
    "\n",
    "print(l[5][0])\n",
    "print(l[-1][0])\n",
    "print(l[-1][-2])"
   ]
  },
  {
   "cell_type": "code",
   "execution_count": null,
   "id": "ef06594c-e988-467b-8d18-4d3ff3b1d9fa",
   "metadata": {},
   "outputs": [],
   "source": [
    "L=[[[1,2],[3,4]],[[5,6],[7,8]] ]\n",
    "\n",
    "print(L)\n",
    "print(L[0])\n",
    "print(L[1])\n",
    "print()\n",
    "\n",
    "print(L[0][0][1])\n",
    "print(L[1][0][0])\n"
   ]
  },
  {
   "cell_type": "code",
   "execution_count": null,
   "id": "6fbcea5c-2571-4ec4-aabc-78e15fee7846",
   "metadata": {},
   "outputs": [],
   "source": [
    "L=[1,2,3,4,5,6]\n",
    "\n",
    "for i in L3:\n",
    "    print(i)"
   ]
  },
  {
   "cell_type": "code",
   "execution_count": null,
   "id": "f8680cea-8345-4e2f-99d0-9e24d5bb2657",
   "metadata": {},
   "outputs": [],
   "source": [
    "L2=[1,2,3,4,[5,6]]\n",
    "for i in L2:\n",
    "    print(i)"
   ]
  },
  {
   "cell_type": "code",
   "execution_count": null,
   "id": "29429f42-5b81-4ecb-8cca-4fa694ffaa66",
   "metadata": {},
   "outputs": [],
   "source": [
    "L3=[[[1,2],[3,4]],[[5,6],[7,8]] ]\n",
    "for i in L3:\n",
    "    print(i)"
   ]
  },
  {
   "cell_type": "markdown",
   "id": "54b5c9f5-47c0-46f5-b496-ed0f42d01536",
   "metadata": {},
   "source": [
    "# list Comprehension\n",
    "\n",
    "new list = [ experssion \"*for*\" item \"*in*\" iterable \"*if*\" condition ==True  ]\n",
    "\n",
    "list= [ i for i in range(0,11) if i%2==0 ]\n"
   ]
  },
  {
   "cell_type": "markdown",
   "id": "34225d4d-b903-443e-afa2-ebeb3d74b73b",
   "metadata": {},
   "source": [
    "># add 1 to 10 number into list"
   ]
  },
  {
   "cell_type": "code",
   "execution_count": null,
   "id": "0772c69c-105e-45f2-bb28-ce7171fbeec6",
   "metadata": {},
   "outputs": [],
   "source": [
    "l=[]\n",
    "for i in range(1,11):\n",
    "    l.append(i)\n",
    "print(l)"
   ]
  },
  {
   "cell_type": "code",
   "execution_count": null,
   "id": "bbff12e4-8cd1-4280-a849-26ecb8707cc8",
   "metadata": {},
   "outputs": [],
   "source": [
    "l=[ i for i in range(1,11) ]\n",
    "print(l)"
   ]
  },
  {
   "cell_type": "markdown",
   "id": "98db9a7f-c861-44ea-9167-eb896cb6953b",
   "metadata": {},
   "source": [
    "> # odd even with list Comprehension "
   ]
  },
  {
   "cell_type": "code",
   "execution_count": null,
   "id": "7b9a4788-1d2c-4a9f-a782-d5ba2e78fd73",
   "metadata": {},
   "outputs": [],
   "source": [
    "list= [ i for i in range(0,11) if i%2==0 ]\n",
    "print(list)"
   ]
  },
  {
   "cell_type": "code",
   "execution_count": null,
   "id": "c8de89eb-15ca-4e45-b87c-8d447381d3dd",
   "metadata": {},
   "outputs": [],
   "source": [
    "list= [ i for i in range(0,11) if i%2!=0 ]\n",
    "print(list)"
   ]
  },
  {
   "cell_type": "markdown",
   "id": "fa270a08-2ccf-437c-96f0-bc196c5aa1a2",
   "metadata": {},
   "source": [
    "> # scalar multiplication on a vector"
   ]
  },
  {
   "cell_type": "code",
   "execution_count": null,
   "id": "f3b98235-b92d-459e-b05f-2f306ef9a1ab",
   "metadata": {},
   "outputs": [],
   "source": [
    "v=[1,2,3]\n",
    "s=-3\n",
    "x=[]\n",
    "for i in v:\n",
    "    x.append(i*s)\n",
    "print(x)"
   ]
  },
  {
   "cell_type": "code",
   "execution_count": null,
   "id": "652ae786-0ecf-4faa-b103-d0aa3c94468f",
   "metadata": {},
   "outputs": [],
   "source": [
    "v=[1,2,3]\n",
    "s=-3\n",
    "\n",
    "l=[i*s for i in v]\n",
    "print(l)\n"
   ]
  },
  {
   "cell_type": "markdown",
   "id": "6ac6f32c-0338-4dfa-a6f8-2d4dfc04f833",
   "metadata": {},
   "source": [
    "># add square  & cube of the list"
   ]
  },
  {
   "cell_type": "code",
   "execution_count": null,
   "id": "0c11790e-eb2a-436d-8b26-ecceabcb5d8e",
   "metadata": {},
   "outputs": [],
   "source": [
    "l=[1,2,3,4,5]\n",
    "\n",
    "for i in l:\n",
    "    print(i**2)"
   ]
  },
  {
   "cell_type": "code",
   "execution_count": null,
   "id": "bbcb6898-093c-4e77-8c3a-69b7f205227f",
   "metadata": {},
   "outputs": [],
   "source": [
    "l=[1,2,3,4,5]\n",
    "\n",
    "k=[i**2 for i in l ]\n",
    "print(k)"
   ]
  },
  {
   "cell_type": "markdown",
   "id": "39c075f9-fd1b-42e4-9898-aa77d114c03a",
   "metadata": {},
   "source": [
    "># print all number divisible by 5 in the ranee of 1 to 50"
   ]
  },
  {
   "cell_type": "code",
   "execution_count": null,
   "id": "f56af5a7-40d9-4e94-8315-eaf0328e6cf3",
   "metadata": {},
   "outputs": [],
   "source": [
    "div=[i for i in range(0,51) if i%5==0]\n",
    "print(div)"
   ]
  },
  {
   "cell_type": "markdown",
   "id": "970daec9-257f-4848-a7d2-20292bc90e3c",
   "metadata": {},
   "source": [
    "># print all number divisible by 7 and not divisible by 2 in the range of 1 to 50"
   ]
  },
  {
   "cell_type": "code",
   "execution_count": null,
   "id": "24049d05-5c0b-4c3e-a3c7-808dc344ee20",
   "metadata": {},
   "outputs": [],
   "source": []
  },
  {
   "cell_type": "code",
   "execution_count": null,
   "id": "b85fd9d1-b620-4f4b-a4eb-ab32515042a0",
   "metadata": {},
   "outputs": [],
   "source": [
    "div=[i for i in range(0,51) if i%7==0 and i%2!=0]\n",
    "print(div)"
   ]
  },
  {
   "cell_type": "markdown",
   "id": "5caf1967-21fb-415e-bedf-db83549c36ac",
   "metadata": {},
   "source": [
    "> # find word which start with letter p"
   ]
  },
  {
   "cell_type": "code",
   "execution_count": null,
   "id": "0bd977d0-0368-4950-a4ee-031b7687450e",
   "metadata": {},
   "outputs": [],
   "source": [
    "word=[\"java\",\"python\",\"php\",\"c\",\"javascript\"]\n",
    "\n",
    "[i for i in word if i.startswith(\"p\")]"
   ]
  },
  {
   "cell_type": "markdown",
   "id": "cb6c3630-2c7c-49e0-bfed-7ca837a1a4a9",
   "metadata": {},
   "source": [
    "> # nested if with list comprehension\n",
    "\n",
    "basket=[\"apple\", \"guava\", \"cherry\", \"banana\"] <br>\n",
    "my_fruit=[\"apple\", \"kiwi\", \"grapes\", \"banana\"]\n",
    "\n",
    "># add new list from my_fruit and items if the fruit exist in basket and also start with p"
   ]
  },
  {
   "cell_type": "code",
   "execution_count": 347,
   "id": "09383fc3-8a6e-443a-bb6f-b9ebcdbbcb1f",
   "metadata": {},
   "outputs": [
    {
     "name": "stdout",
     "output_type": "stream",
     "text": [
      "['apple', 'kiwi', 'grapes', 'banana']\n",
      "['apple', 'banana']\n",
      "['apple']\n"
     ]
    }
   ],
   "source": [
    "basket=[\"apple\", \"guava\", \"cherry\", \"banana\"]\n",
    "my_fruit=[\"apple\", \"kiwi\", \"grapes\", \"banana\"]\n",
    "\n",
    "k=[i for i in my_fruit] # show  all fruits list in my_fuits\n",
    "l=[i for i in my_fruit if i in basket] # check existing fruits in basket \n",
    "m=[i for i in my_fruit if i in basket if i.startswith(\"a\")] # check existing fruits starts with \"a\"\n",
    "print(k)\n",
    "print(l)\n",
    "print(m)"
   ]
  },
  {
   "cell_type": "markdown",
   "id": "1afe39ec-e661-48e0-a6f5-362ec9b7ce00",
   "metadata": {},
   "source": [
    "> # print(3.3) matrix using the list comprehension | nested list comprehension "
   ]
  },
  {
   "cell_type": "code",
   "execution_count": 349,
   "id": "3bb31600-621e-46b3-8b5b-47aafa04944a",
   "metadata": {},
   "outputs": [
    {
     "name": "stdout",
     "output_type": "stream",
     "text": [
      "[1, 2, 3, 2, 4, 6, 3, 6, 9]\n"
     ]
    }
   ],
   "source": [
    "m=[]\n",
    "for i in range(1,4):\n",
    "    for k in range(1,4):\n",
    "        m.append(i*k)\n",
    "print(m)"
   ]
  },
  {
   "cell_type": "code",
   "execution_count": 351,
   "id": "32f63f23-07f4-4169-ae06-bb7a6c479f6d",
   "metadata": {},
   "outputs": [
    {
     "data": {
      "text/plain": [
       "[[1, 2, 3], [2, 4, 6], [3, 6, 9]]"
      ]
     },
     "execution_count": 351,
     "metadata": {},
     "output_type": "execute_result"
    }
   ],
   "source": [
    "[[i*k for i in range(1,4)] for k in range(1,4) ]"
   ]
  },
  {
   "cell_type": "code",
   "execution_count": null,
   "id": "1cea79a6-8c95-4214-84e7-b51a5d65dda1",
   "metadata": {},
   "outputs": [],
   "source": []
  },
  {
   "cell_type": "code",
   "execution_count": null,
   "id": "79496a35-0a3d-47dd-898f-5a8d15bccf60",
   "metadata": {},
   "outputs": [],
   "source": [
    "[[i for i in range(1,4)] for k in range(1,4) ]"
   ]
  },
  {
   "cell_type": "code",
   "execution_count": null,
   "id": "340fab47-63a0-4370-a793-c6f2fcdd8acb",
   "metadata": {},
   "outputs": [],
   "source": [
    "[[i for i in range(1,4)]*k for k in range(1,4) ]"
   ]
  },
  {
   "cell_type": "markdown",
   "id": "be200f6e-6ef4-4d15-b71a-752d2a606250",
   "metadata": {},
   "source": [
    "> # certasion product -> list comprehension of 2 list."
   ]
  },
  {
   "cell_type": "code",
   "execution_count": null,
   "id": "92f4f566-fa61-41d6-a153-432d072205cb",
   "metadata": {},
   "outputs": [],
   "source": [
    "l1=[1,2,3,4]\n",
    "l2=[5,6,7,8]\n",
    "\n",
    "k=[i*j for i in l1 for j in l2]\n",
    "print(k)"
   ]
  },
  {
   "cell_type": "markdown",
   "id": "538ece4d-8b45-4e07-9f95-ff97979bf3e8",
   "metadata": {},
   "source": [
    "# 2 way to travese a list\n",
    "\n",
    "- itemwise\n",
    "- indexwise"
   ]
  },
  {
   "cell_type": "markdown",
   "id": "42f1c800-245e-48cf-ad13-07fe7bea3167",
   "metadata": {},
   "source": [
    "> # itemwise"
   ]
  },
  {
   "cell_type": "code",
   "execution_count": null,
   "id": "61037527-c3b7-4e5e-bac3-ba555dbe7e4e",
   "metadata": {},
   "outputs": [],
   "source": [
    "l=[1,2,3,4,5,6]\n",
    "for i in l:\n",
    "    print(i)"
   ]
  },
  {
   "cell_type": "markdown",
   "id": "44c13a7b-5936-4929-99c4-6bd8210bec9f",
   "metadata": {},
   "source": [
    "> # indexwise"
   ]
  },
  {
   "cell_type": "code",
   "execution_count": null,
   "id": "03754393-db7f-42fe-89ae-679a81ee8925",
   "metadata": {},
   "outputs": [],
   "source": [
    "l=[10,20,30,40,50,60]\n",
    "for i in range(len(l)):\n",
    "    print(i,l[i])"
   ]
  },
  {
   "cell_type": "markdown",
   "id": "f01890a2-5691-4bc3-be69-2c2feb4a5f50",
   "metadata": {},
   "source": [
    "# add items of 2 lists index wise"
   ]
  },
  {
   "cell_type": "code",
   "execution_count": 353,
   "id": "9c83b207-1c02-4ef7-9a9a-45b617c0a648",
   "metadata": {},
   "outputs": [
    {
     "name": "stdout",
     "output_type": "stream",
     "text": [
      "<zip object at 0x0000013B3D897340>\n"
     ]
    },
    {
     "ename": "TypeError",
     "evalue": "'list' object is not callable",
     "output_type": "error",
     "traceback": [
      "\u001b[1;31m---------------------------------------------------------------------------\u001b[0m",
      "\u001b[1;31mTypeError\u001b[0m                                 Traceback (most recent call last)",
      "Cell \u001b[1;32mIn[353], line 4\u001b[0m\n\u001b[0;32m      2\u001b[0m l2\u001b[38;5;241m=\u001b[39m[\u001b[38;5;124m\"\u001b[39m\u001b[38;5;124ma\u001b[39m\u001b[38;5;124m\"\u001b[39m,\u001b[38;5;124m\"\u001b[39m\u001b[38;5;124mb\u001b[39m\u001b[38;5;124m\"\u001b[39m,\u001b[38;5;124m\"\u001b[39m\u001b[38;5;124mc\u001b[39m\u001b[38;5;124m\"\u001b[39m,\u001b[38;5;124m\"\u001b[39m\u001b[38;5;124md\u001b[39m\u001b[38;5;124m\"\u001b[39m,\u001b[38;5;124m\"\u001b[39m\u001b[38;5;124me\u001b[39m\u001b[38;5;124m\"\u001b[39m,\u001b[38;5;124m\"\u001b[39m\u001b[38;5;124mf\u001b[39m\u001b[38;5;124m\"\u001b[39m]\n\u001b[0;32m      3\u001b[0m \u001b[38;5;28mprint\u001b[39m(\u001b[38;5;28mzip\u001b[39m(l1,l2)) \u001b[38;5;66;03m# will create zip object to show the object data need to do typcasting into list, dict & tuples\u001b[39;00m\n\u001b[1;32m----> 4\u001b[0m \u001b[38;5;28mlist\u001b[39m(\u001b[38;5;28mzip\u001b[39m(l1,l2))\n",
      "\u001b[1;31mTypeError\u001b[0m: 'list' object is not callable"
     ]
    }
   ],
   "source": [
    "l1=[1,2,3,4,5,6]\n",
    "l2=[\"a\",\"b\",\"c\",\"d\",\"e\",\"f\"]\n",
    "print(zip(l1,l2)) # will create zip object to show the object data need to do typcasting into list, dict & tuples\n",
    "list(zip(l1,l2))"
   ]
  },
  {
   "cell_type": "code",
   "execution_count": 355,
   "id": "67462e03-cefd-40e9-8e22-37bd74bed932",
   "metadata": {},
   "outputs": [
    {
     "data": {
      "text/plain": [
       "{1: 'a', 2: 'b', 3: 'c', 4: 'd', 5: 'e', 6: 'f'}"
      ]
     },
     "execution_count": 355,
     "metadata": {},
     "output_type": "execute_result"
    }
   ],
   "source": [
    "dict(zip(l1,l2))"
   ]
  },
  {
   "cell_type": "code",
   "execution_count": 357,
   "id": "19921f43-26b3-45eb-82e6-4377fca57235",
   "metadata": {},
   "outputs": [
    {
     "data": {
      "text/plain": [
       "((1, 'a'), (2, 'b'), (3, 'c'), (4, 'd'), (5, 'e'), (6, 'f'))"
      ]
     },
     "execution_count": 357,
     "metadata": {},
     "output_type": "execute_result"
    }
   ],
   "source": [
    "tuple(zip(l1,l2))"
   ]
  },
  {
   "cell_type": "markdown",
   "id": "6ce4baa9-1957-4d38-aaeb-7b3d515a1a88",
   "metadata": {},
   "source": [
    "# print 2 to 5 table through dictionary comprehension"
   ]
  },
  {
   "cell_type": "code",
   "execution_count": null,
   "id": "679dfd4e-6f0c-4b06-a971-86b08f01242f",
   "metadata": {},
   "outputs": [],
   "source": [
    "{i:{j for j in range(1,11)} for i in range(2,5)}"
   ]
  },
  {
   "cell_type": "code",
   "execution_count": null,
   "id": "e87bb49d-e227-463a-a966-b5a1c66a95c6",
   "metadata": {},
   "outputs": [],
   "source": [
    "# cube of 2 to 5\n",
    "{i:{i**j for j in range(1,11)} for i in range(2,5)}"
   ]
  },
  {
   "cell_type": "code",
   "execution_count": null,
   "id": "d0b65f55-e8a2-4dbf-8165-dcdbb0d18fc8",
   "metadata": {},
   "outputs": [],
   "source": [
    "# table 2 to 5\n",
    "{i:{i*j for j in range(1,11)} for i in range(2,5)}"
   ]
  },
  {
   "cell_type": "code",
   "execution_count": null,
   "id": "6144882c-5cf5-4481-bbb2-126ba2c2c21a",
   "metadata": {},
   "outputs": [],
   "source": [
    "{i:{j:i*j for j in range(1,11)} for i in range(2,5)}"
   ]
  },
  {
   "cell_type": "markdown",
   "id": "33918780-4264-4f0b-85d1-99cdaf32915a",
   "metadata": {},
   "source": [
    "# lambda function"
   ]
  },
  {
   "cell_type": "code",
   "execution_count": 367,
   "id": "a970729a-732e-4a2a-9215-58af3197b053",
   "metadata": {},
   "outputs": [
    {
     "data": {
      "text/plain": [
       "4"
      ]
     },
     "execution_count": 367,
     "metadata": {},
     "output_type": "execute_result"
    }
   ],
   "source": [
    "# lambda variable 1, variable 2 : operation (variable 1 + variable2)\n",
    "k=lambda a:a**2\n",
    "k(2)\n"
   ]
  },
  {
   "cell_type": "code",
   "execution_count": 369,
   "id": "db6e84fe-3178-449d-b98b-167b570d2bca",
   "metadata": {},
   "outputs": [
    {
     "data": {
      "text/plain": [
       "5"
      ]
     },
     "execution_count": 369,
     "metadata": {},
     "output_type": "execute_result"
    }
   ],
   "source": [
    "k=lambda a,b: a+b\n",
    "k(2,3)\n"
   ]
  },
  {
   "cell_type": "code",
   "execution_count": 371,
   "id": "af9f78ab-4897-4075-b67c-96126542edc3",
   "metadata": {},
   "outputs": [
    {
     "data": {
      "text/plain": [
       "6"
      ]
     },
     "execution_count": 371,
     "metadata": {},
     "output_type": "execute_result"
    }
   ],
   "source": [
    "k=lambda a,b: a*b\n",
    "k(2,3)\n"
   ]
  },
  {
   "cell_type": "code",
   "execution_count": 373,
   "id": "4ab8598e-d8ae-464c-beaf-826b3c3f654c",
   "metadata": {},
   "outputs": [
    {
     "data": {
      "text/plain": [
       "11"
      ]
     },
     "execution_count": 373,
     "metadata": {},
     "output_type": "execute_result"
    }
   ],
   "source": [
    "k=lambda a,b,c: a*b+c\n",
    "k(2,3,5)\n"
   ]
  },
  {
   "cell_type": "code",
   "execution_count": 375,
   "id": "a0908aa5-3213-4dd2-911e-fc0f7cdab454",
   "metadata": {},
   "outputs": [
    {
     "data": {
      "text/plain": [
       "False"
      ]
     },
     "execution_count": 375,
     "metadata": {},
     "output_type": "execute_result"
    }
   ],
   "source": [
    "# check if a string has a\n",
    "\n",
    "st=lambda s: \"k\" in s\n",
    "st(\"Nishant\")"
   ]
  },
  {
   "cell_type": "code",
   "execution_count": 377,
   "id": "e5c2391d-8c88-4616-bf72-12bd93847015",
   "metadata": {},
   "outputs": [
    {
     "data": {
      "text/plain": [
       "'even'"
      ]
     },
     "execution_count": 377,
     "metadata": {},
     "output_type": "execute_result"
    }
   ],
   "source": [
    "# odd even\n",
    "\n",
    "e=lambda k : \"even\" if k%2==0 else \"odd\"\n",
    "e(10)"
   ]
  },
  {
   "cell_type": "code",
   "execution_count": 379,
   "id": "103b6782-5021-48fc-8056-59b2fafdfb91",
   "metadata": {},
   "outputs": [
    {
     "name": "stdout",
     "output_type": "stream",
     "text": [
      "[1, 4, 9, 16, 25]\n"
     ]
    }
   ],
   "source": [
    "# higher order function: where one function called inside the another function.\n",
    "def transform(f,l):\n",
    "    output=[]\n",
    "    for i in l:\n",
    "        output.append(f(i))\n",
    "\n",
    "    print(output)\n",
    "\n",
    "l=[1,2,3,4,5]\n",
    "transform(lambda x:x**2,l)\n"
   ]
  },
  {
   "cell_type": "code",
   "execution_count": 381,
   "id": "4aaaed28-d426-4b0e-bd74-eaa165cca8c5",
   "metadata": {},
   "outputs": [
    {
     "name": "stdout",
     "output_type": "stream",
     "text": [
      "[1, 8, 27, 64, 125]\n"
     ]
    }
   ],
   "source": [
    "l=[1,2,3,4,5]\n",
    "transform(lambda x:x**3,l)\n"
   ]
  },
  {
   "cell_type": "markdown",
   "id": "23346fd4-ad2e-4fb8-bc48-b61b7c19f4f5",
   "metadata": {},
   "source": [
    "# Map"
   ]
  },
  {
   "cell_type": "code",
   "execution_count": 384,
   "id": "0ac5b458-c37a-4dd2-927a-2f5b2104a1e2",
   "metadata": {},
   "outputs": [
    {
     "ename": "TypeError",
     "evalue": "'list' object is not callable",
     "output_type": "error",
     "traceback": [
      "\u001b[1;31m---------------------------------------------------------------------------\u001b[0m",
      "\u001b[1;31mTypeError\u001b[0m                                 Traceback (most recent call last)",
      "Cell \u001b[1;32mIn[384], line 2\u001b[0m\n\u001b[0;32m      1\u001b[0m l\u001b[38;5;241m=\u001b[39m[\u001b[38;5;241m1\u001b[39m,\u001b[38;5;241m2\u001b[39m,\u001b[38;5;241m3\u001b[39m,\u001b[38;5;241m4\u001b[39m,\u001b[38;5;241m5\u001b[39m]\n\u001b[1;32m----> 2\u001b[0m \u001b[38;5;28mlist\u001b[39m(\u001b[38;5;28mmap\u001b[39m(\u001b[38;5;28;01mlambda\u001b[39;00m x: x\u001b[38;5;241m*\u001b[39m\u001b[38;5;241m2\u001b[39m,l))\n",
      "\u001b[1;31mTypeError\u001b[0m: 'list' object is not callable"
     ]
    }
   ],
   "source": [
    "l=[1,2,3,4,5]\n",
    "list(map(lambda x: x*2,l))"
   ]
  },
  {
   "cell_type": "code",
   "execution_count": 386,
   "id": "f0e975b1-aa21-4884-b647-381f098283e3",
   "metadata": {},
   "outputs": [
    {
     "ename": "TypeError",
     "evalue": "'list' object is not callable",
     "output_type": "error",
     "traceback": [
      "\u001b[1;31m---------------------------------------------------------------------------\u001b[0m",
      "\u001b[1;31mTypeError\u001b[0m                                 Traceback (most recent call last)",
      "Cell \u001b[1;32mIn[386], line 2\u001b[0m\n\u001b[0;32m      1\u001b[0m l\u001b[38;5;241m=\u001b[39m[\u001b[38;5;241m1\u001b[39m,\u001b[38;5;241m2\u001b[39m,\u001b[38;5;241m3\u001b[39m,\u001b[38;5;241m4\u001b[39m,\u001b[38;5;241m5\u001b[39m]\n\u001b[1;32m----> 2\u001b[0m \u001b[38;5;28mlist\u001b[39m(\u001b[38;5;28mmap\u001b[39m(\u001b[38;5;28;01mlambda\u001b[39;00m x: x\u001b[38;5;241m*\u001b[39m\u001b[38;5;241m*\u001b[39m\u001b[38;5;241m2\u001b[39m,l))\n",
      "\u001b[1;31mTypeError\u001b[0m: 'list' object is not callable"
     ]
    }
   ],
   "source": [
    "l=[1,2,3,4,5]\n",
    "list(map(lambda x: x**2,l))"
   ]
  },
  {
   "cell_type": "code",
   "execution_count": 388,
   "id": "734e4d4c-26dd-46ae-b41f-ba39d4cda133",
   "metadata": {},
   "outputs": [
    {
     "ename": "TypeError",
     "evalue": "'list' object is not callable",
     "output_type": "error",
     "traceback": [
      "\u001b[1;31m---------------------------------------------------------------------------\u001b[0m",
      "\u001b[1;31mTypeError\u001b[0m                                 Traceback (most recent call last)",
      "Cell \u001b[1;32mIn[388], line 1\u001b[0m\n\u001b[1;32m----> 1\u001b[0m \u001b[38;5;28mlist\u001b[39m(\u001b[38;5;28mmap\u001b[39m(\u001b[38;5;28;01mlambda\u001b[39;00m x: x\u001b[38;5;241m*\u001b[39m\u001b[38;5;241m*\u001b[39m\u001b[38;5;241m2\u001b[39m,\u001b[38;5;28mlist\u001b[39m(\u001b[38;5;28mrange\u001b[39m(\u001b[38;5;241m1\u001b[39m,\u001b[38;5;241m10\u001b[39m\u001b[38;5;241m+\u001b[39m\u001b[38;5;241m1\u001b[39m))))\n",
      "\u001b[1;31mTypeError\u001b[0m: 'list' object is not callable"
     ]
    }
   ],
   "source": [
    "list(map(lambda x: x**2,list(range(1,10+1))))"
   ]
  },
  {
   "cell_type": "code",
   "execution_count": 390,
   "id": "7ae2ff6f-c6e5-4f66-8902-bfd8d0fec65b",
   "metadata": {},
   "outputs": [
    {
     "ename": "SyntaxError",
     "evalue": "invalid syntax (2751723456.py, line 1)",
     "output_type": "error",
     "traceback": [
      "\u001b[1;36m  Cell \u001b[1;32mIn[390], line 1\u001b[1;36m\u001b[0m\n\u001b[1;33m    list (map (lambda function variable : condition, value of variable ))\u001b[0m\n\u001b[1;37m                               ^\u001b[0m\n\u001b[1;31mSyntaxError\u001b[0m\u001b[1;31m:\u001b[0m invalid syntax\n"
     ]
    }
   ],
   "source": [
    "list (map (lambda function variable : condition, value of variable ))\n",
    "list (map (lambda x: \"even\" if x%2==0 else \"odd\",list(range(1,10+1))))"
   ]
  },
  {
   "cell_type": "markdown",
   "id": "56ec0e15-e618-4e78-b92a-8a44decefd54",
   "metadata": {},
   "source": [
    "#extract name from the give list inside the dictionary using comprehension"
   ]
  },
  {
   "cell_type": "code",
   "execution_count": 393,
   "id": "191daf05-66a0-4c31-ad74-a8baf4f38c74",
   "metadata": {},
   "outputs": [
    {
     "ename": "TypeError",
     "evalue": "'list' object is not callable",
     "output_type": "error",
     "traceback": [
      "\u001b[1;31m---------------------------------------------------------------------------\u001b[0m",
      "\u001b[1;31mTypeError\u001b[0m                                 Traceback (most recent call last)",
      "Cell \u001b[1;32mIn[393], line 13\u001b[0m\n\u001b[0;32m      1\u001b[0m user\u001b[38;5;241m=\u001b[39m[{\u001b[38;5;124m\"\u001b[39m\u001b[38;5;124mname\u001b[39m\u001b[38;5;124m\"\u001b[39m:\u001b[38;5;124m\"\u001b[39m\u001b[38;5;124mNishant\u001b[39m\u001b[38;5;124m\"\u001b[39m,\n\u001b[0;32m      2\u001b[0m       \u001b[38;5;124m\"\u001b[39m\u001b[38;5;124mage\u001b[39m\u001b[38;5;124m\"\u001b[39m:\u001b[38;5;241m25\u001b[39m,\n\u001b[0;32m      3\u001b[0m       \u001b[38;5;124m\"\u001b[39m\u001b[38;5;124mgender\u001b[39m\u001b[38;5;124m\"\u001b[39m:\u001b[38;5;124m\"\u001b[39m\u001b[38;5;124mMale\u001b[39m\u001b[38;5;124m\"\u001b[39m},\n\u001b[1;32m   (...)\u001b[0m\n\u001b[0;32m     10\u001b[0m       \u001b[38;5;124m\"\u001b[39m\u001b[38;5;124mage\u001b[39m\u001b[38;5;124m\"\u001b[39m:\u001b[38;5;241m28\u001b[39m,\n\u001b[0;32m     11\u001b[0m       \u001b[38;5;124m\"\u001b[39m\u001b[38;5;124mgender\u001b[39m\u001b[38;5;124m\"\u001b[39m:\u001b[38;5;124m\"\u001b[39m\u001b[38;5;124mFemale\u001b[39m\u001b[38;5;124m\"\u001b[39m} ] \n\u001b[1;32m---> 13\u001b[0m \u001b[38;5;28mlist\u001b[39m(\u001b[38;5;28mmap\u001b[39m(\u001b[38;5;28;01mlambda\u001b[39;00m user:user[\u001b[38;5;124m\"\u001b[39m\u001b[38;5;124mname\u001b[39m\u001b[38;5;124m\"\u001b[39m],user))\n",
      "\u001b[1;31mTypeError\u001b[0m: 'list' object is not callable"
     ]
    }
   ],
   "source": [
    "user=[{\"name\":\"Nishant\",\n",
    "      \"age\":25,\n",
    "      \"gender\":\"Male\"},\n",
    "      \n",
    "      {\"name\":\"Nikita\",\n",
    "      \"age\":26,\n",
    "      \"gender\":\"female\"},\n",
    "      \n",
    "      {\"name\":\"Nidhi\",\n",
    "      \"age\":28,\n",
    "      \"gender\":\"Female\"} ] \n",
    "\n",
    "list(map(lambda user:user[\"name\"],user))"
   ]
  },
  {
   "cell_type": "code",
   "execution_count": 395,
   "id": "8b4023f8-4fe5-489a-b57a-76fe86d760d4",
   "metadata": {},
   "outputs": [
    {
     "ename": "TypeError",
     "evalue": "'list' object is not callable",
     "output_type": "error",
     "traceback": [
      "\u001b[1;31m---------------------------------------------------------------------------\u001b[0m",
      "\u001b[1;31mTypeError\u001b[0m                                 Traceback (most recent call last)",
      "Cell \u001b[1;32mIn[395], line 20\u001b[0m\n\u001b[0;32m      2\u001b[0m user\u001b[38;5;241m=\u001b[39m[{\u001b[38;5;124m\"\u001b[39m\u001b[38;5;124m1\u001b[39m\u001b[38;5;124m\"\u001b[39m:{\u001b[38;5;124m\"\u001b[39m\u001b[38;5;124mname\u001b[39m\u001b[38;5;124m\"\u001b[39m:\u001b[38;5;124m\"\u001b[39m\u001b[38;5;124mNishant\u001b[39m\u001b[38;5;124m\"\u001b[39m,\n\u001b[0;32m      3\u001b[0m       \u001b[38;5;124m\"\u001b[39m\u001b[38;5;124mage\u001b[39m\u001b[38;5;124m\"\u001b[39m:\u001b[38;5;241m25\u001b[39m,\n\u001b[0;32m      4\u001b[0m       \u001b[38;5;124m\"\u001b[39m\u001b[38;5;124mgender\u001b[39m\u001b[38;5;124m\"\u001b[39m:\u001b[38;5;124m\"\u001b[39m\u001b[38;5;124mMale\u001b[39m\u001b[38;5;124m\"\u001b[39m}},\n\u001b[1;32m   (...)\u001b[0m\n\u001b[0;32m     13\u001b[0m       \n\u001b[0;32m     14\u001b[0m        ] \n\u001b[0;32m     16\u001b[0m \u001b[38;5;66;03m# error\u001b[39;00m\n\u001b[0;32m     17\u001b[0m \u001b[38;5;66;03m# list(map(lambda user:user[\"0\"][\"name\"],user))\u001b[39;00m\n\u001b[0;32m     18\u001b[0m \n\u001b[0;32m     19\u001b[0m \u001b[38;5;66;03m#solution:\u001b[39;00m\n\u001b[1;32m---> 20\u001b[0m \u001b[38;5;28mlist\u001b[39m(\u001b[38;5;28mmap\u001b[39m(\u001b[38;5;28;01mlambda\u001b[39;00m user:\u001b[38;5;28mlist\u001b[39m(user\u001b[38;5;241m.\u001b[39mvalues())[\u001b[38;5;241m0\u001b[39m][\u001b[38;5;124m\"\u001b[39m\u001b[38;5;124mname\u001b[39m\u001b[38;5;124m\"\u001b[39m],user))\n",
      "\u001b[1;31mTypeError\u001b[0m: 'list' object is not callable"
     ]
    }
   ],
   "source": [
    "# 2d Dictionary\n",
    "user=[{\"1\":{\"name\":\"Nishant\",\n",
    "      \"age\":25,\n",
    "      \"gender\":\"Male\"}},\n",
    "\n",
    "      {\"2\":{\"name\":\"Nikita\",\n",
    "      \"age\":26,\n",
    "      \"gender\":\"female\"}},\n",
    "      \n",
    "      {\"3\":{\"name\":\"Nidhi\",\n",
    "      \"age\":28,\n",
    "      \"gender\":\"Female\"}}\n",
    "      \n",
    "       ] \n",
    "\n",
    "# error\n",
    "# list(map(lambda user:user[\"0\"][\"name\"],user))\n",
    "\n",
    "#solution:\n",
    "list(map(lambda user:list(user.values())[0][\"name\"],user))\n"
   ]
  },
  {
   "cell_type": "code",
   "execution_count": 397,
   "id": "c3996b1a-ab7a-4914-a478-444959654a8c",
   "metadata": {},
   "outputs": [
    {
     "ename": "TypeError",
     "evalue": "'list' object is not callable",
     "output_type": "error",
     "traceback": [
      "\u001b[1;31m---------------------------------------------------------------------------\u001b[0m",
      "\u001b[1;31mTypeError\u001b[0m                                 Traceback (most recent call last)",
      "Cell \u001b[1;32mIn[397], line 1\u001b[0m\n\u001b[1;32m----> 1\u001b[0m \u001b[38;5;28mlist\u001b[39m(\u001b[38;5;28mmap\u001b[39m(\u001b[38;5;28;01mlambda\u001b[39;00m user:\u001b[38;5;28mlist\u001b[39m(user\u001b[38;5;241m.\u001b[39mvalues())[\u001b[38;5;241m0\u001b[39m][\u001b[38;5;124m\"\u001b[39m\u001b[38;5;124mname\u001b[39m\u001b[38;5;124m\"\u001b[39m]\u001b[38;5;241m.\u001b[39mtitle(),user))\n",
      "\u001b[1;31mTypeError\u001b[0m: 'list' object is not callable"
     ]
    }
   ],
   "source": [
    "list(map(lambda user:list(user.values())[0][\"name\"].title(),user))\n"
   ]
  },
  {
   "cell_type": "markdown",
   "id": "5304a131-e568-4fd6-8b1f-0364a382a06b",
   "metadata": {},
   "source": [
    "# filter"
   ]
  },
  {
   "cell_type": "code",
   "execution_count": 400,
   "id": "250417a2-f1c5-492f-8223-874f2204297e",
   "metadata": {},
   "outputs": [
    {
     "ename": "TypeError",
     "evalue": "'list' object is not callable",
     "output_type": "error",
     "traceback": [
      "\u001b[1;31m---------------------------------------------------------------------------\u001b[0m",
      "\u001b[1;31mTypeError\u001b[0m                                 Traceback (most recent call last)",
      "Cell \u001b[1;32mIn[400], line 1\u001b[0m\n\u001b[1;32m----> 1\u001b[0m \u001b[38;5;28mlist\u001b[39m(\u001b[38;5;28mfilter\u001b[39m(\u001b[38;5;28;01mlambda\u001b[39;00m x:x\u001b[38;5;241m>\u001b[39m\u001b[38;5;241m5\u001b[39m,\u001b[38;5;28mlist\u001b[39m(\u001b[38;5;28mrange\u001b[39m(\u001b[38;5;241m1\u001b[39m,\u001b[38;5;241m10\u001b[39m\u001b[38;5;241m+\u001b[39m\u001b[38;5;241m1\u001b[39m))))\n",
      "\u001b[1;31mTypeError\u001b[0m: 'list' object is not callable"
     ]
    }
   ],
   "source": [
    "list(filter(lambda x:x>5,list(range(1,10+1))))"
   ]
  },
  {
   "cell_type": "code",
   "execution_count": 402,
   "id": "0112599b-ddcc-46e0-833d-500cb97a7bb2",
   "metadata": {},
   "outputs": [
    {
     "ename": "TypeError",
     "evalue": "'list' object is not callable",
     "output_type": "error",
     "traceback": [
      "\u001b[1;31m---------------------------------------------------------------------------\u001b[0m",
      "\u001b[1;31mTypeError\u001b[0m                                 Traceback (most recent call last)",
      "Cell \u001b[1;32mIn[402], line 3\u001b[0m\n\u001b[0;32m      1\u001b[0m fruits\u001b[38;5;241m=\u001b[39m[\u001b[38;5;124m\"\u001b[39m\u001b[38;5;124mapple\u001b[39m\u001b[38;5;124m\"\u001b[39m,\u001b[38;5;124m\"\u001b[39m\u001b[38;5;124mmango\u001b[39m\u001b[38;5;124m\"\u001b[39m, \u001b[38;5;124m\"\u001b[39m\u001b[38;5;124mgrapes\u001b[39m\u001b[38;5;124m\"\u001b[39m,\u001b[38;5;124m\"\u001b[39m\u001b[38;5;124mavocado\u001b[39m\u001b[38;5;124m\"\u001b[39m, \u001b[38;5;124m\"\u001b[39m\u001b[38;5;124morange\u001b[39m\u001b[38;5;124m\"\u001b[39m, \u001b[38;5;124m\"\u001b[39m\u001b[38;5;124mbanana\u001b[39m\u001b[38;5;124m\"\u001b[39m, \u001b[38;5;124m\"\u001b[39m\u001b[38;5;124mpineapple\u001b[39m\u001b[38;5;124m\"\u001b[39m, \u001b[38;5;124m\"\u001b[39m\u001b[38;5;124mkiwi\u001b[39m\u001b[38;5;124m\"\u001b[39m, \u001b[38;5;124m\"\u001b[39m\u001b[38;5;124miceapple\u001b[39m\u001b[38;5;124m\"\u001b[39m]\n\u001b[1;32m----> 3\u001b[0m \u001b[38;5;28mlist\u001b[39m(\u001b[38;5;28mfilter\u001b[39m(\u001b[38;5;28;01mlambda\u001b[39;00m x: x\u001b[38;5;241m.\u001b[39mstartswith(\u001b[38;5;124m\"\u001b[39m\u001b[38;5;124ma\u001b[39m\u001b[38;5;124m\"\u001b[39m),fruits ))\n",
      "\u001b[1;31mTypeError\u001b[0m: 'list' object is not callable"
     ]
    }
   ],
   "source": [
    "fruits=[\"apple\",\"mango\", \"grapes\",\"avocado\", \"orange\", \"banana\", \"pineapple\", \"kiwi\", \"iceapple\"]\n",
    "\n",
    "list(filter(lambda x: x.startswith(\"a\"),fruits ))"
   ]
  },
  {
   "cell_type": "code",
   "execution_count": null,
   "id": "3c21fe6f-5298-4fe5-8778-39bd76dd2ed4",
   "metadata": {},
   "outputs": [],
   "source": [
    "list(filter(lambda x: x.endswith(\"e\"),fruits ))"
   ]
  },
  {
   "cell_type": "markdown",
   "id": "cd069d7f-7be7-4c5b-bcce-7df45fda8d81",
   "metadata": {},
   "source": [
    "# Reduce"
   ]
  },
  {
   "cell_type": "code",
   "execution_count": null,
   "id": "f3dc26fb-f23a-48a1-b3ad-9013b47e7b0f",
   "metadata": {},
   "outputs": [],
   "source": [
    "import functools\n",
    "# sum of list\n",
    "functools.reduce(lambda x,y:x+y,[1,2,3,4,5,6,7,8,9,10])"
   ]
  },
  {
   "cell_type": "code",
   "execution_count": null,
   "id": "a0cfcbfe-45b2-42fd-afae-62c5156d50a2",
   "metadata": {},
   "outputs": [],
   "source": [
    "functools.reduce(lambda x,y:x+y,list(range(1,5)))"
   ]
  },
  {
   "cell_type": "code",
   "execution_count": null,
   "id": "ec0b74aa-09fb-4c74-abe7-d1cae4416430",
   "metadata": {},
   "outputs": [],
   "source": [
    "functools.reduce(lambda x,y:x*y,list(range(1,5)))"
   ]
  },
  {
   "cell_type": "code",
   "execution_count": null,
   "id": "9d44a0a0-0da3-409f-850b-7754a9f4dd49",
   "metadata": {},
   "outputs": [],
   "source": [
    "# min\n",
    "functools.reduce(lambda x,y: x if x<y else y, [12,2,34,56,78,32,5] )\n"
   ]
  },
  {
   "cell_type": "code",
   "execution_count": null,
   "id": "991f31c3-da11-4d01-a54c-f1d8eee24974",
   "metadata": {},
   "outputs": [],
   "source": [
    "# max\n",
    "functools.reduce(lambda x,y: x if x>y else y, [12,2,34,56,78,32,5] )\n"
   ]
  },
  {
   "cell_type": "markdown",
   "id": "2d16613e-71d2-4a6c-bdd2-26540e6c34b0",
   "metadata": {},
   "source": [
    "# 2d dictionary access:"
   ]
  },
  {
   "cell_type": "code",
   "execution_count": null,
   "id": "36f9b148-3b82-4434-ac81-675275f833ce",
   "metadata": {},
   "outputs": [],
   "source": [
    "m = {\"name\": \"nishant\", \"age\": 25, \"city\": \"delhi\"}\n",
    "id = 1\n",
    "k = {id: m}  \n",
    "# dictionary will look like\n",
    "# k= {1: {\"name\": \"nishant\", \"age\": 25, \"city\": \"delhi\"} }\n",
    "print(id)\n",
    "for key, value in k[id].items():\n",
    "    print(key, \":\", value)"
   ]
  },
  {
   "cell_type": "code",
   "execution_count": null,
   "id": "da9c3a04-3e12-44a7-9489-c2e34a76ee63",
   "metadata": {},
   "outputs": [],
   "source": [
    "for key, value in k.items():\n",
    "    for subkey, subvalue in value.items():\n",
    "        print(subkey, \":\", subvalue)"
   ]
  },
  {
   "cell_type": "code",
   "execution_count": null,
   "id": "b12d20dc-5ddc-4e92-8fb4-25d20353593d",
   "metadata": {},
   "outputs": [],
   "source": []
  },
  {
   "cell_type": "markdown",
   "id": "feb4fe31-0643-47d9-bd73-f1bfd236ec0e",
   "metadata": {},
   "source": [
    "# User will input (3ages).Find the oldest one"
   ]
  },
  {
   "cell_type": "code",
   "execution_count": null,
   "id": "2d75f80a-58b9-4e94-9a5f-4e895830394a",
   "metadata": {},
   "outputs": [],
   "source": [
    "person1=int(input(\"enter your age\"))\n",
    "person2=int(input(\"enter your age\"))\n",
    "person3=int(input(\"enter your age\"))\n",
    "\n",
    "if person1>person2 and person1>person3:\n",
    "    print(\"person1 is older\")\n",
    "elif person2>person3:\n",
    "    print(\"person2 is older\")\n",
    "else:\n",
    "    print(\"person3 is older\")"
   ]
  },
  {
   "cell_type": "markdown",
   "id": "574c03a0-cc2f-4f20-a06d-e9331873129d",
   "metadata": {},
   "source": [
    "# Write a program that will give you the sum of 3 digits"
   ]
  },
  {
   "cell_type": "code",
   "execution_count": 406,
   "id": "84d7f781-2bfc-4bf8-afce-489b980ddc48",
   "metadata": {},
   "outputs": [
    {
     "name": "stdin",
     "output_type": "stream",
     "text": [
      "enter number 134\n"
     ]
    },
    {
     "name": "stdout",
     "output_type": "stream",
     "text": [
      "8\n"
     ]
    }
   ],
   "source": [
    "num=int(input(\"enter number\"))\n",
    "sum=0\n",
    "i=0\n",
    "while num>0:\n",
    "    a=num%10\n",
    "    sum=sum+a\n",
    "    num=num//10\n",
    "print(sum)"
   ]
  },
  {
   "cell_type": "code",
   "execution_count": null,
   "id": "860b3f31-0e4b-4af7-adea-28a1f8f1d96e",
   "metadata": {},
   "outputs": [],
   "source": [
    "num=int(input(\"enter number\"))\n",
    "\n",
    "a=(num%10) # 134 %10 = 4\n",
    "num=num//10 # 134//10=13\n",
    "b=num%10 # 13 % 10 = 3\n",
    "c=num//10 # 13 //10 = 1\n",
    "\n",
    "sum=a+b+c\n",
    "print(sum)"
   ]
  },
  {
   "cell_type": "markdown",
   "id": "e4f1b7d7-adfb-4378-b641-a629518f232c",
   "metadata": {},
   "source": [
    "# 27 july 2024"
   ]
  },
  {
   "cell_type": "markdown",
   "id": "74c8f049-28a7-47c8-b875-93a642f871f0",
   "metadata": {
    "scrolled": true
   },
   "source": [
    "# Write a program that will reverse a four digit number.Also it checks whether the reverse is true"
   ]
  },
  {
   "cell_type": "code",
   "execution_count": 410,
   "id": "1b76e12a-88b3-473c-a401-1583f7767ad1",
   "metadata": {},
   "outputs": [
    {
     "name": "stdin",
     "output_type": "stream",
     "text": [
      "enter number 121\n"
     ]
    },
    {
     "name": "stdout",
     "output_type": "stream",
     "text": [
      "reverse true\n"
     ]
    }
   ],
   "source": [
    "num=int(input(\"enter number\"))\n",
    "rev_num=str(num)\n",
    "reverse=rev_num[::-1]\n",
    "\n",
    "if reverse == str(num):\n",
    "    print(\"reverse true\")\n",
    "else:\n",
    "    print(\"not reverse\")"
   ]
  },
  {
   "cell_type": "markdown",
   "id": "43f40ac5-e103-4125-98f1-d1827c00307e",
   "metadata": {},
   "source": [
    "# Write a Python program that accepts an integer (n) and computes the value of n+nn+nnn"
   ]
  },
  {
   "cell_type": "code",
   "execution_count": 412,
   "id": "5b34ed99-b703-4a30-9bdd-697e135a4473",
   "metadata": {},
   "outputs": [
    {
     "name": "stdin",
     "output_type": "stream",
     "text": [
      "enter number 2\n"
     ]
    },
    {
     "name": "stdout",
     "output_type": "stream",
     "text": [
      "2+22+222\n",
      "246\n"
     ]
    }
   ],
   "source": [
    "n=input(\"enter number\")\n",
    "nn=n+n\n",
    "nnn=n+n+n\n",
    "print(n+\"+\"+nn+\"+\"+nnn)\n",
    "sum=int(n)+int(nn)+int(nnn)\n",
    "print(sum)"
   ]
  },
  {
   "cell_type": "markdown",
   "id": "24d875e1-a1a9-4d44-8d33-dea77b85a115",
   "metadata": {},
   "source": [
    "# Write a program that will tell whether the number entered by the user is odd or even."
   ]
  },
  {
   "cell_type": "code",
   "execution_count": null,
   "id": "6ce8cbc4-c125-460c-8a6c-ae2d4bb1f81e",
   "metadata": {},
   "outputs": [],
   "source": [
    "num=int(input(\"enter a number\"))\n",
    "\n",
    "if num%2==0:\n",
    "    print(\"even\")\n",
    "else:\n",
    "    print(\"odd\")"
   ]
  },
  {
   "cell_type": "markdown",
   "id": "ea679612-066c-44b7-aa2f-979215935091",
   "metadata": {},
   "source": [
    "# Write a program that will tell whether the given year is a leap year or not."
   ]
  },
  {
   "cell_type": "code",
   "execution_count": null,
   "id": "e4b46bea-a2eb-4a5a-b612-881d5f9b0e3b",
   "metadata": {},
   "outputs": [],
   "source": [
    "year=int(input(\"enter year\"))\n",
    "\n",
    "if year%4==0:\n",
    "    print(\"leap year\")\n",
    "else:\n",
    "    print(\"not leap year\")"
   ]
  },
  {
   "cell_type": "markdown",
   "id": "44514c01-4e81-4662-b068-cd13482035c8",
   "metadata": {},
   "source": [
    "# Write a program to find the euclidean distance between two coordinates."
   ]
  },
  {
   "cell_type": "code",
   "execution_count": null,
   "id": "fffb9c07-3548-4fa9-8a8e-21d257945aa3",
   "metadata": {},
   "outputs": [],
   "source": [
    "x2=int(input(\"enter number\"))\n",
    "x1=int(input(\"enter number\"))\n",
    "y2=int(input(\"enter number\"))\n",
    "y1=int(input(\"enter number\"))\n",
    "ed=(x2-x1)**2+(y2-y1)**2\n",
    "print(ed)"
   ]
  },
  {
   "cell_type": "markdown",
   "id": "34af7cb1-d84c-45eb-a19b-c30139e65f4b",
   "metadata": {},
   "source": [
    "# Write a program that take a user inputr of three angles and will find out whether it can form a triangle or not."
   ]
  },
  {
   "cell_type": "code",
   "execution_count": null,
   "id": "f1db4786-02cb-4565-a45e-c1a20f980396",
   "metadata": {},
   "outputs": [],
   "source": [
    "#a+b+c=180\n",
    "a=int(input(\"enter number\"))\n",
    "b=int(input(\"enter number\"))\n",
    "c=int(input(\"enter number\"))\n",
    "\n",
    "if a+b+c==180 and a!=0 and b!=0 and c!=0:\n",
    "    print(\"Triangle possible\")\n",
    "else:\n",
    "    print(\"Triangle not possible\")"
   ]
  },
  {
   "cell_type": "markdown",
   "id": "a0783d2f-5820-42ae-8b02-63ecdab96c87",
   "metadata": {},
   "source": [
    "# Write a program that will take user input of cost price and selling price and determines whether its a loss or a profit"
   ]
  },
  {
   "cell_type": "code",
   "execution_count": null,
   "id": "461842c0-89d0-41c1-b10a-4f0300c66645",
   "metadata": {},
   "outputs": [],
   "source": [
    "cost=int(input(\"enter number\"))\n",
    "selling_price= int(input(\"enter number\"))\n",
    "\n",
    "if cost<selling_price:\n",
    "    print(\"Profit\",selling_price-cost)\n",
    "else:\n",
    "    print(\"Loss\", selling_price-cost)"
   ]
  },
  {
   "cell_type": "markdown",
   "id": "0f939e62-dd46-4b5e-8380-8a51af198bb1",
   "metadata": {},
   "source": [
    "# Write a program to find the simple interest when the value of principle,rate of interest and time period is given."
   ]
  },
  {
   "cell_type": "code",
   "execution_count": null,
   "id": "b02d0537-91e1-4463-b433-c21ce5d23a73",
   "metadata": {},
   "outputs": [],
   "source": [
    "P=int(input(\"enter amount number\"))\n",
    "R=int(input(\"enter interest rate number\"))\n",
    "T=int(input(\"enter year\"))\n",
    "si=(P * R* T)/100\n",
    "total=P+si\n",
    "print(\"total amount is: \", total)"
   ]
  },
  {
   "cell_type": "markdown",
   "id": "6af214d1-461b-4c5e-bfc8-1920dd371d43",
   "metadata": {},
   "source": [
    "# Write a program to find the volume of the cylinder. Also find the cost when ,when the cost of 1litre milk is 40Rs"
   ]
  },
  {
   "cell_type": "code",
   "execution_count": null,
   "id": "60afba18-3e48-41cb-a4e9-4d7a91676ba1",
   "metadata": {},
   "outputs": [],
   "source": [
    "# 2pie r**2 h\n",
    "radius=int(input(\"enter radius\"))\n",
    "height=int(input(\"enter height\"))\n",
    "\n",
    "vol = 3.14 * (radius**2) * height\n",
    "print(vol)\n",
    "\n",
    "milk_cost=vol/1000*40\n",
    "print(milk_cost)"
   ]
  },
  {
   "cell_type": "markdown",
   "id": "94677832-8443-4147-8d3c-5aceaaf8b3cf",
   "metadata": {},
   "source": [
    "# Write  a program that will tell whether the given number is divisible by 3 & 6."
   ]
  },
  {
   "cell_type": "code",
   "execution_count": null,
   "id": "125cce2b-7ed8-4351-ad8c-b044fb0dbc6d",
   "metadata": {},
   "outputs": [],
   "source": [
    "num=int(input(\"enter number\"))\n",
    "\n",
    "if num%3==0 and num%6==0:\n",
    "    print(\"divisible\")\n",
    "else:\n",
    "    print(\"not divisible\")"
   ]
  },
  {
   "cell_type": "markdown",
   "id": "05661451-d7ef-4c8f-9c8e-a81abfda2c05",
   "metadata": {},
   "source": [
    "# WAP to find the angle between the hourse and miutes"
   ]
  },
  {
   "cell_type": "code",
   "execution_count": 414,
   "id": "86439bf5-6715-4c29-8b7e-00a522f5c6b4",
   "metadata": {},
   "outputs": [
    {
     "data": {
      "text/plain": [
       "(5.85, 5.833333333333333)"
      ]
     },
     "execution_count": 414,
     "metadata": {},
     "output_type": "execute_result"
    }
   ],
   "source": [
    "hours=9\n",
    "minute=10\n",
    "hour_ang= 360-hours\n",
    "min_ang = 360-minute\n",
    "ang=(hour_ang/60,min_ang/60)\n",
    "ang"
   ]
  },
  {
   "cell_type": "markdown",
   "id": "74e96538-b421-4586-9648-0667bc313756",
   "metadata": {},
   "source": [
    "#\tWrite a program that will determine weather when the value of temperature and humidity is provided by the user.\n",
    "TEMPERATURE(C)      HUMIDITY(%)      WEATHER\n",
    "\n",
    "      >= 30                             >=90                Hot and Humid\n",
    "      >= 30                             < 90                 Hot\n",
    "      <30                                >= 90               Cool and Humid\n",
    "      <30                                 <90                 Cool\n"
   ]
  },
  {
   "cell_type": "code",
   "execution_count": null,
   "id": "d42d2520-21a3-4a54-9539-e4d976f70ec8",
   "metadata": {},
   "outputs": [],
   "source": [
    "temp=int(input(\"enter wheter temprature\"))\n",
    "humid=int(input(\"enter wheter humidity\"))\n",
    "if temp<30 and humid <90:\n",
    "    print(\"cool\")\n",
    "elif temp<30 and humid>=90:\n",
    "    print(\"cool and humid\")\n",
    "elif temp >=30 and humid<90:\n",
    "    print(\"Hot\")\n",
    "elif temp>=30 and humid>=90:\n",
    "    print(\"Hot and humid\")"
   ]
  },
  {
   "cell_type": "markdown",
   "id": "19b61d3e-bd36-4b87-b67c-406fbefc75b9",
   "metadata": {},
   "source": [
    "# Write a program that will take three digits from the user and add the square of each digit."
   ]
  },
  {
   "cell_type": "code",
   "execution_count": null,
   "id": "16abee76-cf9b-4e1c-a221-562c6905b067",
   "metadata": {},
   "outputs": [],
   "source": [
    "num=int(input(\"enter a number\"))\n",
    "\n",
    "sum=0\n",
    "i=0\n",
    "while num>i:\n",
    "    k=num%10\n",
    "    sum=sum+k**2\n",
    "    num=num//10\n",
    "print(sum)"
   ]
  },
  {
   "cell_type": "markdown",
   "id": "c08fceb3-1992-4056-b295-3f6a3540c760",
   "metadata": {},
   "source": [
    "# Write a program that will check whether the number is armstrong number or not."
   ]
  },
  {
   "cell_type": "code",
   "execution_count": null,
   "id": "1940fc61-9e42-44b4-85cb-d977e04f34b2",
   "metadata": {},
   "outputs": [],
   "source": [
    "num=input(\"enter a number\")\n",
    "sum=0\n",
    "k=\"\"\n",
    "for i in num:\n",
    "    k=int(i)\n",
    "    sum+=int(k**len(num))\n",
    "print(sum)\n",
    "\n",
    "if sum==int(num):\n",
    "    print(\"number is armstrong\")\n",
    "else:\n",
    "    print(\"not aramstrong\")"
   ]
  },
  {
   "cell_type": "markdown",
   "id": "ada979d8-33fd-4aa6-a43d-fb52624fb99d",
   "metadata": {},
   "source": [
    "# Write a program that will take user input of (4 digits number) and check whether the number is narcissist number or not."
   ]
  },
  {
   "cell_type": "code",
   "execution_count": null,
   "id": "a353efee-1b1b-4721-b758-fbb02931f71d",
   "metadata": {},
   "outputs": [],
   "source": [
    "# narcissist number also called as aramstrong number.\n",
    "num=input(\"enter a number\")\n",
    "sum=0\n",
    "k=\"\"\n",
    "for i in num:\n",
    "    k=int(i)\n",
    "    sum+=int(k**len(num))\n",
    "print(sum)\n",
    "\n",
    "if sum==int(num):\n",
    "    print(\"number is narcissist\")\n",
    "else:\n",
    "    print(\"not narcissist\")"
   ]
  },
  {
   "cell_type": "markdown",
   "id": "b822df83-f8c0-4244-b230-99d9bba8be69",
   "metadata": {},
   "source": [
    "# Write a program that will give you the in hand salary after deduction of HRA(10%),DA(5%),PF(3%), and tax(if salary is between 5-10 lakh–10%),(11-20lakh–20%),(20< _   – 30%)(0-1lakh print k)."
   ]
  },
  {
   "cell_type": "code",
   "execution_count": null,
   "id": "ba3b95af-03c3-427e-afe7-5207786a7639",
   "metadata": {},
   "outputs": [],
   "source": [
    "salary=int(input(\"enter your salary\"))\n",
    "if 0<salary<100000:\n",
    "    print(salary)\n",
    "elif 500000 < salary <=1000000:\n",
    "    print(\"deduction:\",salary//10, \"in hand salary:\", salary-(salary//10))\n",
    "elif 100000< salary <=2000000:\n",
    "    print(\"deduction:\",salary//20, \"in hand salary:\", salary-(salary//20))\n",
    "elif 2000000 <salary >=3000000:\n",
    "    print(\"deduction:\",salary//30, \"in hand salary:\", salary-(salary//30))"
   ]
  },
  {
   "cell_type": "markdown",
   "id": "5b955303-ae6e-4f40-aca6-1a1e8624b530",
   "metadata": {},
   "source": [
    "\n",
    "# Write a menu driven program - 1.cm to ft  2.kl to miles  3.usd to inr  4.exit"
   ]
  },
  {
   "cell_type": "code",
   "execution_count": null,
   "id": "491e1ac8-8d53-4b72-81fe-63733dc3b47d",
   "metadata": {},
   "outputs": [],
   "source": [
    "menu=input(\"\"\"\n",
    "1. cm to ft\n",
    "2. kl to miles\n",
    "3. usd to inr\n",
    "\"\"\")\n",
    "if menu==\"1\":\n",
    "    cm=int(input(\"enter cm to convert into ft\"))\n",
    "    feet=cm//30.48\n",
    "    print(cm,\"CM is\",feet, \"Feet\")\n",
    "elif menu==\"2\":\n",
    "    km=int(input(\"enter km to convert into mile\"))\n",
    "    miles=km//1.609\n",
    "    print(km,\"km is\",miles, \"Miles\")\n",
    "elif menu==\"3\":\n",
    "    USD=int(input(\"enter USD to convert into INR\"))\n",
    "    INR=USD*83.72\n",
    "    print(USD,\"USD is\",INR, \"Rs.\")\n",
    "else:\n",
    "    print(\"wrong choice\")"
   ]
  },
  {
   "cell_type": "markdown",
   "id": "bfff5285-52a5-4c31-a502-2072fdcb8779",
   "metadata": {},
   "source": [
    "# Write a program that will tell the number of dogs and chicken are there when the user will provide the value of total heads and legs."
   ]
  },
  {
   "cell_type": "code",
   "execution_count": null,
   "id": "24bd36ea-2c9f-40d3-8728-e8018612adc2",
   "metadata": {},
   "outputs": [],
   "source": [
    "leg = int(input(\"enter leg count\"))\n",
    "head = int(input(\"enter head count \"))\n",
    "\n",
    "dog=(leg/2)-head\n",
    "chicken=head-dog\n",
    "print(\"Total dogs: \",dog)\n",
    "print(\"Total chiken: \",chicken)"
   ]
  },
  {
   "cell_type": "markdown",
   "id": "ea606417-fc3f-4988-b42f-b9851a83aed3",
   "metadata": {},
   "source": [
    "# Write a program that will swap numbers"
   ]
  },
  {
   "cell_type": "code",
   "execution_count": null,
   "id": "22045252-d388-4895-9e0e-d835c54addc9",
   "metadata": {},
   "outputs": [],
   "source": [
    "num1=int(input(\"enter 1st number\"))\n",
    "num2=int(input(\"enter 2nd number\"))\n",
    "print(\"before swap: \",num1, num2)\n",
    "num1,num2=num2,num1\n",
    "print(\"after swap: \",num1, num2)"
   ]
  },
  {
   "cell_type": "markdown",
   "id": "cca030d5-13c8-4ef6-a1ad-f28a5ae9bb0d",
   "metadata": {},
   "source": [
    "# Write a program to find the sum of first n numbers, where n will be provided by the user. Eg if the user provides n=10 the output should be 55."
   ]
  },
  {
   "cell_type": "code",
   "execution_count": null,
   "id": "dfcd5731-e025-47a7-8bca-978af44f95bb",
   "metadata": {},
   "outputs": [],
   "source": [
    "n=10\n",
    "sum=0\n",
    "for i in range(n+1):\n",
    "    sum=sum+i\n",
    "print(sum)"
   ]
  },
  {
   "cell_type": "markdown",
   "id": "554e9f22-a02c-42ca-a8c1-9de101f2a30d",
   "metadata": {},
   "source": [
    "# Write a program that can multiply 2 numbers provided by the user without using the * operator"
   ]
  },
  {
   "cell_type": "code",
   "execution_count": null,
   "id": "676a4c96-f38e-4f3b-9223-6be31a0131fb",
   "metadata": {},
   "outputs": [],
   "source": [
    "num1=int(input(\"enter 1st number\"))\n",
    "num2=int(input(\"enter 2nd number\"))\n",
    "sum=0\n",
    "for i in range(0,num1):\n",
    "    sum=sum+num2\n",
    "    print(sum)\n",
    "# print(sum)"
   ]
  },
  {
   "cell_type": "markdown",
   "id": "f9737ac9-4caa-4877-8131-f88a7668851c",
   "metadata": {},
   "source": [
    "# Write a program that can find the factorial of a given number provided by the user."
   ]
  },
  {
   "cell_type": "code",
   "execution_count": null,
   "id": "7f2a85e6-185c-4777-ae34-326374140c8d",
   "metadata": {},
   "outputs": [],
   "source": [
    "num=int(input(\"enter a number\"))\n",
    "fact=1\n",
    "\n",
    "for i in range(1,num+1):\n",
    "    fact=fact*i\n",
    "print(fact)"
   ]
  },
  {
   "cell_type": "markdown",
   "id": "e28195fa-0cd3-4068-b384-6a766e30bd81",
   "metadata": {},
   "source": [
    "# Write a program to print the first 25 odd numbers"
   ]
  },
  {
   "cell_type": "code",
   "execution_count": null,
   "id": "046dcfee-ef0e-4c7a-a0e2-f4739bd0b695",
   "metadata": {},
   "outputs": [],
   "source": [
    "count=0\n",
    "for i in range(0,100):\n",
    "    if i%2!=0:\n",
    "        print(i)\n",
    "        count+=1\n",
    "        if count==25:\n",
    "            break"
   ]
  },
  {
   "cell_type": "markdown",
   "id": "78430694-1fef-4638-a566-c9a9ca169b1d",
   "metadata": {},
   "source": [
    "# Write a program to print whether a given number is prime number or not"
   ]
  },
  {
   "cell_type": "code",
   "execution_count": null,
   "id": "5a04ce65-cb9e-42a6-bd78-dcc5d4737db4",
   "metadata": {},
   "outputs": [],
   "source": [
    "n=int(input(\"enter number\"))\n",
    "b=1\n",
    "for i in range(2,n):\n",
    "    if n%i==0:\n",
    "        b=0\n",
    "if b==1:\n",
    "    print(\"number is prime\")\n",
    "else:\n",
    "    print(\"number is not prime\")"
   ]
  },
  {
   "cell_type": "markdown",
   "id": "6a95d326-c837-45ec-b052-dfc33673ffce",
   "metadata": {},
   "source": [
    "# Print all the armstrong numbers in the range of 100 to 1000"
   ]
  },
  {
   "cell_type": "code",
   "execution_count": null,
   "id": "0e25aeb4-6610-43a7-80aa-1d32a4e3a7bc",
   "metadata": {},
   "outputs": [],
   "source": [
    "for num in range(100,100000):\n",
    "    num2=str(num)\n",
    "    sum=0\n",
    "    temp=num\n",
    "    while temp>0:\n",
    "        digit=temp%10 \n",
    "        square=digit**len(num2) \n",
    "        sum=sum+square \n",
    "        temp = temp//10 \n",
    "    \n",
    "    if sum==num:\n",
    "        print(num)"
   ]
  },
  {
   "cell_type": "markdown",
   "id": "b58da638-b058-45d8-a6fb-eba326af0d4f",
   "metadata": {},
   "source": [
    "# The current population of a town is 10000. The population of the town is increasing at the rate of 10% per year. You have to write a program to find out the population at the end of each of the last 10 years. For eg current population is 10000 so the output should be like this:\n",
    "10th year - 10000   \n",
    "9th year - 9000    \n",
    "8th year - 8100 and so on    \n"
   ]
  },
  {
   "cell_type": "code",
   "execution_count": null,
   "id": "760420f3-fcb5-4111-918e-862ad243fa7b",
   "metadata": {},
   "outputs": [],
   "source": [
    "current_pop=10000\n",
    "count=1\n",
    "new_pop=\"\"\n",
    "for i in range(1,11):\n",
    "    current_pop=current_pop-(current_pop//10)\n",
    "    count=+1\n",
    "    new_pop=current_pop\n",
    "    print(i,\"Population:\", new_pop,\"\\n\")\n"
   ]
  },
  {
   "cell_type": "markdown",
   "id": "725a3a44-63ec-4b7c-9fe3-008c128b0a31",
   "metadata": {},
   "source": [
    "# Write a program to print all the unique combinations of 1,2,3 and 4"
   ]
  },
  {
   "cell_type": "code",
   "execution_count": null,
   "id": "23fa82bc-dd39-4324-a6a1-9f108adf6bf2",
   "metadata": {},
   "outputs": [],
   "source": [
    "for i in range(1,5):\n",
    "    for k in range(1,5):\n",
    "        for j in range(1,5):\n",
    "            for m in range(1,5):\n",
    "                if i!=k and i!=j and i!=m:\n",
    "                    print(i,k,j,m)"
   ]
  },
  {
   "cell_type": "markdown",
   "id": "c7d7fad2-2dc9-4296-ab69-2f6b4641799e",
   "metadata": {},
   "source": [
    "# User will provide 2 numbers you have to find the HCF of those 2 numbers"
   ]
  },
  {
   "cell_type": "code",
   "execution_count": null,
   "id": "5b528138-aeec-40de-b54d-f42e55ade92d",
   "metadata": {},
   "outputs": [],
   "source": [
    "# first take reminder and than swap the number \n",
    "\n",
    "num1=int(input(\"enter num1 number\"))\n",
    "num2=int(input(\"enter num2 number\"))\n",
    "\n",
    "i=0\n",
    "while num1%num2!=0:\n",
    "    rem=num1%num2\n",
    "    num1=num2\n",
    "    num2=rem\n",
    "print(num2)"
   ]
  },
  {
   "cell_type": "markdown",
   "id": "6b6ba138-fef0-477e-bfe5-5ded8b097a40",
   "metadata": {},
   "source": [
    "# User will provide 2 numbers you have to find the by LCM of those 2 numbers"
   ]
  },
  {
   "cell_type": "code",
   "execution_count": null,
   "id": "c6c8be77-5f82-4f8c-b6ce-ce4982edff14",
   "metadata": {},
   "outputs": [],
   "source": [
    "# first take reminder and than swap the number than multiply num1 & num2 / hcf\n",
    "num1=int(input(\"enter num1 number\"))\n",
    "num2=int(input(\"enter num2 number\"))\n",
    "\n",
    "i=0\n",
    "while num1%num2!=0:\n",
    "    rem=num1%num2\n",
    "    num1=num2\n",
    "    num2=rem\n",
    "hcf =num2\n",
    "\n",
    "lcm=(num1*num2)/hcf\n",
    "print(lcm)"
   ]
  },
  {
   "cell_type": "markdown",
   "id": "ace2efab-1a72-487e-8b3d-9d39d92d24a5",
   "metadata": {},
   "source": [
    "# Print first 25 prime numbers"
   ]
  },
  {
   "cell_type": "code",
   "execution_count": null,
   "id": "7fffef16-0e09-4014-b841-d299e1ba2de5",
   "metadata": {},
   "outputs": [],
   "source": [
    "count=0\n",
    "for i in range(0,1000):\n",
    "    b=1\n",
    "    for k in range(2,i):\n",
    "        if i%k==0:\n",
    "            b=0\n",
    "    count+=1  \n",
    "    if count==25:\n",
    "        break\n",
    "    if b==1:\n",
    "        print(i)  \n",
    "    if count>25:\n",
    "        break"
   ]
  },
  {
   "cell_type": "markdown",
   "id": "d6a484b9-b3c3-44da-955b-ca358e629bbb",
   "metadata": {},
   "source": [
    "# Print the first 20 numbers of a Fibonacci series"
   ]
  },
  {
   "cell_type": "code",
   "execution_count": null,
   "id": "c95cce23-6f02-4b08-8fa3-38346e330715",
   "metadata": {},
   "outputs": [],
   "source": [
    "a=0\n",
    "b=1\n",
    "\n",
    "for i in range(0,21):\n",
    "    a,b=b,a+b\n",
    "    print(a,end=\" \")"
   ]
  },
  {
   "cell_type": "markdown",
   "id": "8b86bbd9-d6a7-4f48-a64a-bb4ab5841e20",
   "metadata": {},
   "source": [
    "# Write a program to find the compound interest "
   ]
  },
  {
   "cell_type": "code",
   "execution_count": null,
   "id": "6fd8908a-97d2-45ad-ac65-5ee78e70e787",
   "metadata": {},
   "outputs": [],
   "source": [
    "P=int(input(\"enter Principal amount\"))\n",
    "R=int(input(\"enter Rate of Interest\"))\n",
    "T=int(input(\"enter Time (in years)\"))\n",
    "# A = P*(1 + R/100)**T\n",
    "A=P*(1+R/100)**T\n",
    "print(\"Your amount is:\",A)\n",
    "ci=A-P\n",
    "print(\"Compount Interest\",ci)"
   ]
  },
  {
   "cell_type": "markdown",
   "id": "59f0c694-896d-47c5-b862-25c6e956ae15",
   "metadata": {},
   "source": [
    "# Write a Python program that accepts an integer (n) and computes the value of n+nn+nnn."
   ]
  },
  {
   "cell_type": "code",
   "execution_count": null,
   "id": "8198165a-3d18-445a-ada8-06a4071ed5e8",
   "metadata": {},
   "outputs": [],
   "source": [
    "n=input(\"enter number\")\n",
    "\n",
    "k=n+\" + \"+n+n+\" + \"+ n+n+n+\" + \"+n+n+n+n+\" + \"+n+n+n+n+n\n",
    "print(k)"
   ]
  },
  {
   "cell_type": "code",
   "execution_count": null,
   "id": "ab1359c3-9ea8-40ce-abaf-3d5a46766757",
   "metadata": {},
   "outputs": [],
   "source": [
    "n = int(input(\"Enter an integer: \"))\n",
    "\n",
    "total = 0\n",
    "\n",
    "for i in range(1, 4):\n",
    "    num = int(str(n) * i)\n",
    "    total += num\n",
    "print(\"The value of n+nn+nnn is:\", total)"
   ]
  },
  {
   "cell_type": "markdown",
   "id": "7ba19b2a-5ed5-46b3-9257-8b81c18a4742",
   "metadata": {},
   "source": [
    "# Write a function to interleave two strings of the same length.\n",
    "Input : \"abc\", \"123\"  # Output: \"a1b2c3\"\n"
   ]
  },
  {
   "cell_type": "code",
   "execution_count": null,
   "id": "a0280b74-a09d-47b6-af9a-561b15ff6045",
   "metadata": {},
   "outputs": [],
   "source": [
    "a=\"abc\"\n",
    "b=\"123\"\n",
    "interleave=''\n",
    "for i in a,b:\n",
    "    k=a[0],b[0],a[1],b[1],a[2],b[2]\n",
    "    interleave=str(\"\".join(k))\n",
    "print(interleave)"
   ]
  },
  {
   "cell_type": "markdown",
   "id": "7c41f849-5da4-486a-a9ea-6993d635ba9b",
   "metadata": {},
   "source": [
    "# Take a number from the user and find the number of digits in it. "
   ]
  },
  {
   "cell_type": "code",
   "execution_count": null,
   "id": "c91bd56b-d433-4373-b81c-fa03f8beede5",
   "metadata": {},
   "outputs": [],
   "source": [
    "num=int(input(\"enter a number\"))\n",
    "find_num=int(input(\"find the number\"))\n",
    "\n",
    "if str(find_num) in str(num):\n",
    "    print(\"value find\")\n",
    "else:\n",
    "    print(\"value not found\")"
   ]
  },
  {
   "cell_type": "markdown",
   "id": "31714c65-e788-46af-88c3-f3d11c03a164",
   "metadata": {},
   "source": [
    "# Print all factors of a given number provided by the user"
   ]
  },
  {
   "cell_type": "code",
   "execution_count": 418,
   "id": "cb20853c-7c7f-4f9c-ac8f-38ac94626910",
   "metadata": {},
   "outputs": [
    {
     "name": "stdin",
     "output_type": "stream",
     "text": [
      "enter number 10\n"
     ]
    },
    {
     "name": "stdout",
     "output_type": "stream",
     "text": [
      "1\n",
      "2\n",
      "5\n",
      "10\n"
     ]
    }
   ],
   "source": [
    "num=int(input(\"enter number\"))\n",
    "\n",
    "for i in range(1,num+1):\n",
    "    if num%i==0:\n",
    "        print(i)"
   ]
  },
  {
   "cell_type": "markdown",
   "id": "a9f2bfb8-ee77-4240-a5ae-3697ea7d1e63",
   "metadata": {},
   "source": [
    "# Find the reverse of a number provided by the user(any number of digit"
   ]
  },
  {
   "cell_type": "code",
   "execution_count": 422,
   "id": "aa9405f8-40d7-4438-ab37-ac110cd10f0b",
   "metadata": {},
   "outputs": [
    {
     "name": "stdin",
     "output_type": "stream",
     "text": [
      "enter number 56\n"
     ]
    },
    {
     "name": "stdout",
     "output_type": "stream",
     "text": [
      "65\n"
     ]
    }
   ],
   "source": [
    "number=int(input(\"enter number\"))\n",
    "rev=str(number)\n",
    "print(rev[::-1])"
   ]
  },
  {
   "cell_type": "markdown",
   "id": "26f8a704-c459-48f6-81a1-8feb78e9a6cc",
   "metadata": {},
   "source": [
    "# Write a program to print the following pattern\n",
    "    *    \n",
    "    **   \n",
    "    ***   \n",
    "    ****   \n",
    "    *****  \n"
   ]
  },
  {
   "cell_type": "code",
   "execution_count": 424,
   "id": "01cb2d7d-2c53-44e0-b235-6570b15a490e",
   "metadata": {},
   "outputs": [
    {
     "name": "stdout",
     "output_type": "stream",
     "text": [
      "\n",
      "\n",
      "*\n",
      "**\n",
      "***\n",
      "****\n",
      "*****"
     ]
    }
   ],
   "source": [
    "for i in range(0,6):\n",
    "    print(\"\")\n",
    "    for j in range(0,i):\n",
    "        print(\"*\",end=\"\")"
   ]
  },
  {
   "cell_type": "markdown",
   "id": "737ccb03-3ad6-40e8-893b-2e2a79f00dc2",
   "metadata": {},
   "source": [
    "# Write a program to print the following pattern\n",
    "    *\n",
    "    **\n",
    "    ***\n",
    "    **\n",
    "    *\n"
   ]
  },
  {
   "cell_type": "code",
   "execution_count": 426,
   "id": "e57fec3f-6579-4771-905a-d2d26232d8b1",
   "metadata": {},
   "outputs": [
    {
     "name": "stdout",
     "output_type": "stream",
     "text": [
      "\n",
      "\n",
      "*\n",
      "**\n",
      "***\n",
      "**\n",
      "*"
     ]
    }
   ],
   "source": [
    "for i in range(0,3):\n",
    "    print(\"\")\n",
    "    for j in range(0,i):\n",
    "        print(\"*\",end=\"\")\n",
    "for i in range(3,0,-1):\n",
    "    print(\"\")\n",
    "    for j in range(0,i):\n",
    "        print(\"*\",end=\"\")\n",
    "        "
   ]
  },
  {
   "cell_type": "markdown",
   "id": "33c79b6c-d8cf-4e7d-af2b-c7cb6413978c",
   "metadata": {},
   "source": [
    "# Write  a program to print the following pattern\n",
    "            *\n",
    "          * * *\n",
    "        * * * * *\n",
    "       * * * * * * *\n",
    "    * * * * * * * * *\n"
   ]
  },
  {
   "cell_type": "code",
   "execution_count": 428,
   "id": "45d61ab9-bf1d-4814-a2df-9518912b2eb7",
   "metadata": {},
   "outputs": [
    {
     "name": "stdin",
     "output_type": "stream",
     "text": [
      "Enter the height of the pyramid:  6\n"
     ]
    },
    {
     "name": "stdout",
     "output_type": "stream",
     "text": [
      "          * \n",
      "        * * * \n",
      "      * * * * * \n",
      "    * * * * * * * \n",
      "  * * * * * * * * * \n",
      "* * * * * * * * * * * \n"
     ]
    }
   ],
   "source": [
    "height = int(input(\"Enter the height of the pyramid: \"))\n",
    "\n",
    "# Print the pyramid\n",
    "for i in range(height):\n",
    "    # Print spaces for the left side of the pyramid\n",
    "    print(\"  \"* (height - i - 1), end=\"\")\n",
    "    # Print stars for the pyramid\n",
    "    print(\"* \" * (2 * i + 1))\n"
   ]
  },
  {
   "cell_type": "code",
   "execution_count": 430,
   "id": "10bd0586-1540-4196-9c8b-7dc4ae5abcb5",
   "metadata": {},
   "outputs": [
    {
     "name": "stdout",
     "output_type": "stream",
     "text": [
      "\n",
      "0 0 0 0 0 \n",
      "0 1 2 3 4 \n",
      "0 2 4 6 8 \n",
      "0 3 6 9 12 \n",
      "0 4 8 12 16 "
     ]
    }
   ],
   "source": [
    "for i in range(0,5):\n",
    "    print()\n",
    "    for j in range(0,5):\n",
    "        print(j*i,end=\" \")\n"
   ]
  },
  {
   "cell_type": "markdown",
   "id": "204d7f14-a125-4b54-b94f-e262d552521d",
   "metadata": {},
   "source": [
    "# Write a program to print the following pattern\n",
    "    1\n",
    "    1 2 1\n",
    "    1 2 3 2 1\n",
    "    1 2 3 4 3 2 1\n",
    "    1 2 3 4 5 4 3 2 1\n"
   ]
  },
  {
   "cell_type": "code",
   "execution_count": 446,
   "id": "a7e1a125-00d0-408e-9313-d550a3c3b3ba",
   "metadata": {},
   "outputs": [
    {
     "name": "stdout",
     "output_type": "stream",
     "text": [
      "\n",
      "\n",
      "\n",
      "1 1 \n",
      "\n",
      "1 2 2 2 \n",
      "\n",
      "1 3 2 3 3 3 \n",
      "\n",
      "1 4 2 4 3 4 4 4 \n"
     ]
    }
   ],
   "source": [
    "for i in range(1,6):\n",
    "    print()\n",
    "    for k in range(1,i):\n",
    "        print(k,i-1,end=\" \")\n",
    "    print()"
   ]
  },
  {
   "cell_type": "markdown",
   "id": "7863d909-c959-4f0d-964e-39cceea189a1",
   "metadata": {},
   "source": [
    "# Write a program that keeps on accepting a number from the user until the user enters Zero. Display the sum and average of all the numbers."
   ]
  },
  {
   "cell_type": "code",
   "execution_count": null,
   "id": "f59d20b6-3812-4017-9b52-0d54f6f13035",
   "metadata": {},
   "outputs": [],
   "source": [
    "sum=0\n",
    "while True:\n",
    "    user=int(input(\"enter number\"))\n",
    "    k=user\n",
    "    if user==0:\n",
    "        print(\"winner!\")\n",
    "        break      \n",
    "    else:\n",
    "        sum=sum+k\n",
    "print(sum)\n",
    " "
   ]
  },
  {
   "cell_type": "markdown",
   "id": "67ac6797-d20b-455a-bf51-0a6688d40186",
   "metadata": {},
   "source": [
    "# Extract username from a given email. \n",
    "Eg if the email is nitish24singh@gmail.com then the username should be nitish24singh\n"
   ]
  },
  {
   "cell_type": "code",
   "execution_count": 448,
   "id": "66ab977d-8ab9-4838-90f4-ea9fe2f15a76",
   "metadata": {},
   "outputs": [
    {
     "name": "stdout",
     "output_type": "stream",
     "text": [
      "username: nitish24singh\n"
     ]
    }
   ],
   "source": [
    "st=\"nitish24singh@gmail.com\"\n",
    "k=st.split(\"@\")\n",
    "print(\"username:\",k[0])"
   ]
  },
  {
   "cell_type": "markdown",
   "id": "37f0a881-6c1e-4e30-bc95-0891ad17d561",
   "metadata": {},
   "source": [
    "# Count the frequency of a particular character in a provided string. Eg 'hello how are you' is the string, the frequency of h in this string is 2."
   ]
  },
  {
   "cell_type": "code",
   "execution_count": 450,
   "id": "424debfb-0d4b-4402-a930-8fe3ba24e0f1",
   "metadata": {},
   "outputs": [
    {
     "name": "stdout",
     "output_type": "stream",
     "text": [
      "Frequency of  e is: 2\n"
     ]
    }
   ],
   "source": [
    "st='hello how are you'\n",
    "find=\"e\"\n",
    "print(\"Frequency of \",find,\"is:\",st.count(find))"
   ]
  },
  {
   "cell_type": "markdown",
   "id": "2f388e83-a988-4f66-86cc-403738a393b4",
   "metadata": {},
   "source": [
    "# Find the index position of a particular character in another string. "
   ]
  },
  {
   "cell_type": "code",
   "execution_count": 452,
   "id": "677e35ad-1d59-422b-928f-67adb63dc00b",
   "metadata": {},
   "outputs": [
    {
     "name": "stdout",
     "output_type": "stream",
     "text": [
      "index number of e is: 1\n"
     ]
    }
   ],
   "source": [
    "st='hello how are you'\n",
    "ind=\"e\"\n",
    "print(\"index number of\",ind,\"is:\",st.index(ind))"
   ]
  },
  {
   "cell_type": "markdown",
   "id": "3543bee8-2c2b-47b2-a634-028344a71733",
   "metadata": {},
   "source": [
    "# Count the number of vowels in a string provided by the user."
   ]
  },
  {
   "cell_type": "code",
   "execution_count": null,
   "id": "0e4395fc-bb45-452e-9bc3-5a9640905cff",
   "metadata": {},
   "outputs": [],
   "source": [
    "st=input(\"enter string\").lower()\n",
    "vowel=\"aeoui\"\n",
    "\n",
    "count=0\n",
    "for i in st:\n",
    "    if i in vowel:\n",
    "        count+=1\n",
    "print(count)"
   ]
  },
  {
   "cell_type": "markdown",
   "id": "ce7feb96-7445-4144-bcc7-d553e5edeaba",
   "metadata": {},
   "source": [
    "# Write a program which can remove a particular character from a string."
   ]
  },
  {
   "cell_type": "code",
   "execution_count": null,
   "id": "a8e967a8-c772-447c-bfa7-8a0126a786e3",
   "metadata": {},
   "outputs": [],
   "source": [
    "st='hello how are you'\n",
    "ind=\"e\"\n",
    "print(st.replace(ind,\"\"))"
   ]
  },
  {
   "cell_type": "markdown",
   "id": "b2cfd61f-172e-4634-9fe5-c2cd5210d704",
   "metadata": {},
   "source": [
    "# Write a program that can check whether a given string is palindrome or not."
   ]
  },
  {
   "cell_type": "code",
   "execution_count": null,
   "id": "671b7c8d-78ca-46a4-b474-75373f8384c3",
   "metadata": {},
   "outputs": [],
   "source": [
    "st=\"wow\"\n",
    "new_st=st[::-1]\n",
    "if st==new_st:\n",
    "    print(\"palindrome\")\n",
    "else:\n",
    "    print(\"not palindrome\")"
   ]
  },
  {
   "cell_type": "markdown",
   "id": "23a60384-5b63-4332-8a5b-cb150e6cbe9a",
   "metadata": {},
   "source": [
    "# Write a python program to remove all the duplicates from a list (pending)"
   ]
  },
  {
   "cell_type": "code",
   "execution_count": null,
   "id": "919723e6-f3a3-4636-b65b-4941ac49a5b0",
   "metadata": {},
   "outputs": [],
   "source": [
    "list=[1,2,3,4,5,6,7,7,6,5,4,7,4,3,9,2]\n",
    "print(set(list))"
   ]
  },
  {
   "cell_type": "code",
   "execution_count": null,
   "id": "1c11fc71-2cd8-48b1-a7d1-96c3b4300a9f",
   "metadata": {},
   "outputs": [],
   "source": [
    "list=[1,2,3,4,5,6,7,7,6,5,4,7,4,3,9,2]\n",
    "k=[]\n",
    "for i in list:\n",
    "    if i not in list:\n",
    "        k.append(i)\n",
    "print(k)\n",
    "        "
   ]
  },
  {
   "cell_type": "markdown",
   "id": "4aeb43b6-feaa-4666-bf3a-9f6beee037a6",
   "metadata": {},
   "source": [
    "# Write a python program to convert a string to title case without using the title() (pending)"
   ]
  },
  {
   "cell_type": "code",
   "execution_count": 454,
   "id": "996a26e2-714b-423b-b100-a3d2c4408976",
   "metadata": {},
   "outputs": [
    {
     "name": "stdout",
     "output_type": "stream",
     "text": [
      "Nishant Is Good Boy "
     ]
    }
   ],
   "source": [
    "st=\"nishant is good boy\"\n",
    "k=st.split()\n",
    "j=\"\"\n",
    "for i in k:\n",
    "    print(i.capitalize(),end=\" \")\n",
    "#     j+=(\"\".join(i.capitalize()))\n",
    "# print(j)"
   ]
  },
  {
   "cell_type": "markdown",
   "id": "331556d8-b75c-4318-b9b5-f957f3b475ca",
   "metadata": {},
   "source": [
    "# Write a python program to find the max item from a list without using the max function"
   ]
  },
  {
   "cell_type": "code",
   "execution_count": null,
   "id": "e0069ecf-ca56-4389-8c55-93ff505c3f9d",
   "metadata": {},
   "outputs": [],
   "source": [
    "l=[1,2,3,4,5]\n",
    "\n",
    "for i in l:\n",
    "    if i>l[0] and i<l[0]:\n",
    "        print(i)"
   ]
  },
  {
   "cell_type": "markdown",
   "id": "1ce844e4-d950-4240-bc43-e0c827a97ed7",
   "metadata": {},
   "source": [
    "# Write a python program to reverse a list"
   ]
  },
  {
   "cell_type": "code",
   "execution_count": null,
   "id": "3527ce9e-4a99-4763-bfda-273654a84e5c",
   "metadata": {},
   "outputs": [],
   "source": [
    "l=[1,2,3,4,5]\n",
    "l[::-1]"
   ]
  },
  {
   "cell_type": "markdown",
   "id": "7aef9695-5474-4590-af8b-7eb6687c464f",
   "metadata": {},
   "source": [
    "# Write a python program to search a given number from a list"
   ]
  },
  {
   "cell_type": "code",
   "execution_count": null,
   "id": "e22c6042-150d-4354-8dc6-4c85e3b20fe5",
   "metadata": {},
   "outputs": [],
   "source": [
    "l=[1,2,3,4,5,7,90,56,45,43,67]\n",
    "k=45\n",
    "if k in l:\n",
    "    n=l.index(k)\n",
    "print(\"index number of\",k,\"is: \",n)"
   ]
  },
  {
   "cell_type": "markdown",
   "id": "7479fb27-fd19-4a21-871b-fc9d9c2d8e9c",
   "metadata": {},
   "source": [
    "# Write a program that can create a new list from a given list where each item in the new list is square of the item of the old list"
   ]
  },
  {
   "cell_type": "code",
   "execution_count": null,
   "id": "bd71590b-c00b-47aa-98ff-dfd100807a5a",
   "metadata": {},
   "outputs": [],
   "source": [
    "l=[1,2,3,4,5,6,7,8]\n",
    "\n",
    "k=[]\n",
    "for i in l:\n",
    "    k.append(i**2)\n",
    "print(k)"
   ]
  },
  {
   "cell_type": "markdown",
   "id": "3060224e-77df-493b-9ea5-97046cf4093a",
   "metadata": {},
   "source": [
    "# Write a program that can reverse words of a given string.\n",
    "Eg if the input is Hello how are you      \n",
    "Output should be you are how Hello     \n"
   ]
  },
  {
   "cell_type": "code",
   "execution_count": null,
   "id": "5f5e1eb2-5153-4ebb-a873-9ddf2b9acbf7",
   "metadata": {},
   "outputs": [],
   "source": [
    "st=\"Hello how are you\"\n",
    "k=st.split()\n",
    "print(k)\n",
    "m=k[::-1]\n",
    "print(\" \".join(m))\n",
    "\n"
   ]
  },
  {
   "cell_type": "markdown",
   "id": "36130e1d-9469-477a-8e92-637ac75acdab",
   "metadata": {},
   "source": [
    "# Write a program that can count the number of words in a given string"
   ]
  },
  {
   "cell_type": "code",
   "execution_count": null,
   "id": "0041d29f-5ef9-45a4-a0ee-6debe605b059",
   "metadata": {},
   "outputs": [],
   "source": [
    "n=\"nishant kumar\"\n",
    "k={}\n",
    "for i in n:\n",
    "    k[i]=n.count(i)\n",
    "print(k)"
   ]
  },
  {
   "cell_type": "markdown",
   "id": "e7e0ecfc-0751-4874-9a8f-669b7ed83183",
   "metadata": {},
   "source": [
    "# Write a program to check if a list is in ascending order or not"
   ]
  },
  {
   "cell_type": "code",
   "execution_count": null,
   "id": "5159db6a-f909-4ca2-98cf-11e08f37c186",
   "metadata": {},
   "outputs": [],
   "source": []
  },
  {
   "cell_type": "code",
   "execution_count": null,
   "id": "772e83ab-243a-499c-ac41-ddf635d1e3eb",
   "metadata": {},
   "outputs": [],
   "source": [
    "l=[1,2,3,4,5,6,7]\n",
    "# l=[1,2,7,3,4,8,9,5,6]\n",
    "k=l\n",
    "k.sort()\n",
    "if l != k:\n",
    "    print(\"ascending\")\n",
    "else:\n",
    "    print(\"Not ascending\")\n"
   ]
  },
  {
   "cell_type": "markdown",
   "id": "30a64d5c-b5bc-48f1-9b6a-cfdfc445d79e",
   "metadata": {},
   "source": [
    "# Create 2 lists from a given list where 1st list will contain all the odd numbers from the original list and the 2nd one will contain all the even numbers "
   ]
  },
  {
   "cell_type": "code",
   "execution_count": null,
   "id": "8e573147-dfdf-4063-b43f-0c49caee776b",
   "metadata": {},
   "outputs": [],
   "source": [
    "import numpy as np\n",
    "l=np.random.randint(0,100,20)\n",
    "print(l)\n",
    "odd=[]\n",
    "even=[]\n",
    "\n",
    "for i in l:\n",
    "    if i%2==0:\n",
    "        even.append(i)\n",
    "    else:\n",
    "        odd.append(i)\n",
    "print(\"even numbers: \",even)\n",
    "print(\"odd numbers: \",odd)\n"
   ]
  },
  {
   "cell_type": "markdown",
   "id": "4e4ba971-e1f7-4b8b-9d5d-f3ee91650119",
   "metadata": {},
   "source": [
    "# Write a program to merge 2 list without using the + operator"
   ]
  },
  {
   "cell_type": "code",
   "execution_count": null,
   "id": "5d457353-6b76-41f7-8fa4-9337174be51a",
   "metadata": {},
   "outputs": [],
   "source": [
    "l1= [40, 98, 90, 86, 10, 32, 24, 96, 6, 40, 34]\n",
    "l2=  [81, 89, 11, 3, 9, 11, 55, 3, 59]\n",
    "l3=[]\n",
    "    \n",
    "l3.extend(l1)\n",
    "l3.extend(l2)\n",
    "print(l3)"
   ]
  },
  {
   "cell_type": "markdown",
   "id": "f95bc044-a82b-4e59-99c0-233d253809cc",
   "metadata": {},
   "source": [
    "# Write a program to replace an item with a different item if found in the list "
   ]
  },
  {
   "cell_type": "code",
   "execution_count": null,
   "id": "9b1d782f-9c62-4a62-8a6f-140e95bcfe4e",
   "metadata": {},
   "outputs": [],
   "source": []
  },
  {
   "cell_type": "code",
   "execution_count": null,
   "id": "416a2e9a-cf6b-41c0-a511-dc0cc8a44d62",
   "metadata": {},
   "outputs": [],
   "source": []
  },
  {
   "cell_type": "markdown",
   "id": "19da7f92-a4b5-4230-930a-2f5d0abac7a8",
   "metadata": {},
   "source": [
    "# Write a program that can convert a 2D list to 1D listWrite a program that can print "
   ]
  },
  {
   "cell_type": "code",
   "execution_count": null,
   "id": "e49036b7-b2dc-4a84-a55e-25ca07c8c1e9",
   "metadata": {},
   "outputs": [],
   "source": [
    "l=[[1,2,3],[4,5,6],[7,8,9],[10,11,12]]\n",
    "n=np.ravel(l)\n",
    "print(n)"
   ]
  },
  {
   "cell_type": "markdown",
   "id": "8637897b-bde0-4892-9c8f-8e3a575ae0a5",
   "metadata": {},
   "source": [
    "# Write a program that can perform union and intersection on 2 given list. "
   ]
  },
  {
   "cell_type": "code",
   "execution_count": null,
   "id": "a7760f4a-79df-4ad7-b7a5-ef832b788a57",
   "metadata": {},
   "outputs": [],
   "source": [
    "l1=np.random.randint(0,10,8)\n",
    "l2=np.random.randint(0,10,9)\n",
    "print(l1)\n",
    "print(l2)\n"
   ]
  },
  {
   "cell_type": "code",
   "execution_count": null,
   "id": "823d3fc9-e14b-40dd-92b5-e62f23d0f8ed",
   "metadata": {},
   "outputs": [],
   "source": [
    "print(set(l1)|set(l2))"
   ]
  },
  {
   "cell_type": "code",
   "execution_count": null,
   "id": "3abc7010-1043-47d4-8f6e-af037ae0ec24",
   "metadata": {},
   "outputs": [],
   "source": [
    "l1=[2, 3, 7, 1, 7, 4, 2, 5]\n",
    "l2=[4, 3, 3, 2, 9, 9, 6, 6, 4]\n",
    "\n",
    "print((set(l1)).union(set(l2)))\n",
    "print((set(l1)).intersection(set(l2)))"
   ]
  },
  {
   "cell_type": "markdown",
   "id": "f41beaa4-14df-40f2-bc59-806c7b3015f7",
   "metadata": {},
   "source": [
    "# the max item of each row of a matrix."
   ]
  },
  {
   "cell_type": "code",
   "execution_count": null,
   "id": "bf7239e7-778b-4ac6-a734-57453f824568",
   "metadata": {},
   "outputs": [],
   "source": [
    "k=np.random.randint(0,100,12).reshape(3,4)\n",
    "print(k)\n",
    "np.max(k,axis=1)"
   ]
  },
  {
   "cell_type": "markdown",
   "id": "034dc567-2067-4e3a-a794-83b93384c6ab",
   "metadata": {},
   "source": [
    "# Write a program that can convert an integer to string"
   ]
  },
  {
   "cell_type": "code",
   "execution_count": null,
   "id": "a9024325-69da-4312-9e89-e89e450b979d",
   "metadata": {},
   "outputs": [],
   "source": [
    "a=10\n",
    "m=str(a)\n",
    "print(m,type(m))"
   ]
  },
  {
   "cell_type": "markdown",
   "id": "5a808bce-149f-485a-9b52-d2c4590962c0",
   "metadata": {},
   "source": [
    "# Write a program to print the shape of a matrix."
   ]
  },
  {
   "cell_type": "code",
   "execution_count": null,
   "id": "52d378e6-a5bb-40cd-a004-2013de67bbc7",
   "metadata": {},
   "outputs": [],
   "source": [
    "k=np.random.randint(0,100,12).reshape(3,4)\n",
    "print(k)\n",
    "np.shape(k)"
   ]
  },
  {
   "cell_type": "markdown",
   "id": "14def4f3-6c84-4467-a19f-d2437316076f",
   "metadata": {},
   "source": [
    "# Write a program that can check if you can perform matrix multiplication on 2 matrices "
   ]
  },
  {
   "cell_type": "code",
   "execution_count": null,
   "id": "a4922388-23fa-48b1-89d6-234de4418730",
   "metadata": {},
   "outputs": [],
   "source": [
    "m1=np.random.randint(0,100,12).reshape(3,4)\n",
    "print(m1)\n",
    "print()\n",
    "m2=np.random.randint(0,100,12).reshape(3,4)\n",
    "print(m2)\n",
    "print()\n",
    "print(m1*m2)"
   ]
  },
  {
   "cell_type": "markdown",
   "id": "4c68181d-1a4b-4fa6-bcc7-707d37929f52",
   "metadata": {},
   "source": [
    "# Write a program that can sort a given unsorted list. Dont use any built in function for sorting."
   ]
  },
  {
   "cell_type": "code",
   "execution_count": 458,
   "id": "b127516e-cf3e-4c60-a19b-64f5c4f188bd",
   "metadata": {},
   "outputs": [
    {
     "ename": "IndexError",
     "evalue": "list index out of range",
     "output_type": "error",
     "traceback": [
      "\u001b[1;31m---------------------------------------------------------------------------\u001b[0m",
      "\u001b[1;31mIndexError\u001b[0m                                Traceback (most recent call last)",
      "Cell \u001b[1;32mIn[458], line 4\u001b[0m\n\u001b[0;32m      2\u001b[0m k\u001b[38;5;241m=\u001b[39m[]\n\u001b[0;32m      3\u001b[0m \u001b[38;5;28;01mfor\u001b[39;00m i \u001b[38;5;129;01min\u001b[39;00m l:\n\u001b[1;32m----> 4\u001b[0m     \u001b[38;5;28;01mif\u001b[39;00m l[i]\u001b[38;5;241m==\u001b[39mi:\n\u001b[0;32m      5\u001b[0m         k\u001b[38;5;241m.\u001b[39mappend(l[\u001b[38;5;241m0\u001b[39m])\n\u001b[0;32m      6\u001b[0m \u001b[38;5;28mprint\u001b[39m(k)\n",
      "\u001b[1;31mIndexError\u001b[0m: list index out of range"
     ]
    }
   ],
   "source": [
    "l=[10,11,15,17,4,89,67,54,0,87]\n",
    "k=[]\n",
    "for i in l:\n",
    "    if l[i]==i:\n",
    "        k.append(l[0])\n",
    "print(k)"
   ]
  },
  {
   "cell_type": "markdown",
   "id": "46982240-a1dc-4496-b0b3-1aa6e1ddb218",
   "metadata": {},
   "source": [
    "# Write a program that can find the most used word in a bollywood song"
   ]
  },
  {
   "cell_type": "code",
   "execution_count": 456,
   "id": "26fd72df-a243-4113-9e7e-ea33ce85739d",
   "metadata": {},
   "outputs": [
    {
     "name": "stdout",
     "output_type": "stream",
     "text": [
      "{1: 'd', 3: 'o', 2: 'l'}\n",
      "Most used word in bollywood : 3 : o\n"
     ]
    }
   ],
   "source": [
    "word=\"bollywood\"\n",
    "us={}\n",
    "for i in word:\n",
    "    k=word.count(i)\n",
    "    us[k]=i\n",
    "print(us)\n",
    "print(\"Most used word in\",word,\":\",max(us.keys()),\":\",max(us.values()))"
   ]
  },
  {
   "cell_type": "markdown",
   "id": "285a55f8-5052-4f27-a12f-6d4e03634465",
   "metadata": {},
   "source": [
    "# Assume a list with numbers from 1 to 10 and then convert it into a dictionary where the key would be the numbers of the list and the values would be the square of those numbers."
   ]
  },
  {
   "cell_type": "code",
   "execution_count": null,
   "id": "69e4b816-0248-4212-b67a-c302d8e48671",
   "metadata": {},
   "outputs": [],
   "source": [
    "list=[1,2,3,4,5,6,7,8,9,10]\n",
    "di={}\n",
    "\n",
    "for i in list:\n",
    "    k=i**2\n",
    "    di[i]=k\n",
    "print(di)"
   ]
  },
  {
   "cell_type": "markdown",
   "id": "5b65cce1-2cf7-42b9-85c4-e99ed6a55bff",
   "metadata": {},
   "source": [
    "# Write a program to merge two given dictionary"
   ]
  },
  {
   "cell_type": "code",
   "execution_count": 460,
   "id": "29c52dad-c30b-4c03-a2b8-13f635a608c2",
   "metadata": {},
   "outputs": [
    {
     "name": "stdout",
     "output_type": "stream",
     "text": [
      "{1: 1, 2: 4, 3: 9, 4: 16, 5: 25, 6: 36, 7: 49, 8: 64, 9: 81, 10: 100}\n"
     ]
    }
   ],
   "source": [
    "d1={1: 1, 2: 4, 3: 9, 4: 16, 5: 25}\n",
    "d2={6: 36, 7: 49, 8: 64, 9: 81, 10: 100}\n",
    "d1.update(d2)\n",
    "print(d1)"
   ]
  },
  {
   "cell_type": "markdown",
   "id": "898980d3-3b9a-4ec6-9639-f77c9bfab033",
   "metadata": {},
   "source": [
    "# Write a function that accepts a string and returns the number of upper case chars and lower case chars as a dictionary"
   ]
  },
  {
   "cell_type": "code",
   "execution_count": 462,
   "id": "4e9a42f9-ef87-4dca-8486-92533cadb7f8",
   "metadata": {},
   "outputs": [
    {
     "name": "stdout",
     "output_type": "stream",
     "text": [
      "{'upper': 5, 'lower': 7}\n"
     ]
    }
   ],
   "source": [
    "string=\"NishaNT KumaR\"\n",
    "upper=0\n",
    "lower=0\n",
    "di={}\n",
    "for i in string:\n",
    "    if i.isupper():\n",
    "        upper+=1\n",
    "        di[\"upper\"]=upper\n",
    "    elif i.islower():\n",
    "        lower+=1\n",
    "        di[\"lower\"]=lower\n",
    "\n",
    "print(di)"
   ]
  },
  {
   "cell_type": "markdown",
   "id": "fdcb4b8e-8fac-44bf-a9e7-a445aa530732",
   "metadata": {},
   "source": [
    "# Write a dummy program that can perform login and registration using a menu driven program"
   ]
  },
  {
   "cell_type": "code",
   "execution_count": null,
   "id": "e5d7ebdf-3a34-410f-a483-fe25b157373c",
   "metadata": {},
   "outputs": [],
   "source": [
    "b=input(\"\"\"\n",
    "1. Registration\n",
    "2. Login\n",
    "\"\"\")\n",
    "id=\"nishant\"\n",
    "password=\"0000\"\n",
    "\n",
    "if b==\"1\":\n",
    "    name=input(\"enter your name\")\n",
    "    id=input(\"enter your email id\")\n",
    "    password=input(\"enter your password\")\n",
    "    print(\"Registration Done\")\n",
    "elif b==\"2\":\n",
    "\n",
    "    login_id=input(\"enter your email id\")\n",
    "    login_pass=input(\"enter your password\")\n",
    "    if login_id==id and login_pass==password:\n",
    "        print(\"login successfully.........\")\n",
    "    else:\n",
    "        print(\"wrong pass\")"
   ]
  },
  {
   "cell_type": "code",
   "execution_count": null,
   "id": "fc098994-dbef-4c3a-a648-49583c3b033c",
   "metadata": {},
   "outputs": [],
   "source": [
    "for i in range(5):\n",
    "    print(\"*\" * 5)\n",
    "\n",
    "print()\n",
    "for i in range(5):\n",
    "    print(\"*\" * (i*1) )\n",
    "\n",
    "print()\n",
    "for i in range(5):\n",
    "    print(\" \" * (4-i) + \"*\" * (i+1))\n",
    "\n",
    "print()\n",
    "for i in range(5):\n",
    "    print(\" \" * (4-i) + \"*\" * (2*i+1))\n",
    "print()\n",
    "\n",
    "for i in range(5):\n",
    "    print(\" \" * i + \"*\" * (9-2*i))\n",
    "print()\n",
    "for i in range(5):\n",
    "    print(\" \" * (4-i) + \"*\" * (2*i+1))\n",
    "for i in range(4):\n",
    "    print(\" \" * (i+1) + \"*\" * (9-2*i))"
   ]
  },
  {
   "cell_type": "raw",
   "id": "e202a498-9051-4cdb-a75b-431a424a378f",
   "metadata": {},
   "source": [
    "Here are some common star patterns in Python, along with explanations:\n",
    "\n",
    "1. Simple Star Pattern\n",
    "\n",
    "# Print a simple star pattern\n",
    "for i in range(5):\n",
    "    print(\"*\" * 5)\n",
    "\n",
    "Explanation: This code prints a 5x5 grid of stars.\n",
    "\n",
    "2. Right Triangle Star Pattern\n",
    "\n",
    "# Print a right triangle star pattern\n",
    "for i in range(5):\n",
    "    print(\"*\" * (i+1))\n",
    "\n",
    "Explanation: This code prints a right triangle of stars, with each row having one more star than the previous row.\n",
    "\n",
    "3. Left Triangle Star Pattern\n",
    "\n",
    "# Print a left triangle star pattern\n",
    "for i in range(5):\n",
    "    print(\" \" * (4-i) + \"*\" * (i+1))\n",
    "\n",
    "Explanation: This code prints a left triangle of stars, with each row having one more star than the previous row, and spaces added to align the stars to the left.\n",
    "\n",
    "4. Pyramid Star Pattern\n",
    "\n",
    "# Print a pyramid star pattern\n",
    "for i in range(5):\n",
    "    print(\" \" * (4-i) + \"*\" * (2*i+1))\n",
    "\n",
    "Explanation: This code prints a pyramid of stars, with each row having two more stars than the previous row, and spaces added to center the pyramid.\n",
    "\n",
    "5. Inverted Pyramid Star Pattern\n",
    "\n",
    "# Print an inverted pyramid star pattern\n",
    "for i in range(5):\n",
    "    print(\" \" * i + \"*\" * (9-2*i))\n",
    "\n",
    "Explanation: This code prints an inverted pyramid of stars, with each row having two fewer stars than the previous row, and spaces added to center the pyramid.\n",
    "\n",
    "6. Diamond Star Pattern\n",
    "\n",
    "# Print a diamond star pattern\n",
    "for i in range(5):\n",
    "    print(\" \" * (4-i) + \"*\" * (2*i+1))\n",
    "for i in range(4):\n",
    "    print(\" \" * (i+1) + \"*\" * (9-2*i))"
   ]
  },
  {
   "cell_type": "code",
   "execution_count": null,
   "id": "5ee2ff72-ee9c-4e70-819d-cd40e21e2435",
   "metadata": {},
   "outputs": [],
   "source": []
  },
  {
   "cell_type": "code",
   "execution_count": null,
   "id": "35230158-32c8-4268-9825-1f1e2c65538c",
   "metadata": {},
   "outputs": [],
   "source": []
  },
  {
   "cell_type": "markdown",
   "id": "0e2dfc77-77f5-4530-8091-eeac25d14465",
   "metadata": {},
   "source": [
    "# Write a program to calculate the sum of the following series till the nth term\n",
    "1/1! + 2/2! + 3/3! + 4/4! +…….+ n/n!    \n",
    "n will be provided by the user\n"
   ]
  },
  {
   "cell_type": "code",
   "execution_count": 464,
   "id": "191b07a1-056b-43c9-840e-93ad0a776ca7",
   "metadata": {},
   "outputs": [
    {
     "name": "stdin",
     "output_type": "stream",
     "text": [
      "enter a number here 6\n"
     ]
    },
    {
     "name": "stdout",
     "output_type": "stream",
     "text": [
      "1 / 1! +2 / 2! +3 / 6! +4 / 24! +5 / 120! +6 / 720! +\n",
      ",sum of factorial is:  1072\n"
     ]
    }
   ],
   "source": [
    "k=int(input(\"enter a number here\"))\n",
    "sum=0\n",
    "\n",
    "for n in range(1,k+1):\n",
    "    fact=1\n",
    "    for i in range(1,n+1):\n",
    "        fact=i*fact\n",
    "        sum+=fact\n",
    "    print(i,\"/\",fact,end=\"! +\")\n",
    "print()\n",
    "print(\",sum of factorial is: \",sum)"
   ]
  },
  {
   "cell_type": "markdown",
   "id": "78eaa930-f3df-4aaa-a20c-546ac2ff92f7",
   "metadata": {},
   "source": [
    "# Write a Python Program to Find the Sum of the Series till the nth term: \n",
    "1 + x^2/2 + x^3/3 + … x^n/n     \n",
    "n will be provided by the user\n"
   ]
  },
  {
   "cell_type": "code",
   "execution_count": 466,
   "id": "9bf992e8-a875-41b5-a15a-ffb9f93102af",
   "metadata": {},
   "outputs": [
    {
     "name": "stdin",
     "output_type": "stream",
     "text": [
      "enter number 7\n"
     ]
    },
    {
     "name": "stdout",
     "output_type": "stream",
     "text": [
      "1.0\n",
      "64.0\n",
      "729.0\n",
      "4096.0\n",
      "15625.0\n",
      "46656.0\n",
      "117649.0\n",
      "sum of series of n is : 117649\n"
     ]
    }
   ],
   "source": [
    "n=int(input(\"enter number\"))\n",
    "sum=0\n",
    "for i in range(1,n+1):\n",
    "    sum=i**n/i\n",
    "    print(sum) \n",
    "\n",
    "print(\"sum of series of n is :\",int(sum))"
   ]
  },
  {
   "cell_type": "code",
   "execution_count": 468,
   "id": "0ee3682b-038e-4ec4-8efb-675d84cb276c",
   "metadata": {},
   "outputs": [
    {
     "name": "stdin",
     "output_type": "stream",
     "text": [
      "Enter  number : 6\n"
     ]
    },
    {
     "name": "stdout",
     "output_type": "stream",
     "text": [
      "1+6^2/2+6^3/3+6^4/4+6^5/5+6^6/6\n"
     ]
    }
   ],
   "source": [
    "n=int(input(\"Enter  number :\"))\n",
    "for i in range(1,n+1):\n",
    "    if i==1:\n",
    "        print(i,end=\"+\")\n",
    "    elif i==n:\n",
    "        print(i,\"^\",n,\"/\",n,sep=\"\")\n",
    "    else:\n",
    "        print(n,\"^\",i,\"/\",i,sep=\"\",end=\"+\")"
   ]
  },
  {
   "cell_type": "markdown",
   "id": "aee4185a-d806-439d-8152-ca2cbaca79e1",
   "metadata": {},
   "source": [
    "# Write a program that accepts 2 numbers from the user a numerator and a denominator and then simplifies it\n",
    "Eg if the num = 5, den = 15 the answer should be ⅓     \n",
    "Eg if the num = 6, den = 9 the answer should be ⅔   \n",
    "\n"
   ]
  },
  {
   "cell_type": "code",
   "execution_count": 470,
   "id": "041d707b-fac7-4efe-b5c8-b7884b1a6c31",
   "metadata": {},
   "outputs": [
    {
     "name": "stdout",
     "output_type": "stream",
     "text": [
      "0.6666666666666666\n"
     ]
    }
   ],
   "source": [
    "num=6\n",
    "den=9\n",
    "\n",
    "print(num/den)"
   ]
  },
  {
   "cell_type": "markdown",
   "id": "501afa04-049a-4cfe-94ae-8807a5675754",
   "metadata": {},
   "source": [
    "# The natural logarithm can be approximated by the following series.\n",
    " \n",
    "If x is input through the keyboard, write a program to calculate the sum of the first seven terms of this series.     \n",
    "(x-1/x) +1/2(x-1/x)**2 + 1/2(x-1/x)**3 + 1/2(x-1/x)**4 + 1/2(n-1/n)**nth"
   ]
  },
  {
   "cell_type": "code",
   "execution_count": 474,
   "id": "21d8d3d5-8904-40be-bc26-ce402d944e8e",
   "metadata": {},
   "outputs": [
    {
     "name": "stdin",
     "output_type": "stream",
     "text": [
      "enter range of n:  6\n",
      "enter value of x : 6\n"
     ]
    },
    {
     "ename": "TypeError",
     "evalue": "'int' object is not subscriptable",
     "output_type": "error",
     "traceback": [
      "\u001b[1;31m---------------------------------------------------------------------------\u001b[0m",
      "\u001b[1;31mTypeError\u001b[0m                                 Traceback (most recent call last)",
      "Cell \u001b[1;32mIn[474], line 6\u001b[0m\n\u001b[0;32m      4\u001b[0m \u001b[38;5;28;01mfor\u001b[39;00m i \u001b[38;5;129;01min\u001b[39;00m \u001b[38;5;28mrange\u001b[39m(\u001b[38;5;241m1\u001b[39m,n\u001b[38;5;241m+\u001b[39m\u001b[38;5;241m1\u001b[39m):\n\u001b[0;32m      5\u001b[0m     (x\u001b[38;5;241m-\u001b[39m\u001b[38;5;241m1\u001b[39m\u001b[38;5;241m/\u001b[39mx)\u001b[38;5;241m+\u001b[39m\u001b[38;5;241m1\u001b[39m\u001b[38;5;241m/\u001b[39m\u001b[38;5;241m2\u001b[39m\n\u001b[1;32m----> 6\u001b[0m     (x\u001b[38;5;241m-\u001b[39m\u001b[38;5;241m1\u001b[39m\u001b[38;5;241m/\u001b[39mx)\u001b[38;5;241m*\u001b[39m\u001b[38;5;241m*\u001b[39mi[\u001b[38;5;241m1\u001b[39m] \u001b[38;5;241m+\u001b[39m \u001b[38;5;241m1\u001b[39m\u001b[38;5;241m/\u001b[39m\u001b[38;5;241m2\u001b[39m\u001b[38;5;241m*\u001b[39m(x\u001b[38;5;241m-\u001b[39m\u001b[38;5;241m1\u001b[39m\u001b[38;5;241m/\u001b[39mx)\u001b[38;5;241m*\u001b[39m\u001b[38;5;241m*\u001b[39mi[\u001b[38;5;241m2\u001b[39m] \u001b[38;5;241m+\u001b[39m \u001b[38;5;241m1\u001b[39m\u001b[38;5;241m/\u001b[39m\u001b[38;5;241m2\u001b[39m\u001b[38;5;241m*\u001b[39m(x\u001b[38;5;241m-\u001b[39m\u001b[38;5;241m1\u001b[39m\u001b[38;5;241m/\u001b[39mx)\u001b[38;5;241m*\u001b[39m\u001b[38;5;241m*\u001b[39mi[\u001b[38;5;241m3\u001b[39m]\n",
      "\u001b[1;31mTypeError\u001b[0m: 'int' object is not subscriptable"
     ]
    }
   ],
   "source": [
    "n=int(input(\"enter range of n: \"))\n",
    "x=int(input(\"enter value of x :\"))\n",
    "\n",
    "for i in range(1,n+1):\n",
    "    (x-1/x)+1/2\n",
    "    (x-1/x)**i[1] + 1/2*(x-1/x)**i[2] + 1/2*(x-1/x)**i[3]"
   ]
  },
  {
   "cell_type": "code",
   "execution_count": null,
   "id": "2366dae1-625e-4ccc-b603-7e0e24b18f5f",
   "metadata": {},
   "outputs": [],
   "source": [
    "x = float(input(\"Enter the value of x: \"))\n",
    "n = int(input(\"Enter the value of n: \"))\n",
    "\n",
    "# Initialize the sum to 0\n",
    "total = 0.0\n",
    "\n",
    "# Calculate the sum of the series\n",
    "for i in range(1, n+1):\n",
    "    term = (x - 1/x)**i / i\n",
    "    total += term\n",
    "\n",
    "print(total)"
   ]
  },
  {
   "cell_type": "markdown",
   "id": "06c4e653-7841-4b49-9c41-36dcf879866c",
   "metadata": {},
   "source": [
    "# Write a function that accepts a list of strings and performs Bag of words and convert it to numerical vectors."
   ]
  },
  {
   "cell_type": "code",
   "execution_count": null,
   "id": "47b530e5-c453-48dc-830d-ff33bcd9f3c9",
   "metadata": {},
   "outputs": [],
   "source": [
    "a=\"nishant is good boy nishant is 26 year old nishant live in delhi delhi is very bad city\"\n",
    "a.split()\n",
    "non=[]\n",
    "for i in a.split():\n",
    "    if i in non:\n",
    "        pass\n",
    "    else:\n",
    "        non.append(i)\n",
    "print(non)\n",
    "        "
   ]
  },
  {
   "cell_type": "code",
   "execution_count": null,
   "id": "2d8e7afe-c1b4-40b6-80fa-9ef6e43ab120",
   "metadata": {},
   "outputs": [],
   "source": [
    "a=\"nishant is good boy nishant is 26 year old nishant live in delhi delhi is very bad city\"\n",
    "non=[non.append(i) for i in a.split() if i not in non ]\n",
    "non"
   ]
  },
  {
   "cell_type": "markdown",
   "id": "794596cd-62f6-44e7-a53e-be456f2d4dad",
   "metadata": {},
   "source": [
    "# ***pattern printing Questions***"
   ]
  },
  {
   "cell_type": "code",
   "execution_count": null,
   "id": "7b0e969c-c7bc-4cfe-b7d1-80b822b39fbf",
   "metadata": {},
   "outputs": [],
   "source": []
  },
  {
   "cell_type": "code",
   "execution_count": null,
   "id": "580f1c40-a04e-4e7a-8b3f-3ac1875197dc",
   "metadata": {},
   "outputs": [],
   "source": []
  },
  {
   "cell_type": "code",
   "execution_count": 476,
   "id": "f66f24ff-bfa9-4372-9838-48123aac2e9c",
   "metadata": {},
   "outputs": [
    {
     "name": "stdout",
     "output_type": "stream",
     "text": [
      "i k j m\n",
      "i k j m\n",
      "i k j m\n",
      "i k j m\n"
     ]
    }
   ],
   "source": [
    "for i in range(0,2):\n",
    "    for k in range(0,2):\n",
    "        for j in range(0,1):\n",
    "            for m in range(0,1):\n",
    "                print(\"i\",\"k\",\"j\",\"m\")\n",
    "        \n",
    "    "
   ]
  },
  {
   "cell_type": "code",
   "execution_count": 478,
   "id": "66311ad2-1d57-4c15-8528-b346221fe557",
   "metadata": {},
   "outputs": [
    {
     "name": "stdout",
     "output_type": "stream",
     "text": [
      "* * * *\n",
      "* * * *\n",
      "* * * *\n",
      "* * * *\n"
     ]
    }
   ],
   "source": [
    "for i in range(0,2):\n",
    "    for k in range(0,2):\n",
    "        for j in range(0,1):\n",
    "            for m in range(0,1):\n",
    "                print(\"*\",\"*\",\"*\",\"*\")"
   ]
  },
  {
   "cell_type": "markdown",
   "id": "3cfc9fab-b63c-4923-95bd-0b1b03ee9f31",
   "metadata": {},
   "source": [
    "# merge two dictionary and do the sum of values."
   ]
  },
  {
   "cell_type": "code",
   "execution_count": 481,
   "id": "7d7ebc52-4e49-46e6-9569-0714ec5ab9af",
   "metadata": {},
   "outputs": [
    {
     "name": "stdout",
     "output_type": "stream",
     "text": [
      "{'apple': 3, 'mango': 6}\n"
     ]
    }
   ],
   "source": [
    "item1={\n",
    "    \"apple\":2, \"mango\":3,\"grapes\":1\n",
    "}\n",
    "\n",
    "item2={\n",
    "    \"apple\":1, \"mango\":3,\"banana\":1\n",
    "}\n",
    "\n",
    "\n",
    "d3={}\n",
    "for i in item1:\n",
    "    if i in item2.keys():\n",
    "        d3[i]=item1[i]+item2[i]\n",
    "\n",
    "\n",
    "print(d3)"
   ]
  },
  {
   "cell_type": "code",
   "execution_count": 483,
   "id": "6616238d-26c1-4456-9aa7-70e0aa46dc20",
   "metadata": {},
   "outputs": [
    {
     "name": "stdout",
     "output_type": "stream",
     "text": [
      "{'apple': 3, 'mango': 6, 'grapes': 1}\n"
     ]
    }
   ],
   "source": [
    "item1={\n",
    "    \"apple\":2, \"mango\":3,\"grapes\":1\n",
    "}\n",
    "\n",
    "item2={\n",
    "    \"apple\":1, \"mango\":3,\"banana\":1\n",
    "}\n",
    "\n",
    "\n",
    "for i in item1:\n",
    "    if i in item2.keys():\n",
    "        item1[i]=item1[i]+item2[i]\n",
    "\n",
    "\n",
    "print(item1)"
   ]
  },
  {
   "cell_type": "code",
   "execution_count": 485,
   "id": "1e6b8391-6c42-49f9-a80b-2f265aea76c7",
   "metadata": {},
   "outputs": [
    {
     "name": "stdout",
     "output_type": "stream",
     "text": [
      "{'apple': 3, 'mango': 6, 'banana': 1}\n"
     ]
    }
   ],
   "source": [
    "item1={\n",
    "    \"apple\":2, \"mango\":3,\"grapes\":1\n",
    "}\n",
    "\n",
    "item2={\n",
    "    \"apple\":1, \"mango\":3,\"banana\":1\n",
    "}\n",
    "\n",
    "\n",
    "for i in item1:\n",
    "    if i in item2.keys():\n",
    "        item2[i]=item1[i]+item2[i]\n",
    "\n",
    "\n",
    "print(item2)"
   ]
  },
  {
   "cell_type": "code",
   "execution_count": 487,
   "id": "754785d1-4734-4e16-be8c-f05dc5ea1971",
   "metadata": {},
   "outputs": [
    {
     "name": "stdout",
     "output_type": "stream",
     "text": [
      "{'apple': 2, 'mango': 3, 'banana': 1, 'grapes': 1}\n"
     ]
    }
   ],
   "source": [
    "item1={\n",
    "    \"apple\":2, \"mango\":3,\"grapes\":1\n",
    "}\n",
    "\n",
    "item2={\n",
    "    \"apple\":1, \"mango\":3,\"banana\":1\n",
    "}\n",
    "\n",
    "\n",
    "for i in item1:\n",
    "    if i in item2.keys():\n",
    "        item2[i]=item1[i]+item2[i]\n",
    "    item2[i]=item1[i]\n",
    "\n",
    "print(item2)"
   ]
  },
  {
   "cell_type": "code",
   "execution_count": null,
   "id": "ae8124f7-2283-4b3d-861d-8bfd5f3f57a6",
   "metadata": {},
   "outputs": [],
   "source": []
  }
 ],
 "metadata": {
  "kernelspec": {
   "display_name": "Python 3 (ipykernel)",
   "language": "python",
   "name": "python3"
  },
  "language_info": {
   "codemirror_mode": {
    "name": "ipython",
    "version": 3
   },
   "file_extension": ".py",
   "mimetype": "text/x-python",
   "name": "python",
   "nbconvert_exporter": "python",
   "pygments_lexer": "ipython3",
   "version": "3.11.7"
  },
  "widgets": {
   "application/vnd.jupyter.widget-state+json": {
    "state": {},
    "version_major": 2,
    "version_minor": 0
   }
  }
 },
 "nbformat": 4,
 "nbformat_minor": 5
}
