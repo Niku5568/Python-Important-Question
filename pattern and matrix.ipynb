{
 "cells": [
  {
   "cell_type": "markdown",
   "id": "3c639bc5-579a-49cf-975c-4c2acd0bee49",
   "metadata": {},
   "source": [
    "# Patterns"
   ]
  },
  {
   "cell_type": "markdown",
   "id": "e0d0dcc3-62c6-4072-92c9-0f50bf916a5f",
   "metadata": {},
   "source": [
    "# box pattern"
   ]
  },
  {
   "cell_type": "code",
   "execution_count": 2,
   "id": "544880f8-a0f9-4f64-b8c6-f1ec682a34fc",
   "metadata": {},
   "outputs": [
    {
     "name": "stdout",
     "output_type": "stream",
     "text": [
      "i k j m\n",
      "i k j m\n",
      "i k j m\n",
      "i k j m\n"
     ]
    }
   ],
   "source": [
    "for i in range(0,2):\n",
    "    for k in range(0,2):\n",
    "        for j in range(0,1):\n",
    "            for m in range(0,1):\n",
    "                print(\"i\",\"k\",\"j\",\"m\")\n",
    "        \n",
    "    "
   ]
  },
  {
   "cell_type": "code",
   "execution_count": 3,
   "id": "a54cfccc-53e1-4efa-a28b-344e5b510939",
   "metadata": {},
   "outputs": [
    {
     "name": "stdout",
     "output_type": "stream",
     "text": [
      "* * * *\n",
      "* * * *\n",
      "* * * *\n",
      "* * * *\n"
     ]
    }
   ],
   "source": [
    "for i in range(0,2):\n",
    "    for k in range(0,2):\n",
    "        for j in range(0,1):\n",
    "            for m in range(0,1):\n",
    "                print(\"*\",\"*\",\"*\",\"*\")"
   ]
  },
  {
   "cell_type": "code",
   "execution_count": 23,
   "id": "0894e169-e4dd-4bb1-bb36-96ff9552d4b7",
   "metadata": {},
   "outputs": [
    {
     "name": "stdout",
     "output_type": "stream",
     "text": [
      "* * * * *\n",
      "* * * * *\n",
      "* * * * *\n",
      "* * * * *\n",
      "* * * * *\n"
     ]
    }
   ],
   "source": [
    "for i in range(1,6):\n",
    "    for k in range(1):\n",
    "        print(\"*\",\"*\",\"*\",\"*\",\"*\")\n",
    "        "
   ]
  },
  {
   "cell_type": "code",
   "execution_count": 25,
   "id": "9e0f1967-d4da-46fa-a61a-d205c378c6d1",
   "metadata": {},
   "outputs": [
    {
     "name": "stdout",
     "output_type": "stream",
     "text": [
      "*****\n",
      "*****\n",
      "*****\n",
      "*****\n",
      "*****\n"
     ]
    }
   ],
   "source": [
    "for i in range(1,6):\n",
    "    for k in range(1,6):\n",
    "        print(\"*\",end=\"\")\n",
    "    print()"
   ]
  },
  {
   "cell_type": "code",
   "execution_count": 18,
   "id": "c90d5d04-1016-43e5-a8ae-dd484ce23e95",
   "metadata": {},
   "outputs": [
    {
     "name": "stdout",
     "output_type": "stream",
     "text": [
      "* * * * *\n",
      "* * * * *\n",
      "* * * * *\n",
      "* * * * *\n",
      "* * * * *\n"
     ]
    }
   ],
   "source": [
    "for i in range (0,5):\n",
    "    print(\"*\",\"*\",\"*\",\"*\",\"*\")"
   ]
  },
  {
   "cell_type": "markdown",
   "id": "b2ec2f34-8a6a-4e1e-8ea6-ccda90b76635",
   "metadata": {},
   "source": [
    "# Triangle pattern"
   ]
  },
  {
   "cell_type": "code",
   "execution_count": 37,
   "id": "6bef8e00-5012-4056-860c-c31f37e62535",
   "metadata": {},
   "outputs": [
    {
     "name": "stdout",
     "output_type": "stream",
     "text": [
      " \n",
      "*   \n",
      "* *    \n",
      "* * *     \n",
      "* * * *      \n",
      "* * * * *       \n",
      "\n"
     ]
    }
   ],
   "source": [
    "for i in range(0,6):\n",
    "    print(i*\"* \",i*\" \")\n",
    "print()\n"
   ]
  },
  {
   "cell_type": "code",
   "execution_count": 34,
   "id": "eed167d3-0a6a-42ac-bc51-e4d1c5076a21",
   "metadata": {},
   "outputs": [
    {
     "name": "stdout",
     "output_type": "stream",
     "text": [
      "* \n",
      "* * \n",
      "* * * \n",
      "* * * * \n",
      "* * * * * \n"
     ]
    }
   ],
   "source": [
    "for i in range(1,6):\n",
    "    for k in range(1,i+1):\n",
    "        print(\"*\",end=\" \")\n",
    "    print()\n"
   ]
  },
  {
   "cell_type": "code",
   "execution_count": 44,
   "id": "d2b06e00-4b7a-4cbc-bd26-4f2770d8ac08",
   "metadata": {},
   "outputs": [
    {
     "name": "stdout",
     "output_type": "stream",
     "text": [
      "* * * * * * \n",
      "* * * * * \n",
      "* * * * \n",
      "* * * \n",
      "* * \n",
      "* \n",
      "\n"
     ]
    }
   ],
   "source": [
    "for i in range(6,-1,-1):\n",
    "    for k in range(i):\n",
    "        print(\"*\",end=\" \")\n",
    "    print()\n",
    "\n"
   ]
  },
  {
   "cell_type": "code",
   "execution_count": 43,
   "id": "e9fd7af7-b315-477f-9036-713c50420546",
   "metadata": {},
   "outputs": [
    {
     "name": "stdout",
     "output_type": "stream",
     "text": [
      "* * * * *       \n",
      "* * * *      \n",
      "* * *     \n",
      "* *    \n",
      "*   \n",
      " \n"
     ]
    }
   ],
   "source": [
    "for i in range(5,-1,-1):\n",
    "    print(i*\"* \",i*\" \")"
   ]
  },
  {
   "cell_type": "raw",
   "id": "e6967731-a0f6-48e2-bfa0-fb8f5ec8f993",
   "metadata": {},
   "source": [
    "# pattern\n",
    "\n",
    "1\n",
    "1 2\n",
    "1 2 3\n",
    "1 2 3 4\n",
    "1 2 3 4 5\n",
    "\n",
    "5 4 3 2 1\n",
    "4 3 2 1\n",
    "3 2 1\n",
    "2 1\n",
    "1"
   ]
  },
  {
   "cell_type": "code",
   "execution_count": 78,
   "id": "b89fa6e1-d342-42cf-b47f-2efecda9c064",
   "metadata": {},
   "outputs": [
    {
     "name": "stdout",
     "output_type": "stream",
     "text": [
      "1 \n",
      "1 2 \n",
      "1 2 3 \n",
      "1 2 3 4 \n",
      "1 2 3 4 5 \n"
     ]
    }
   ],
   "source": [
    "for i in range(1,6):\n",
    "    for k in range(1,i+1):\n",
    "        print(k,end=\" \")\n",
    "    print()"
   ]
  },
  {
   "cell_type": "code",
   "execution_count": 80,
   "id": "97985de3-02ec-4efc-a78f-2684fc7062c0",
   "metadata": {},
   "outputs": [
    {
     "name": "stdout",
     "output_type": "stream",
     "text": [
      "5 4 3 2 1 \n",
      "4 3 2 1 \n",
      "3 2 1 \n",
      "2 1 \n",
      "1 \n"
     ]
    }
   ],
   "source": [
    "for i in range(5,0,-1):\n",
    "    for k in range(i,0,-1):\n",
    "        print(k,end=\" \")\n",
    "    print()"
   ]
  },
  {
   "cell_type": "code",
   "execution_count": null,
   "id": "b8007661-e569-45dd-95e6-656b27218b72",
   "metadata": {},
   "outputs": [],
   "source": []
  },
  {
   "cell_type": "code",
   "execution_count": null,
   "id": "409370a8-36e1-43b1-a6fc-baebb488c259",
   "metadata": {},
   "outputs": [],
   "source": []
  },
  {
   "cell_type": "code",
   "execution_count": 67,
   "id": "49a69df0-5a80-46a2-8103-a27d2271eb38",
   "metadata": {},
   "outputs": [
    {
     "name": "stdout",
     "output_type": "stream",
     "text": [
      "1 \n",
      "2 2 \n",
      "3 3 3 \n",
      "4 4 4 4 \n",
      "5 5 5 5 5 \n"
     ]
    }
   ],
   "source": [
    "for i in range(1,6):\n",
    "    for k in range(1,i+1):\n",
    "        print(i,end=\" \")\n",
    "    print()"
   ]
  },
  {
   "cell_type": "code",
   "execution_count": 68,
   "id": "eca85484-4525-4993-951e-c8bca8953061",
   "metadata": {},
   "outputs": [
    {
     "name": "stdout",
     "output_type": "stream",
     "text": [
      "5 5 5 5 5 \n",
      "4 4 4 4 \n",
      "3 3 3 \n",
      "2 2 \n",
      "1 \n",
      "\n"
     ]
    }
   ],
   "source": [
    "for i in range(5,-1,-1):\n",
    "    for k in range(1,i+1):\n",
    "        print(i,end=\" \")\n",
    "    print()"
   ]
  },
  {
   "cell_type": "code",
   "execution_count": 82,
   "id": "bf794b22-362c-4b9d-b6ac-61dfadebe5dd",
   "metadata": {},
   "outputs": [
    {
     "name": "stdout",
     "output_type": "stream",
     "text": [
      "1 \n",
      "2 2 \n",
      "3 3 3 \n",
      "4 4 4 4 \n",
      "5 5 5 5 5 \n",
      "4 4 4 4 \n",
      "3 3 3 \n",
      "2 2 \n",
      "1 \n",
      "\n"
     ]
    }
   ],
   "source": [
    "for i in range(1,6):\n",
    "    for k in range(1,i+1):\n",
    "        print(i,end=\" \")\n",
    "    print()\n",
    "for i in range(4,-1,-1):\n",
    "    for k in range(1,i+1):\n",
    "        print(i,end=\" \")\n",
    "    print()"
   ]
  },
  {
   "cell_type": "raw",
   "id": "4cd22d17-f4f4-4324-aacd-f6ac052597ae",
   "metadata": {},
   "source": [
    "    *\n",
    "   * *\n",
    "  * * *\n",
    " * * * *"
   ]
  },
  {
   "cell_type": "code",
   "execution_count": 5,
   "id": "c594a9ba-27b7-490e-951f-007518d18d71",
   "metadata": {},
   "outputs": [
    {
     "name": "stdout",
     "output_type": "stream",
     "text": [
      "     * \n",
      "    * * \n",
      "   * * * \n",
      "  * * * * \n"
     ]
    }
   ],
   "source": [
    "rows=5\n",
    "for i in range(1,rows):\n",
    "    print(\" \"*rows,end=\"\")\n",
    "    print(\"* \"*i)\n",
    "    rows-=1"
   ]
  },
  {
   "cell_type": "raw",
   "id": "12282300-c3b8-4cad-8967-71169d0c45fe",
   "metadata": {},
   "source": [
    "1\n",
    "2 1 \n",
    "3 2 1\n",
    "4 3 2 1\n",
    "5 4 3 2 1"
   ]
  },
  {
   "cell_type": "code",
   "execution_count": 27,
   "id": "7d78fd01-a7de-44e1-958c-6b425aaaa1dc",
   "metadata": {},
   "outputs": [
    {
     "name": "stdout",
     "output_type": "stream",
     "text": [
      "1 \n",
      "2 1 \n",
      "3 2 1 \n",
      "4 3 2 1 \n",
      "5 4 3 2 1 \n"
     ]
    }
   ],
   "source": [
    "rows=5\n",
    "for i in range(1,rows+1):\n",
    "    for j in range(i,0,-1):\n",
    "        print(j,end=\" \")\n",
    "    print()"
   ]
  },
  {
   "cell_type": "raw",
   "id": "1a1876b7-6922-4ae2-801a-91683bfcdf28",
   "metadata": {},
   "source": [
    "1 1 1 1 1 \n",
    "2 2 2 2 \n",
    "3 3 3 \n",
    "4 4 \n",
    "5 \n"
   ]
  },
  {
   "cell_type": "code",
   "execution_count": 40,
   "id": "5386850d-fe8a-4616-98d9-1445068c349d",
   "metadata": {},
   "outputs": [
    {
     "name": "stdout",
     "output_type": "stream",
     "text": [
      "1 1 1 1 1 \n",
      "2 2 2 2 \n",
      "3 3 3 \n",
      "4 4 \n",
      "5 \n"
     ]
    }
   ],
   "source": [
    "rows=5\n",
    "for i in range(1,rows+1):\n",
    "    for k in range(i,rows+1):\n",
    "        print(i,end=\" \")\n",
    "    print()"
   ]
  },
  {
   "cell_type": "code",
   "execution_count": 38,
   "id": "93228cb1-39e3-45d7-991c-b612a4862245",
   "metadata": {},
   "outputs": [
    {
     "name": "stdout",
     "output_type": "stream",
     "text": [
      "1 \n",
      "2 2 \n",
      "3 3 3 \n",
      "4 4 4 4 \n",
      "5 5 5 5 5 \n"
     ]
    }
   ],
   "source": [
    "rows=5\n",
    "for i in range(1,rows+1):\n",
    "    for k in range(i,0,-1):\n",
    "        print(i,end=\" \")\n",
    "    print()"
   ]
  },
  {
   "cell_type": "code",
   "execution_count": 46,
   "id": "4f6d4d03-c7f7-4e21-bdd8-62c874f48a9d",
   "metadata": {},
   "outputs": [
    {
     "name": "stdout",
     "output_type": "stream",
     "text": [
      "5 5 5 5 5 \n",
      "4 4 4 4 \n",
      "3 3 3 \n",
      "2 2 \n",
      "1 \n"
     ]
    }
   ],
   "source": [
    "rows=5\n",
    "for i in range(rows,0,-1):\n",
    "    for k in range(0,i):\n",
    "        print(i, end=\" \")\n",
    "    print()"
   ]
  },
  {
   "cell_type": "raw",
   "id": "6f1b7579-7834-4dc3-ab5c-84e170d16613",
   "metadata": {},
   "source": [
    "1\n",
    "1 2 \n",
    "1 2 3\n",
    "1 2 3 4\n",
    "1 2 3 4 5"
   ]
  },
  {
   "cell_type": "code",
   "execution_count": 63,
   "id": "615a4e54-7495-4789-aa01-a849f3d2902c",
   "metadata": {},
   "outputs": [
    {
     "name": "stdout",
     "output_type": "stream",
     "text": [
      "1 \n",
      "1 2 \n",
      "1 2 3 \n",
      "1 2 3 4 \n",
      "1 2 3 4 5 \n"
     ]
    }
   ],
   "source": [
    "rows=5\n",
    "for i in range(1,rows+1):\n",
    "    for k in range(1,i+1):\n",
    "        print(k, end=\" \")\n",
    "    print()"
   ]
  },
  {
   "cell_type": "raw",
   "id": "0fc0e213-84d3-4fd4-a645-b20c83594378",
   "metadata": {},
   "source": [
    "a\n",
    "b b\n",
    "c c c\n",
    "d d d d\n",
    "e e e e e"
   ]
  },
  {
   "cell_type": "code",
   "execution_count": 71,
   "id": "1acb6187-8686-48a4-b606-9d1c6d30569a",
   "metadata": {},
   "outputs": [
    {
     "name": "stdout",
     "output_type": "stream",
     "text": [
      "A \n",
      "B C \n",
      "D E F \n",
      "G H I J \n",
      "K L M N O \n",
      "P Q R S T U \n",
      "V W X Y Z [ \\ \n"
     ]
    }
   ],
   "source": [
    "rows=7\n",
    "value=65\n",
    "\n",
    "for i in range(1,rows+1):\n",
    "    for k in range(1,i+1):\n",
    "        alpha=chr(value)\n",
    "        print(alpha,end=\" \")\n",
    "        value=value+1\n",
    "    print()"
   ]
  },
  {
   "cell_type": "code",
   "execution_count": null,
   "id": "7236ae5e-a9d7-4e62-abf9-bba86c2da001",
   "metadata": {},
   "outputs": [],
   "source": []
  }
 ],
 "metadata": {
  "kernelspec": {
   "display_name": "Python 3 (ipykernel)",
   "language": "python",
   "name": "python3"
  },
  "language_info": {
   "codemirror_mode": {
    "name": "ipython",
    "version": 3
   },
   "file_extension": ".py",
   "mimetype": "text/x-python",
   "name": "python",
   "nbconvert_exporter": "python",
   "pygments_lexer": "ipython3",
   "version": "3.11.7"
  },
  "widgets": {
   "application/vnd.jupyter.widget-state+json": {
    "state": {},
    "version_major": 2,
    "version_minor": 0
   }
  }
 },
 "nbformat": 4,
 "nbformat_minor": 5
}
